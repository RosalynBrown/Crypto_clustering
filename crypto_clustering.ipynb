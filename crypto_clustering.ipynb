{
 "cells": [
  {
   "cell_type": "markdown",
   "metadata": {},
   "source": [
    "# Clustering Crypto"
   ]
  },
  {
   "cell_type": "code",
   "execution_count": 82,
   "metadata": {},
   "outputs": [],
   "source": [
    "# Initial imports\n",
    "from pathlib import Path\n",
    "import requests\n",
    "import pandas as pd\n",
    "import matplotlib.pyplot as plt\n",
    "import hvplot.pandas\n",
    "import plotly.express as px\n",
    "from sklearn.preprocessing import StandardScaler, MinMaxScaler\n",
    "from sklearn.decomposition import PCA\n",
    "from sklearn.cluster import KMeans"
   ]
  },
  {
   "cell_type": "markdown",
   "metadata": {},
   "source": [
    "### Fetching Cryptocurrency Data"
   ]
  },
  {
   "cell_type": "code",
   "execution_count": 83,
   "metadata": {},
   "outputs": [],
   "source": [
    "# Use the following endpoint to fetch json data\n",
    "url = \"https://min-api.cryptocompare.com/data/all/coinlist\""
   ]
  },
  {
   "cell_type": "code",
   "execution_count": 84,
   "metadata": {},
   "outputs": [],
   "source": [
    "# Create a DataFrame \n",
    "# HINT: You will need to use the 'Data' key from the json response, then transpose the DataFrame."
   ]
  },
  {
   "cell_type": "code",
   "execution_count": 85,
   "metadata": {},
   "outputs": [
    {
     "data": {
      "text/html": [
       "<div>\n",
       "<style scoped>\n",
       "    .dataframe tbody tr th:only-of-type {\n",
       "        vertical-align: middle;\n",
       "    }\n",
       "\n",
       "    .dataframe tbody tr th {\n",
       "        vertical-align: top;\n",
       "    }\n",
       "\n",
       "    .dataframe thead th {\n",
       "        text-align: right;\n",
       "    }\n",
       "</style>\n",
       "<table border=\"1\" class=\"dataframe\">\n",
       "  <thead>\n",
       "    <tr style=\"text-align: right;\">\n",
       "      <th></th>\n",
       "      <th>CoinName</th>\n",
       "      <th>Algorithm</th>\n",
       "      <th>IsTrading</th>\n",
       "      <th>ProofType</th>\n",
       "      <th>TotalCoinsMined</th>\n",
       "      <th>TotalCoinSupply</th>\n",
       "    </tr>\n",
       "  </thead>\n",
       "  <tbody>\n",
       "    <tr>\n",
       "      <th>42</th>\n",
       "      <td>42 Coin</td>\n",
       "      <td>Scrypt</td>\n",
       "      <td>True</td>\n",
       "      <td>PoW/PoS</td>\n",
       "      <td>4.199995e+01</td>\n",
       "      <td>42</td>\n",
       "    </tr>\n",
       "    <tr>\n",
       "      <th>365</th>\n",
       "      <td>365Coin</td>\n",
       "      <td>X11</td>\n",
       "      <td>True</td>\n",
       "      <td>PoW/PoS</td>\n",
       "      <td>NaN</td>\n",
       "      <td>2300000000</td>\n",
       "    </tr>\n",
       "    <tr>\n",
       "      <th>404</th>\n",
       "      <td>404Coin</td>\n",
       "      <td>Scrypt</td>\n",
       "      <td>True</td>\n",
       "      <td>PoW/PoS</td>\n",
       "      <td>1.055185e+09</td>\n",
       "      <td>532000000</td>\n",
       "    </tr>\n",
       "    <tr>\n",
       "      <th>611</th>\n",
       "      <td>SixEleven</td>\n",
       "      <td>SHA-256</td>\n",
       "      <td>True</td>\n",
       "      <td>PoW</td>\n",
       "      <td>NaN</td>\n",
       "      <td>611000</td>\n",
       "    </tr>\n",
       "    <tr>\n",
       "      <th>808</th>\n",
       "      <td>808</td>\n",
       "      <td>SHA-256</td>\n",
       "      <td>True</td>\n",
       "      <td>PoW/PoS</td>\n",
       "      <td>0.000000e+00</td>\n",
       "      <td>0</td>\n",
       "    </tr>\n",
       "    <tr>\n",
       "      <th>...</th>\n",
       "      <td>...</td>\n",
       "      <td>...</td>\n",
       "      <td>...</td>\n",
       "      <td>...</td>\n",
       "      <td>...</td>\n",
       "      <td>...</td>\n",
       "    </tr>\n",
       "    <tr>\n",
       "      <th>XBC</th>\n",
       "      <td>BitcoinPlus</td>\n",
       "      <td>Scrypt</td>\n",
       "      <td>True</td>\n",
       "      <td>PoS</td>\n",
       "      <td>1.283270e+05</td>\n",
       "      <td>1000000</td>\n",
       "    </tr>\n",
       "    <tr>\n",
       "      <th>DVTC</th>\n",
       "      <td>DivotyCoin</td>\n",
       "      <td>Scrypt</td>\n",
       "      <td>False</td>\n",
       "      <td>PoW/PoS</td>\n",
       "      <td>2.149121e+07</td>\n",
       "      <td>100000000</td>\n",
       "    </tr>\n",
       "    <tr>\n",
       "      <th>GIOT</th>\n",
       "      <td>Giotto Coin</td>\n",
       "      <td>Scrypt</td>\n",
       "      <td>False</td>\n",
       "      <td>PoW/PoS</td>\n",
       "      <td>NaN</td>\n",
       "      <td>233100000</td>\n",
       "    </tr>\n",
       "    <tr>\n",
       "      <th>OPSC</th>\n",
       "      <td>OpenSourceCoin</td>\n",
       "      <td>SHA-256</td>\n",
       "      <td>False</td>\n",
       "      <td>PoW/PoS</td>\n",
       "      <td>NaN</td>\n",
       "      <td>21000000</td>\n",
       "    </tr>\n",
       "    <tr>\n",
       "      <th>PUNK</th>\n",
       "      <td>SteamPunk</td>\n",
       "      <td>PoS</td>\n",
       "      <td>False</td>\n",
       "      <td>PoS</td>\n",
       "      <td>NaN</td>\n",
       "      <td>40000000</td>\n",
       "    </tr>\n",
       "  </tbody>\n",
       "</table>\n",
       "<p>1252 rows × 6 columns</p>\n",
       "</div>"
      ],
      "text/plain": [
       "            CoinName Algorithm  IsTrading ProofType  TotalCoinsMined  \\\n",
       "42           42 Coin    Scrypt       True   PoW/PoS     4.199995e+01   \n",
       "365          365Coin       X11       True   PoW/PoS              NaN   \n",
       "404          404Coin    Scrypt       True   PoW/PoS     1.055185e+09   \n",
       "611        SixEleven   SHA-256       True       PoW              NaN   \n",
       "808              808   SHA-256       True   PoW/PoS     0.000000e+00   \n",
       "...              ...       ...        ...       ...              ...   \n",
       "XBC      BitcoinPlus    Scrypt       True       PoS     1.283270e+05   \n",
       "DVTC      DivotyCoin    Scrypt      False   PoW/PoS     2.149121e+07   \n",
       "GIOT     Giotto Coin    Scrypt      False   PoW/PoS              NaN   \n",
       "OPSC  OpenSourceCoin   SHA-256      False   PoW/PoS              NaN   \n",
       "PUNK       SteamPunk       PoS      False       PoS              NaN   \n",
       "\n",
       "     TotalCoinSupply  \n",
       "42                42  \n",
       "365       2300000000  \n",
       "404        532000000  \n",
       "611           611000  \n",
       "808                0  \n",
       "...              ...  \n",
       "XBC          1000000  \n",
       "DVTC       100000000  \n",
       "GIOT       233100000  \n",
       "OPSC        21000000  \n",
       "PUNK        40000000  \n",
       "\n",
       "[1252 rows x 6 columns]"
      ]
     },
     "execution_count": 85,
     "metadata": {},
     "output_type": "execute_result"
    }
   ],
   "source": [
    "# Alternatively, use the provided csv file:\n",
    "# file_path = Path(\"Resources/crypto_data.csv\")\n",
    "file_path = Path(\"Resources/crypto_data.csv\")\n",
    "\n",
    "# Create a DataFrame\n",
    "crypto_df = pd.read_csv(file_path, index_col=0)\n",
    "crypto_df"
   ]
  },
  {
   "cell_type": "markdown",
   "metadata": {},
   "source": [
    "### Data Preprocessing"
   ]
  },
  {
   "cell_type": "code",
   "execution_count": 86,
   "metadata": {},
   "outputs": [],
   "source": [
    "# Keep only necessary columns:\n",
    "# 'CoinName','Algorithm','IsTrading','ProofType','TotalCoinsMined','TotalCoinSupply'\n"
   ]
  },
  {
   "cell_type": "code",
   "execution_count": 87,
   "metadata": {},
   "outputs": [
    {
     "data": {
      "text/html": [
       "<div>\n",
       "<style scoped>\n",
       "    .dataframe tbody tr th:only-of-type {\n",
       "        vertical-align: middle;\n",
       "    }\n",
       "\n",
       "    .dataframe tbody tr th {\n",
       "        vertical-align: top;\n",
       "    }\n",
       "\n",
       "    .dataframe thead th {\n",
       "        text-align: right;\n",
       "    }\n",
       "</style>\n",
       "<table border=\"1\" class=\"dataframe\">\n",
       "  <thead>\n",
       "    <tr style=\"text-align: right;\">\n",
       "      <th></th>\n",
       "      <th>CoinName</th>\n",
       "      <th>Algorithm</th>\n",
       "      <th>IsTrading</th>\n",
       "      <th>ProofType</th>\n",
       "      <th>TotalCoinsMined</th>\n",
       "      <th>TotalCoinSupply</th>\n",
       "    </tr>\n",
       "  </thead>\n",
       "  <tbody>\n",
       "    <tr>\n",
       "      <th>42</th>\n",
       "      <td>42 Coin</td>\n",
       "      <td>Scrypt</td>\n",
       "      <td>True</td>\n",
       "      <td>PoW/PoS</td>\n",
       "      <td>4.199995e+01</td>\n",
       "      <td>42</td>\n",
       "    </tr>\n",
       "    <tr>\n",
       "      <th>365</th>\n",
       "      <td>365Coin</td>\n",
       "      <td>X11</td>\n",
       "      <td>True</td>\n",
       "      <td>PoW/PoS</td>\n",
       "      <td>NaN</td>\n",
       "      <td>2300000000</td>\n",
       "    </tr>\n",
       "    <tr>\n",
       "      <th>404</th>\n",
       "      <td>404Coin</td>\n",
       "      <td>Scrypt</td>\n",
       "      <td>True</td>\n",
       "      <td>PoW/PoS</td>\n",
       "      <td>1.055185e+09</td>\n",
       "      <td>532000000</td>\n",
       "    </tr>\n",
       "    <tr>\n",
       "      <th>611</th>\n",
       "      <td>SixEleven</td>\n",
       "      <td>SHA-256</td>\n",
       "      <td>True</td>\n",
       "      <td>PoW</td>\n",
       "      <td>NaN</td>\n",
       "      <td>611000</td>\n",
       "    </tr>\n",
       "    <tr>\n",
       "      <th>808</th>\n",
       "      <td>808</td>\n",
       "      <td>SHA-256</td>\n",
       "      <td>True</td>\n",
       "      <td>PoW/PoS</td>\n",
       "      <td>0.000000e+00</td>\n",
       "      <td>0</td>\n",
       "    </tr>\n",
       "    <tr>\n",
       "      <th>...</th>\n",
       "      <td>...</td>\n",
       "      <td>...</td>\n",
       "      <td>...</td>\n",
       "      <td>...</td>\n",
       "      <td>...</td>\n",
       "      <td>...</td>\n",
       "    </tr>\n",
       "    <tr>\n",
       "      <th>SERO</th>\n",
       "      <td>Super Zero</td>\n",
       "      <td>Ethash</td>\n",
       "      <td>True</td>\n",
       "      <td>PoW</td>\n",
       "      <td>NaN</td>\n",
       "      <td>1000000000</td>\n",
       "    </tr>\n",
       "    <tr>\n",
       "      <th>UOS</th>\n",
       "      <td>UOS</td>\n",
       "      <td>SHA-256</td>\n",
       "      <td>True</td>\n",
       "      <td>DPoI</td>\n",
       "      <td>NaN</td>\n",
       "      <td>1000000000</td>\n",
       "    </tr>\n",
       "    <tr>\n",
       "      <th>BDX</th>\n",
       "      <td>Beldex</td>\n",
       "      <td>CryptoNight</td>\n",
       "      <td>True</td>\n",
       "      <td>PoW</td>\n",
       "      <td>9.802226e+08</td>\n",
       "      <td>1400222610</td>\n",
       "    </tr>\n",
       "    <tr>\n",
       "      <th>ZEN</th>\n",
       "      <td>Horizen</td>\n",
       "      <td>Equihash</td>\n",
       "      <td>True</td>\n",
       "      <td>PoW</td>\n",
       "      <td>7.296538e+06</td>\n",
       "      <td>21000000</td>\n",
       "    </tr>\n",
       "    <tr>\n",
       "      <th>XBC</th>\n",
       "      <td>BitcoinPlus</td>\n",
       "      <td>Scrypt</td>\n",
       "      <td>True</td>\n",
       "      <td>PoS</td>\n",
       "      <td>1.283270e+05</td>\n",
       "      <td>1000000</td>\n",
       "    </tr>\n",
       "  </tbody>\n",
       "</table>\n",
       "<p>1144 rows × 6 columns</p>\n",
       "</div>"
      ],
      "text/plain": [
       "         CoinName    Algorithm  IsTrading ProofType  TotalCoinsMined  \\\n",
       "42        42 Coin       Scrypt       True   PoW/PoS     4.199995e+01   \n",
       "365       365Coin          X11       True   PoW/PoS              NaN   \n",
       "404       404Coin       Scrypt       True   PoW/PoS     1.055185e+09   \n",
       "611     SixEleven      SHA-256       True       PoW              NaN   \n",
       "808           808      SHA-256       True   PoW/PoS     0.000000e+00   \n",
       "...           ...          ...        ...       ...              ...   \n",
       "SERO   Super Zero       Ethash       True       PoW              NaN   \n",
       "UOS           UOS      SHA-256       True      DPoI              NaN   \n",
       "BDX        Beldex  CryptoNight       True       PoW     9.802226e+08   \n",
       "ZEN       Horizen     Equihash       True       PoW     7.296538e+06   \n",
       "XBC   BitcoinPlus       Scrypt       True       PoS     1.283270e+05   \n",
       "\n",
       "     TotalCoinSupply  \n",
       "42                42  \n",
       "365       2300000000  \n",
       "404        532000000  \n",
       "611           611000  \n",
       "808                0  \n",
       "...              ...  \n",
       "SERO      1000000000  \n",
       "UOS       1000000000  \n",
       "BDX       1400222610  \n",
       "ZEN         21000000  \n",
       "XBC          1000000  \n",
       "\n",
       "[1144 rows x 6 columns]"
      ]
     },
     "execution_count": 87,
     "metadata": {},
     "output_type": "execute_result"
    }
   ],
   "source": [
    "# Keep only cryptocurrencies that are trading\n",
    "crypto_df = crypto_df[crypto_df['IsTrading'] == True]\n",
    "crypto_df"
   ]
  },
  {
   "cell_type": "code",
   "execution_count": 88,
   "metadata": {},
   "outputs": [
    {
     "data": {
      "text/html": [
       "<div>\n",
       "<style scoped>\n",
       "    .dataframe tbody tr th:only-of-type {\n",
       "        vertical-align: middle;\n",
       "    }\n",
       "\n",
       "    .dataframe tbody tr th {\n",
       "        vertical-align: top;\n",
       "    }\n",
       "\n",
       "    .dataframe thead th {\n",
       "        text-align: right;\n",
       "    }\n",
       "</style>\n",
       "<table border=\"1\" class=\"dataframe\">\n",
       "  <thead>\n",
       "    <tr style=\"text-align: right;\">\n",
       "      <th></th>\n",
       "      <th>CoinName</th>\n",
       "      <th>Algorithm</th>\n",
       "      <th>IsTrading</th>\n",
       "      <th>ProofType</th>\n",
       "      <th>TotalCoinsMined</th>\n",
       "      <th>TotalCoinSupply</th>\n",
       "    </tr>\n",
       "  </thead>\n",
       "  <tbody>\n",
       "    <tr>\n",
       "      <th>42</th>\n",
       "      <td>42 Coin</td>\n",
       "      <td>Scrypt</td>\n",
       "      <td>True</td>\n",
       "      <td>PoW/PoS</td>\n",
       "      <td>4.199995e+01</td>\n",
       "      <td>42</td>\n",
       "    </tr>\n",
       "    <tr>\n",
       "      <th>365</th>\n",
       "      <td>365Coin</td>\n",
       "      <td>X11</td>\n",
       "      <td>True</td>\n",
       "      <td>PoW/PoS</td>\n",
       "      <td>NaN</td>\n",
       "      <td>2300000000</td>\n",
       "    </tr>\n",
       "    <tr>\n",
       "      <th>404</th>\n",
       "      <td>404Coin</td>\n",
       "      <td>Scrypt</td>\n",
       "      <td>True</td>\n",
       "      <td>PoW/PoS</td>\n",
       "      <td>1.055185e+09</td>\n",
       "      <td>532000000</td>\n",
       "    </tr>\n",
       "    <tr>\n",
       "      <th>611</th>\n",
       "      <td>SixEleven</td>\n",
       "      <td>SHA-256</td>\n",
       "      <td>True</td>\n",
       "      <td>PoW</td>\n",
       "      <td>NaN</td>\n",
       "      <td>611000</td>\n",
       "    </tr>\n",
       "    <tr>\n",
       "      <th>808</th>\n",
       "      <td>808</td>\n",
       "      <td>SHA-256</td>\n",
       "      <td>True</td>\n",
       "      <td>PoW/PoS</td>\n",
       "      <td>0.000000e+00</td>\n",
       "      <td>0</td>\n",
       "    </tr>\n",
       "    <tr>\n",
       "      <th>...</th>\n",
       "      <td>...</td>\n",
       "      <td>...</td>\n",
       "      <td>...</td>\n",
       "      <td>...</td>\n",
       "      <td>...</td>\n",
       "      <td>...</td>\n",
       "    </tr>\n",
       "    <tr>\n",
       "      <th>SERO</th>\n",
       "      <td>Super Zero</td>\n",
       "      <td>Ethash</td>\n",
       "      <td>True</td>\n",
       "      <td>PoW</td>\n",
       "      <td>NaN</td>\n",
       "      <td>1000000000</td>\n",
       "    </tr>\n",
       "    <tr>\n",
       "      <th>UOS</th>\n",
       "      <td>UOS</td>\n",
       "      <td>SHA-256</td>\n",
       "      <td>True</td>\n",
       "      <td>DPoI</td>\n",
       "      <td>NaN</td>\n",
       "      <td>1000000000</td>\n",
       "    </tr>\n",
       "    <tr>\n",
       "      <th>BDX</th>\n",
       "      <td>Beldex</td>\n",
       "      <td>CryptoNight</td>\n",
       "      <td>True</td>\n",
       "      <td>PoW</td>\n",
       "      <td>9.802226e+08</td>\n",
       "      <td>1400222610</td>\n",
       "    </tr>\n",
       "    <tr>\n",
       "      <th>ZEN</th>\n",
       "      <td>Horizen</td>\n",
       "      <td>Equihash</td>\n",
       "      <td>True</td>\n",
       "      <td>PoW</td>\n",
       "      <td>7.296538e+06</td>\n",
       "      <td>21000000</td>\n",
       "    </tr>\n",
       "    <tr>\n",
       "      <th>XBC</th>\n",
       "      <td>BitcoinPlus</td>\n",
       "      <td>Scrypt</td>\n",
       "      <td>True</td>\n",
       "      <td>PoS</td>\n",
       "      <td>1.283270e+05</td>\n",
       "      <td>1000000</td>\n",
       "    </tr>\n",
       "  </tbody>\n",
       "</table>\n",
       "<p>1144 rows × 6 columns</p>\n",
       "</div>"
      ],
      "text/plain": [
       "         CoinName    Algorithm  IsTrading ProofType  TotalCoinsMined  \\\n",
       "42        42 Coin       Scrypt       True   PoW/PoS     4.199995e+01   \n",
       "365       365Coin          X11       True   PoW/PoS              NaN   \n",
       "404       404Coin       Scrypt       True   PoW/PoS     1.055185e+09   \n",
       "611     SixEleven      SHA-256       True       PoW              NaN   \n",
       "808           808      SHA-256       True   PoW/PoS     0.000000e+00   \n",
       "...           ...          ...        ...       ...              ...   \n",
       "SERO   Super Zero       Ethash       True       PoW              NaN   \n",
       "UOS           UOS      SHA-256       True      DPoI              NaN   \n",
       "BDX        Beldex  CryptoNight       True       PoW     9.802226e+08   \n",
       "ZEN       Horizen     Equihash       True       PoW     7.296538e+06   \n",
       "XBC   BitcoinPlus       Scrypt       True       PoS     1.283270e+05   \n",
       "\n",
       "     TotalCoinSupply  \n",
       "42                42  \n",
       "365       2300000000  \n",
       "404        532000000  \n",
       "611           611000  \n",
       "808                0  \n",
       "...              ...  \n",
       "SERO      1000000000  \n",
       "UOS       1000000000  \n",
       "BDX       1400222610  \n",
       "ZEN         21000000  \n",
       "XBC          1000000  \n",
       "\n",
       "[1144 rows x 6 columns]"
      ]
     },
     "execution_count": 88,
     "metadata": {},
     "output_type": "execute_result"
    }
   ],
   "source": [
    "# Keep only cryptocurrencies with a working algorithm\n",
    "crypto_df = crypto_df[crypto_df[\"Algorithm\"] != \"N/A\"]\n",
    "crypto_df"
   ]
  },
  {
   "cell_type": "code",
   "execution_count": 89,
   "metadata": {},
   "outputs": [
    {
     "data": {
      "text/html": [
       "<div>\n",
       "<style scoped>\n",
       "    .dataframe tbody tr th:only-of-type {\n",
       "        vertical-align: middle;\n",
       "    }\n",
       "\n",
       "    .dataframe tbody tr th {\n",
       "        vertical-align: top;\n",
       "    }\n",
       "\n",
       "    .dataframe thead th {\n",
       "        text-align: right;\n",
       "    }\n",
       "</style>\n",
       "<table border=\"1\" class=\"dataframe\">\n",
       "  <thead>\n",
       "    <tr style=\"text-align: right;\">\n",
       "      <th></th>\n",
       "      <th>CoinName</th>\n",
       "      <th>Algorithm</th>\n",
       "      <th>ProofType</th>\n",
       "      <th>TotalCoinsMined</th>\n",
       "      <th>TotalCoinSupply</th>\n",
       "    </tr>\n",
       "  </thead>\n",
       "  <tbody>\n",
       "    <tr>\n",
       "      <th>42</th>\n",
       "      <td>42 Coin</td>\n",
       "      <td>Scrypt</td>\n",
       "      <td>PoW/PoS</td>\n",
       "      <td>4.199995e+01</td>\n",
       "      <td>42</td>\n",
       "    </tr>\n",
       "    <tr>\n",
       "      <th>365</th>\n",
       "      <td>365Coin</td>\n",
       "      <td>X11</td>\n",
       "      <td>PoW/PoS</td>\n",
       "      <td>NaN</td>\n",
       "      <td>2300000000</td>\n",
       "    </tr>\n",
       "    <tr>\n",
       "      <th>404</th>\n",
       "      <td>404Coin</td>\n",
       "      <td>Scrypt</td>\n",
       "      <td>PoW/PoS</td>\n",
       "      <td>1.055185e+09</td>\n",
       "      <td>532000000</td>\n",
       "    </tr>\n",
       "    <tr>\n",
       "      <th>611</th>\n",
       "      <td>SixEleven</td>\n",
       "      <td>SHA-256</td>\n",
       "      <td>PoW</td>\n",
       "      <td>NaN</td>\n",
       "      <td>611000</td>\n",
       "    </tr>\n",
       "    <tr>\n",
       "      <th>808</th>\n",
       "      <td>808</td>\n",
       "      <td>SHA-256</td>\n",
       "      <td>PoW/PoS</td>\n",
       "      <td>0.000000e+00</td>\n",
       "      <td>0</td>\n",
       "    </tr>\n",
       "    <tr>\n",
       "      <th>...</th>\n",
       "      <td>...</td>\n",
       "      <td>...</td>\n",
       "      <td>...</td>\n",
       "      <td>...</td>\n",
       "      <td>...</td>\n",
       "    </tr>\n",
       "    <tr>\n",
       "      <th>SERO</th>\n",
       "      <td>Super Zero</td>\n",
       "      <td>Ethash</td>\n",
       "      <td>PoW</td>\n",
       "      <td>NaN</td>\n",
       "      <td>1000000000</td>\n",
       "    </tr>\n",
       "    <tr>\n",
       "      <th>UOS</th>\n",
       "      <td>UOS</td>\n",
       "      <td>SHA-256</td>\n",
       "      <td>DPoI</td>\n",
       "      <td>NaN</td>\n",
       "      <td>1000000000</td>\n",
       "    </tr>\n",
       "    <tr>\n",
       "      <th>BDX</th>\n",
       "      <td>Beldex</td>\n",
       "      <td>CryptoNight</td>\n",
       "      <td>PoW</td>\n",
       "      <td>9.802226e+08</td>\n",
       "      <td>1400222610</td>\n",
       "    </tr>\n",
       "    <tr>\n",
       "      <th>ZEN</th>\n",
       "      <td>Horizen</td>\n",
       "      <td>Equihash</td>\n",
       "      <td>PoW</td>\n",
       "      <td>7.296538e+06</td>\n",
       "      <td>21000000</td>\n",
       "    </tr>\n",
       "    <tr>\n",
       "      <th>XBC</th>\n",
       "      <td>BitcoinPlus</td>\n",
       "      <td>Scrypt</td>\n",
       "      <td>PoS</td>\n",
       "      <td>1.283270e+05</td>\n",
       "      <td>1000000</td>\n",
       "    </tr>\n",
       "  </tbody>\n",
       "</table>\n",
       "<p>1144 rows × 5 columns</p>\n",
       "</div>"
      ],
      "text/plain": [
       "         CoinName    Algorithm ProofType  TotalCoinsMined TotalCoinSupply\n",
       "42        42 Coin       Scrypt   PoW/PoS     4.199995e+01              42\n",
       "365       365Coin          X11   PoW/PoS              NaN      2300000000\n",
       "404       404Coin       Scrypt   PoW/PoS     1.055185e+09       532000000\n",
       "611     SixEleven      SHA-256       PoW              NaN          611000\n",
       "808           808      SHA-256   PoW/PoS     0.000000e+00               0\n",
       "...           ...          ...       ...              ...             ...\n",
       "SERO   Super Zero       Ethash       PoW              NaN      1000000000\n",
       "UOS           UOS      SHA-256      DPoI              NaN      1000000000\n",
       "BDX        Beldex  CryptoNight       PoW     9.802226e+08      1400222610\n",
       "ZEN       Horizen     Equihash       PoW     7.296538e+06        21000000\n",
       "XBC   BitcoinPlus       Scrypt       PoS     1.283270e+05         1000000\n",
       "\n",
       "[1144 rows x 5 columns]"
      ]
     },
     "execution_count": 89,
     "metadata": {},
     "output_type": "execute_result"
    }
   ],
   "source": [
    "# Remove the \"IsTrading\" column\n",
    "crypto_df = crypto_df.drop(columns='IsTrading')\n",
    "crypto_df"
   ]
  },
  {
   "cell_type": "code",
   "execution_count": 90,
   "metadata": {},
   "outputs": [
    {
     "data": {
      "text/html": [
       "<div>\n",
       "<style scoped>\n",
       "    .dataframe tbody tr th:only-of-type {\n",
       "        vertical-align: middle;\n",
       "    }\n",
       "\n",
       "    .dataframe tbody tr th {\n",
       "        vertical-align: top;\n",
       "    }\n",
       "\n",
       "    .dataframe thead th {\n",
       "        text-align: right;\n",
       "    }\n",
       "</style>\n",
       "<table border=\"1\" class=\"dataframe\">\n",
       "  <thead>\n",
       "    <tr style=\"text-align: right;\">\n",
       "      <th></th>\n",
       "      <th>CoinName</th>\n",
       "      <th>Algorithm</th>\n",
       "      <th>ProofType</th>\n",
       "      <th>TotalCoinsMined</th>\n",
       "      <th>TotalCoinSupply</th>\n",
       "    </tr>\n",
       "  </thead>\n",
       "  <tbody>\n",
       "    <tr>\n",
       "      <th>42</th>\n",
       "      <td>42 Coin</td>\n",
       "      <td>Scrypt</td>\n",
       "      <td>PoW/PoS</td>\n",
       "      <td>4.199995e+01</td>\n",
       "      <td>42</td>\n",
       "    </tr>\n",
       "    <tr>\n",
       "      <th>404</th>\n",
       "      <td>404Coin</td>\n",
       "      <td>Scrypt</td>\n",
       "      <td>PoW/PoS</td>\n",
       "      <td>1.055185e+09</td>\n",
       "      <td>532000000</td>\n",
       "    </tr>\n",
       "    <tr>\n",
       "      <th>808</th>\n",
       "      <td>808</td>\n",
       "      <td>SHA-256</td>\n",
       "      <td>PoW/PoS</td>\n",
       "      <td>0.000000e+00</td>\n",
       "      <td>0</td>\n",
       "    </tr>\n",
       "    <tr>\n",
       "      <th>1337</th>\n",
       "      <td>EliteCoin</td>\n",
       "      <td>X13</td>\n",
       "      <td>PoW/PoS</td>\n",
       "      <td>2.927942e+10</td>\n",
       "      <td>314159265359</td>\n",
       "    </tr>\n",
       "    <tr>\n",
       "      <th>BTC</th>\n",
       "      <td>Bitcoin</td>\n",
       "      <td>SHA-256</td>\n",
       "      <td>PoW</td>\n",
       "      <td>1.792718e+07</td>\n",
       "      <td>21000000</td>\n",
       "    </tr>\n",
       "    <tr>\n",
       "      <th>...</th>\n",
       "      <td>...</td>\n",
       "      <td>...</td>\n",
       "      <td>...</td>\n",
       "      <td>...</td>\n",
       "      <td>...</td>\n",
       "    </tr>\n",
       "    <tr>\n",
       "      <th>ZEPH</th>\n",
       "      <td>ZEPHYR</td>\n",
       "      <td>SHA-256</td>\n",
       "      <td>DPoS</td>\n",
       "      <td>2.000000e+09</td>\n",
       "      <td>2000000000</td>\n",
       "    </tr>\n",
       "    <tr>\n",
       "      <th>GAP</th>\n",
       "      <td>Gapcoin</td>\n",
       "      <td>Scrypt</td>\n",
       "      <td>PoW/PoS</td>\n",
       "      <td>1.493105e+07</td>\n",
       "      <td>250000000</td>\n",
       "    </tr>\n",
       "    <tr>\n",
       "      <th>BDX</th>\n",
       "      <td>Beldex</td>\n",
       "      <td>CryptoNight</td>\n",
       "      <td>PoW</td>\n",
       "      <td>9.802226e+08</td>\n",
       "      <td>1400222610</td>\n",
       "    </tr>\n",
       "    <tr>\n",
       "      <th>ZEN</th>\n",
       "      <td>Horizen</td>\n",
       "      <td>Equihash</td>\n",
       "      <td>PoW</td>\n",
       "      <td>7.296538e+06</td>\n",
       "      <td>21000000</td>\n",
       "    </tr>\n",
       "    <tr>\n",
       "      <th>XBC</th>\n",
       "      <td>BitcoinPlus</td>\n",
       "      <td>Scrypt</td>\n",
       "      <td>PoS</td>\n",
       "      <td>1.283270e+05</td>\n",
       "      <td>1000000</td>\n",
       "    </tr>\n",
       "  </tbody>\n",
       "</table>\n",
       "<p>685 rows × 5 columns</p>\n",
       "</div>"
      ],
      "text/plain": [
       "         CoinName    Algorithm ProofType  TotalCoinsMined TotalCoinSupply\n",
       "42        42 Coin       Scrypt   PoW/PoS     4.199995e+01              42\n",
       "404       404Coin       Scrypt   PoW/PoS     1.055185e+09       532000000\n",
       "808           808      SHA-256   PoW/PoS     0.000000e+00               0\n",
       "1337    EliteCoin          X13   PoW/PoS     2.927942e+10    314159265359\n",
       "BTC       Bitcoin      SHA-256       PoW     1.792718e+07        21000000\n",
       "...           ...          ...       ...              ...             ...\n",
       "ZEPH       ZEPHYR      SHA-256      DPoS     2.000000e+09      2000000000\n",
       "GAP       Gapcoin       Scrypt   PoW/PoS     1.493105e+07       250000000\n",
       "BDX        Beldex  CryptoNight       PoW     9.802226e+08      1400222610\n",
       "ZEN       Horizen     Equihash       PoW     7.296538e+06        21000000\n",
       "XBC   BitcoinPlus       Scrypt       PoS     1.283270e+05         1000000\n",
       "\n",
       "[685 rows x 5 columns]"
      ]
     },
     "execution_count": 90,
     "metadata": {},
     "output_type": "execute_result"
    }
   ],
   "source": [
    "# Remove rows with at least 1 null value\n",
    "crypto_df = crypto_df.dropna()\n",
    "crypto_df"
   ]
  },
  {
   "cell_type": "code",
   "execution_count": 91,
   "metadata": {},
   "outputs": [
    {
     "data": {
      "text/html": [
       "<div>\n",
       "<style scoped>\n",
       "    .dataframe tbody tr th:only-of-type {\n",
       "        vertical-align: middle;\n",
       "    }\n",
       "\n",
       "    .dataframe tbody tr th {\n",
       "        vertical-align: top;\n",
       "    }\n",
       "\n",
       "    .dataframe thead th {\n",
       "        text-align: right;\n",
       "    }\n",
       "</style>\n",
       "<table border=\"1\" class=\"dataframe\">\n",
       "  <thead>\n",
       "    <tr style=\"text-align: right;\">\n",
       "      <th></th>\n",
       "      <th>CoinName</th>\n",
       "      <th>Algorithm</th>\n",
       "      <th>ProofType</th>\n",
       "      <th>TotalCoinsMined</th>\n",
       "      <th>TotalCoinSupply</th>\n",
       "    </tr>\n",
       "  </thead>\n",
       "  <tbody>\n",
       "    <tr>\n",
       "      <th>42</th>\n",
       "      <td>42 Coin</td>\n",
       "      <td>Scrypt</td>\n",
       "      <td>PoW/PoS</td>\n",
       "      <td>4.199995e+01</td>\n",
       "      <td>42</td>\n",
       "    </tr>\n",
       "    <tr>\n",
       "      <th>404</th>\n",
       "      <td>404Coin</td>\n",
       "      <td>Scrypt</td>\n",
       "      <td>PoW/PoS</td>\n",
       "      <td>1.055185e+09</td>\n",
       "      <td>532000000</td>\n",
       "    </tr>\n",
       "    <tr>\n",
       "      <th>1337</th>\n",
       "      <td>EliteCoin</td>\n",
       "      <td>X13</td>\n",
       "      <td>PoW/PoS</td>\n",
       "      <td>2.927942e+10</td>\n",
       "      <td>314159265359</td>\n",
       "    </tr>\n",
       "    <tr>\n",
       "      <th>BTC</th>\n",
       "      <td>Bitcoin</td>\n",
       "      <td>SHA-256</td>\n",
       "      <td>PoW</td>\n",
       "      <td>1.792718e+07</td>\n",
       "      <td>21000000</td>\n",
       "    </tr>\n",
       "    <tr>\n",
       "      <th>ETH</th>\n",
       "      <td>Ethereum</td>\n",
       "      <td>Ethash</td>\n",
       "      <td>PoW</td>\n",
       "      <td>1.076842e+08</td>\n",
       "      <td>0</td>\n",
       "    </tr>\n",
       "    <tr>\n",
       "      <th>...</th>\n",
       "      <td>...</td>\n",
       "      <td>...</td>\n",
       "      <td>...</td>\n",
       "      <td>...</td>\n",
       "      <td>...</td>\n",
       "    </tr>\n",
       "    <tr>\n",
       "      <th>ZEPH</th>\n",
       "      <td>ZEPHYR</td>\n",
       "      <td>SHA-256</td>\n",
       "      <td>DPoS</td>\n",
       "      <td>2.000000e+09</td>\n",
       "      <td>2000000000</td>\n",
       "    </tr>\n",
       "    <tr>\n",
       "      <th>GAP</th>\n",
       "      <td>Gapcoin</td>\n",
       "      <td>Scrypt</td>\n",
       "      <td>PoW/PoS</td>\n",
       "      <td>1.493105e+07</td>\n",
       "      <td>250000000</td>\n",
       "    </tr>\n",
       "    <tr>\n",
       "      <th>BDX</th>\n",
       "      <td>Beldex</td>\n",
       "      <td>CryptoNight</td>\n",
       "      <td>PoW</td>\n",
       "      <td>9.802226e+08</td>\n",
       "      <td>1400222610</td>\n",
       "    </tr>\n",
       "    <tr>\n",
       "      <th>ZEN</th>\n",
       "      <td>Horizen</td>\n",
       "      <td>Equihash</td>\n",
       "      <td>PoW</td>\n",
       "      <td>7.296538e+06</td>\n",
       "      <td>21000000</td>\n",
       "    </tr>\n",
       "    <tr>\n",
       "      <th>XBC</th>\n",
       "      <td>BitcoinPlus</td>\n",
       "      <td>Scrypt</td>\n",
       "      <td>PoS</td>\n",
       "      <td>1.283270e+05</td>\n",
       "      <td>1000000</td>\n",
       "    </tr>\n",
       "  </tbody>\n",
       "</table>\n",
       "<p>532 rows × 5 columns</p>\n",
       "</div>"
      ],
      "text/plain": [
       "         CoinName    Algorithm ProofType  TotalCoinsMined TotalCoinSupply\n",
       "42        42 Coin       Scrypt   PoW/PoS     4.199995e+01              42\n",
       "404       404Coin       Scrypt   PoW/PoS     1.055185e+09       532000000\n",
       "1337    EliteCoin          X13   PoW/PoS     2.927942e+10    314159265359\n",
       "BTC       Bitcoin      SHA-256       PoW     1.792718e+07        21000000\n",
       "ETH      Ethereum       Ethash       PoW     1.076842e+08               0\n",
       "...           ...          ...       ...              ...             ...\n",
       "ZEPH       ZEPHYR      SHA-256      DPoS     2.000000e+09      2000000000\n",
       "GAP       Gapcoin       Scrypt   PoW/PoS     1.493105e+07       250000000\n",
       "BDX        Beldex  CryptoNight       PoW     9.802226e+08      1400222610\n",
       "ZEN       Horizen     Equihash       PoW     7.296538e+06        21000000\n",
       "XBC   BitcoinPlus       Scrypt       PoS     1.283270e+05         1000000\n",
       "\n",
       "[532 rows x 5 columns]"
      ]
     },
     "execution_count": 91,
     "metadata": {},
     "output_type": "execute_result"
    }
   ],
   "source": [
    "# Remove rows with cryptocurrencies having no coins mined\n",
    "crypto_df = crypto_df[crypto_df[\"TotalCoinsMined\"]> 0]\n",
    "crypto_df"
   ]
  },
  {
   "cell_type": "code",
   "execution_count": 92,
   "metadata": {},
   "outputs": [
    {
     "data": {
      "text/html": [
       "<div>\n",
       "<style scoped>\n",
       "    .dataframe tbody tr th:only-of-type {\n",
       "        vertical-align: middle;\n",
       "    }\n",
       "\n",
       "    .dataframe tbody tr th {\n",
       "        vertical-align: top;\n",
       "    }\n",
       "\n",
       "    .dataframe thead th {\n",
       "        text-align: right;\n",
       "    }\n",
       "</style>\n",
       "<table border=\"1\" class=\"dataframe\">\n",
       "  <thead>\n",
       "    <tr style=\"text-align: right;\">\n",
       "      <th></th>\n",
       "      <th>CoinName</th>\n",
       "      <th>Algorithm</th>\n",
       "      <th>ProofType</th>\n",
       "      <th>TotalCoinsMined</th>\n",
       "      <th>TotalCoinSupply</th>\n",
       "    </tr>\n",
       "  </thead>\n",
       "  <tbody>\n",
       "    <tr>\n",
       "      <th>42</th>\n",
       "      <td>42 Coin</td>\n",
       "      <td>Scrypt</td>\n",
       "      <td>PoW/PoS</td>\n",
       "      <td>4.199995e+01</td>\n",
       "      <td>42</td>\n",
       "    </tr>\n",
       "    <tr>\n",
       "      <th>404</th>\n",
       "      <td>404Coin</td>\n",
       "      <td>Scrypt</td>\n",
       "      <td>PoW/PoS</td>\n",
       "      <td>1.055185e+09</td>\n",
       "      <td>532000000</td>\n",
       "    </tr>\n",
       "    <tr>\n",
       "      <th>1337</th>\n",
       "      <td>EliteCoin</td>\n",
       "      <td>X13</td>\n",
       "      <td>PoW/PoS</td>\n",
       "      <td>2.927942e+10</td>\n",
       "      <td>314159265359</td>\n",
       "    </tr>\n",
       "    <tr>\n",
       "      <th>BTC</th>\n",
       "      <td>Bitcoin</td>\n",
       "      <td>SHA-256</td>\n",
       "      <td>PoW</td>\n",
       "      <td>1.792718e+07</td>\n",
       "      <td>21000000</td>\n",
       "    </tr>\n",
       "    <tr>\n",
       "      <th>ETH</th>\n",
       "      <td>Ethereum</td>\n",
       "      <td>Ethash</td>\n",
       "      <td>PoW</td>\n",
       "      <td>1.076842e+08</td>\n",
       "      <td>0</td>\n",
       "    </tr>\n",
       "    <tr>\n",
       "      <th>...</th>\n",
       "      <td>...</td>\n",
       "      <td>...</td>\n",
       "      <td>...</td>\n",
       "      <td>...</td>\n",
       "      <td>...</td>\n",
       "    </tr>\n",
       "    <tr>\n",
       "      <th>ZEPH</th>\n",
       "      <td>ZEPHYR</td>\n",
       "      <td>SHA-256</td>\n",
       "      <td>DPoS</td>\n",
       "      <td>2.000000e+09</td>\n",
       "      <td>2000000000</td>\n",
       "    </tr>\n",
       "    <tr>\n",
       "      <th>GAP</th>\n",
       "      <td>Gapcoin</td>\n",
       "      <td>Scrypt</td>\n",
       "      <td>PoW/PoS</td>\n",
       "      <td>1.493105e+07</td>\n",
       "      <td>250000000</td>\n",
       "    </tr>\n",
       "    <tr>\n",
       "      <th>BDX</th>\n",
       "      <td>Beldex</td>\n",
       "      <td>CryptoNight</td>\n",
       "      <td>PoW</td>\n",
       "      <td>9.802226e+08</td>\n",
       "      <td>1400222610</td>\n",
       "    </tr>\n",
       "    <tr>\n",
       "      <th>ZEN</th>\n",
       "      <td>Horizen</td>\n",
       "      <td>Equihash</td>\n",
       "      <td>PoW</td>\n",
       "      <td>7.296538e+06</td>\n",
       "      <td>21000000</td>\n",
       "    </tr>\n",
       "    <tr>\n",
       "      <th>XBC</th>\n",
       "      <td>BitcoinPlus</td>\n",
       "      <td>Scrypt</td>\n",
       "      <td>PoS</td>\n",
       "      <td>1.283270e+05</td>\n",
       "      <td>1000000</td>\n",
       "    </tr>\n",
       "  </tbody>\n",
       "</table>\n",
       "<p>532 rows × 5 columns</p>\n",
       "</div>"
      ],
      "text/plain": [
       "         CoinName    Algorithm ProofType  TotalCoinsMined TotalCoinSupply\n",
       "42        42 Coin       Scrypt   PoW/PoS     4.199995e+01              42\n",
       "404       404Coin       Scrypt   PoW/PoS     1.055185e+09       532000000\n",
       "1337    EliteCoin          X13   PoW/PoS     2.927942e+10    314159265359\n",
       "BTC       Bitcoin      SHA-256       PoW     1.792718e+07        21000000\n",
       "ETH      Ethereum       Ethash       PoW     1.076842e+08               0\n",
       "...           ...          ...       ...              ...             ...\n",
       "ZEPH       ZEPHYR      SHA-256      DPoS     2.000000e+09      2000000000\n",
       "GAP       Gapcoin       Scrypt   PoW/PoS     1.493105e+07       250000000\n",
       "BDX        Beldex  CryptoNight       PoW     9.802226e+08      1400222610\n",
       "ZEN       Horizen     Equihash       PoW     7.296538e+06        21000000\n",
       "XBC   BitcoinPlus       Scrypt       PoS     1.283270e+05         1000000\n",
       "\n",
       "[532 rows x 5 columns]"
      ]
     },
     "execution_count": 92,
     "metadata": {},
     "output_type": "execute_result"
    }
   ],
   "source": [
    "# Drop rows where there are 'N/A' text values\n",
    "crypto_df = crypto_df[crypto_df!='N/A']\n",
    "crypto_df"
   ]
  },
  {
   "cell_type": "code",
   "execution_count": 93,
   "metadata": {},
   "outputs": [
    {
     "data": {
      "text/plain": [
       "42          42 Coin\n",
       "404         404Coin\n",
       "1337      EliteCoin\n",
       "BTC         Bitcoin\n",
       "ETH        Ethereum\n",
       "           ...     \n",
       "ZEPH         ZEPHYR\n",
       "GAP         Gapcoin\n",
       "BDX          Beldex\n",
       "ZEN         Horizen\n",
       "XBC     BitcoinPlus\n",
       "Name: CoinName, Length: 532, dtype: object"
      ]
     },
     "execution_count": 93,
     "metadata": {},
     "output_type": "execute_result"
    }
   ],
   "source": [
    "# Store the 'CoinName'column in its own DataFrame prior to dropping it from crypto_df\n",
    "coin_name = crypto_df['CoinName']\n",
    "coin_name"
   ]
  },
  {
   "cell_type": "code",
   "execution_count": 94,
   "metadata": {},
   "outputs": [],
   "source": [
    "# Drop the 'CoinName' column since it's not going to be used on the clustering algorithm\n",
    "crypto_df.drop(columns='CoinName', inplace=True)"
   ]
  },
  {
   "cell_type": "code",
   "execution_count": 95,
   "metadata": {},
   "outputs": [
    {
     "data": {
      "text/html": [
       "<div>\n",
       "<style scoped>\n",
       "    .dataframe tbody tr th:only-of-type {\n",
       "        vertical-align: middle;\n",
       "    }\n",
       "\n",
       "    .dataframe tbody tr th {\n",
       "        vertical-align: top;\n",
       "    }\n",
       "\n",
       "    .dataframe thead th {\n",
       "        text-align: right;\n",
       "    }\n",
       "</style>\n",
       "<table border=\"1\" class=\"dataframe\">\n",
       "  <thead>\n",
       "    <tr style=\"text-align: right;\">\n",
       "      <th></th>\n",
       "      <th>TotalCoinsMined</th>\n",
       "      <th>TotalCoinSupply</th>\n",
       "      <th>Algorithm_1GB AES Pattern Search</th>\n",
       "      <th>Algorithm_536</th>\n",
       "      <th>Algorithm_Argon2d</th>\n",
       "      <th>Algorithm_BLAKE256</th>\n",
       "      <th>Algorithm_Blake</th>\n",
       "      <th>Algorithm_Blake2S</th>\n",
       "      <th>Algorithm_Blake2b</th>\n",
       "      <th>Algorithm_C11</th>\n",
       "      <th>...</th>\n",
       "      <th>ProofType_PoW/PoS</th>\n",
       "      <th>ProofType_PoW/PoS</th>\n",
       "      <th>ProofType_PoW/PoW</th>\n",
       "      <th>ProofType_PoW/nPoS</th>\n",
       "      <th>ProofType_Pos</th>\n",
       "      <th>ProofType_Proof of Authority</th>\n",
       "      <th>ProofType_Proof of Trust</th>\n",
       "      <th>ProofType_TPoS</th>\n",
       "      <th>ProofType_Zero-Knowledge Proof</th>\n",
       "      <th>ProofType_dPoW/PoW</th>\n",
       "    </tr>\n",
       "  </thead>\n",
       "  <tbody>\n",
       "    <tr>\n",
       "      <th>42</th>\n",
       "      <td>4.199995e+01</td>\n",
       "      <td>42</td>\n",
       "      <td>0</td>\n",
       "      <td>0</td>\n",
       "      <td>0</td>\n",
       "      <td>0</td>\n",
       "      <td>0</td>\n",
       "      <td>0</td>\n",
       "      <td>0</td>\n",
       "      <td>0</td>\n",
       "      <td>...</td>\n",
       "      <td>1</td>\n",
       "      <td>0</td>\n",
       "      <td>0</td>\n",
       "      <td>0</td>\n",
       "      <td>0</td>\n",
       "      <td>0</td>\n",
       "      <td>0</td>\n",
       "      <td>0</td>\n",
       "      <td>0</td>\n",
       "      <td>0</td>\n",
       "    </tr>\n",
       "    <tr>\n",
       "      <th>404</th>\n",
       "      <td>1.055185e+09</td>\n",
       "      <td>532000000</td>\n",
       "      <td>0</td>\n",
       "      <td>0</td>\n",
       "      <td>0</td>\n",
       "      <td>0</td>\n",
       "      <td>0</td>\n",
       "      <td>0</td>\n",
       "      <td>0</td>\n",
       "      <td>0</td>\n",
       "      <td>...</td>\n",
       "      <td>1</td>\n",
       "      <td>0</td>\n",
       "      <td>0</td>\n",
       "      <td>0</td>\n",
       "      <td>0</td>\n",
       "      <td>0</td>\n",
       "      <td>0</td>\n",
       "      <td>0</td>\n",
       "      <td>0</td>\n",
       "      <td>0</td>\n",
       "    </tr>\n",
       "    <tr>\n",
       "      <th>1337</th>\n",
       "      <td>2.927942e+10</td>\n",
       "      <td>314159265359</td>\n",
       "      <td>0</td>\n",
       "      <td>0</td>\n",
       "      <td>0</td>\n",
       "      <td>0</td>\n",
       "      <td>0</td>\n",
       "      <td>0</td>\n",
       "      <td>0</td>\n",
       "      <td>0</td>\n",
       "      <td>...</td>\n",
       "      <td>1</td>\n",
       "      <td>0</td>\n",
       "      <td>0</td>\n",
       "      <td>0</td>\n",
       "      <td>0</td>\n",
       "      <td>0</td>\n",
       "      <td>0</td>\n",
       "      <td>0</td>\n",
       "      <td>0</td>\n",
       "      <td>0</td>\n",
       "    </tr>\n",
       "    <tr>\n",
       "      <th>BTC</th>\n",
       "      <td>1.792718e+07</td>\n",
       "      <td>21000000</td>\n",
       "      <td>0</td>\n",
       "      <td>0</td>\n",
       "      <td>0</td>\n",
       "      <td>0</td>\n",
       "      <td>0</td>\n",
       "      <td>0</td>\n",
       "      <td>0</td>\n",
       "      <td>0</td>\n",
       "      <td>...</td>\n",
       "      <td>0</td>\n",
       "      <td>0</td>\n",
       "      <td>0</td>\n",
       "      <td>0</td>\n",
       "      <td>0</td>\n",
       "      <td>0</td>\n",
       "      <td>0</td>\n",
       "      <td>0</td>\n",
       "      <td>0</td>\n",
       "      <td>0</td>\n",
       "    </tr>\n",
       "    <tr>\n",
       "      <th>ETH</th>\n",
       "      <td>1.076842e+08</td>\n",
       "      <td>0</td>\n",
       "      <td>0</td>\n",
       "      <td>0</td>\n",
       "      <td>0</td>\n",
       "      <td>0</td>\n",
       "      <td>0</td>\n",
       "      <td>0</td>\n",
       "      <td>0</td>\n",
       "      <td>0</td>\n",
       "      <td>...</td>\n",
       "      <td>0</td>\n",
       "      <td>0</td>\n",
       "      <td>0</td>\n",
       "      <td>0</td>\n",
       "      <td>0</td>\n",
       "      <td>0</td>\n",
       "      <td>0</td>\n",
       "      <td>0</td>\n",
       "      <td>0</td>\n",
       "      <td>0</td>\n",
       "    </tr>\n",
       "  </tbody>\n",
       "</table>\n",
       "<p>5 rows × 98 columns</p>\n",
       "</div>"
      ],
      "text/plain": [
       "      TotalCoinsMined TotalCoinSupply  Algorithm_1GB AES Pattern Search  \\\n",
       "42       4.199995e+01              42                                 0   \n",
       "404      1.055185e+09       532000000                                 0   \n",
       "1337     2.927942e+10    314159265359                                 0   \n",
       "BTC      1.792718e+07        21000000                                 0   \n",
       "ETH      1.076842e+08               0                                 0   \n",
       "\n",
       "      Algorithm_536  Algorithm_Argon2d  Algorithm_BLAKE256  Algorithm_Blake  \\\n",
       "42                0                  0                   0                0   \n",
       "404               0                  0                   0                0   \n",
       "1337              0                  0                   0                0   \n",
       "BTC               0                  0                   0                0   \n",
       "ETH               0                  0                   0                0   \n",
       "\n",
       "      Algorithm_Blake2S  Algorithm_Blake2b  Algorithm_C11  ...  \\\n",
       "42                    0                  0              0  ...   \n",
       "404                   0                  0              0  ...   \n",
       "1337                  0                  0              0  ...   \n",
       "BTC                   0                  0              0  ...   \n",
       "ETH                   0                  0              0  ...   \n",
       "\n",
       "      ProofType_PoW/PoS  ProofType_PoW/PoS   ProofType_PoW/PoW  \\\n",
       "42                    1                   0                  0   \n",
       "404                   1                   0                  0   \n",
       "1337                  1                   0                  0   \n",
       "BTC                   0                   0                  0   \n",
       "ETH                   0                   0                  0   \n",
       "\n",
       "      ProofType_PoW/nPoS  ProofType_Pos  ProofType_Proof of Authority  \\\n",
       "42                     0              0                             0   \n",
       "404                    0              0                             0   \n",
       "1337                   0              0                             0   \n",
       "BTC                    0              0                             0   \n",
       "ETH                    0              0                             0   \n",
       "\n",
       "      ProofType_Proof of Trust  ProofType_TPoS  \\\n",
       "42                           0               0   \n",
       "404                          0               0   \n",
       "1337                         0               0   \n",
       "BTC                          0               0   \n",
       "ETH                          0               0   \n",
       "\n",
       "      ProofType_Zero-Knowledge Proof  ProofType_dPoW/PoW  \n",
       "42                                 0                   0  \n",
       "404                                0                   0  \n",
       "1337                               0                   0  \n",
       "BTC                                0                   0  \n",
       "ETH                                0                   0  \n",
       "\n",
       "[5 rows x 98 columns]"
      ]
     },
     "execution_count": 95,
     "metadata": {},
     "output_type": "execute_result"
    }
   ],
   "source": [
    "# Create dummy variables for text features\n",
    "X = pd.get_dummies(crypto_df, columns=['Algorithm', 'ProofType'])\n",
    "X.head()"
   ]
  },
  {
   "cell_type": "code",
   "execution_count": 96,
   "metadata": {},
   "outputs": [
    {
     "data": {
      "text/plain": [
       "array([[-0.11710817, -0.1528703 , -0.0433963 , ..., -0.0433963 ,\n",
       "        -0.0433963 , -0.0433963 ],\n",
       "       [-0.09396955, -0.145009  , -0.0433963 , ..., -0.0433963 ,\n",
       "        -0.0433963 , -0.0433963 ],\n",
       "       [ 0.52494561,  4.48942416, -0.0433963 , ..., -0.0433963 ,\n",
       "        -0.0433963 , -0.0433963 ],\n",
       "       ...,\n",
       "       [-0.09561336, -0.13217937, -0.0433963 , ..., -0.0433963 ,\n",
       "        -0.0433963 , -0.0433963 ],\n",
       "       [-0.11694817, -0.15255998, -0.0433963 , ..., -0.0433963 ,\n",
       "        -0.0433963 , -0.0433963 ],\n",
       "       [-0.11710536, -0.15285552, -0.0433963 , ..., -0.0433963 ,\n",
       "        -0.0433963 , -0.0433963 ]])"
      ]
     },
     "execution_count": 96,
     "metadata": {},
     "output_type": "execute_result"
    }
   ],
   "source": [
    "# Standardize data\n",
    "X_scaled = StandardScaler().fit_transform(X)\n",
    "X_scaled"
   ]
  },
  {
   "cell_type": "markdown",
   "metadata": {},
   "source": [
    "### Reducing Dimensions Using PCA"
   ]
  },
  {
   "cell_type": "code",
   "execution_count": 97,
   "metadata": {},
   "outputs": [],
   "source": [
    "# Use PCA to reduce dimensions to 3 principal components\n",
    "pca = PCA(n_components=3)\n",
    "crypto_pca = pca.fit_transform(X_scaled)"
   ]
  },
  {
   "cell_type": "code",
   "execution_count": 98,
   "metadata": {},
   "outputs": [
    {
     "data": {
      "text/html": [
       "<div>\n",
       "<style scoped>\n",
       "    .dataframe tbody tr th:only-of-type {\n",
       "        vertical-align: middle;\n",
       "    }\n",
       "\n",
       "    .dataframe tbody tr th {\n",
       "        vertical-align: top;\n",
       "    }\n",
       "\n",
       "    .dataframe thead th {\n",
       "        text-align: right;\n",
       "    }\n",
       "</style>\n",
       "<table border=\"1\" class=\"dataframe\">\n",
       "  <thead>\n",
       "    <tr style=\"text-align: right;\">\n",
       "      <th></th>\n",
       "      <th>principal component 1</th>\n",
       "      <th>principal component 2</th>\n",
       "      <th>principal component 3</th>\n",
       "    </tr>\n",
       "  </thead>\n",
       "  <tbody>\n",
       "    <tr>\n",
       "      <th>42</th>\n",
       "      <td>-0.343157</td>\n",
       "      <td>0.991331</td>\n",
       "      <td>-0.578248</td>\n",
       "    </tr>\n",
       "    <tr>\n",
       "      <th>404</th>\n",
       "      <td>-0.326542</td>\n",
       "      <td>0.991922</td>\n",
       "      <td>-0.578782</td>\n",
       "    </tr>\n",
       "    <tr>\n",
       "      <th>1337</th>\n",
       "      <td>2.305412</td>\n",
       "      <td>1.838497</td>\n",
       "      <td>-0.713993</td>\n",
       "    </tr>\n",
       "    <tr>\n",
       "      <th>BTC</th>\n",
       "      <td>-0.145395</td>\n",
       "      <td>-1.250825</td>\n",
       "      <td>0.218734</td>\n",
       "    </tr>\n",
       "    <tr>\n",
       "      <th>ETH</th>\n",
       "      <td>-0.149908</td>\n",
       "      <td>-2.032114</td>\n",
       "      <td>0.377847</td>\n",
       "    </tr>\n",
       "  </tbody>\n",
       "</table>\n",
       "</div>"
      ],
      "text/plain": [
       "      principal component 1  principal component 2  principal component 3\n",
       "42                -0.343157               0.991331              -0.578248\n",
       "404               -0.326542               0.991922              -0.578782\n",
       "1337               2.305412               1.838497              -0.713993\n",
       "BTC               -0.145395              -1.250825               0.218734\n",
       "ETH               -0.149908              -2.032114               0.377847"
      ]
     },
     "execution_count": 98,
     "metadata": {},
     "output_type": "execute_result"
    }
   ],
   "source": [
    "# Create a DataFrame with the principal components data\n",
    "pc_df = pd.DataFrame(\n",
    "    data=crypto_pca, columns=[\"principal component 1\", \"principal component 2\", \"principal component 3\"],\n",
    "    index= crypto_df.index\n",
    ")\n",
    "pc_df.head()"
   ]
  },
  {
   "cell_type": "markdown",
   "metadata": {},
   "source": [
    "### Clustering Crytocurrencies Using K-Means\n",
    "\n",
    "#### Find the Best Value for `k` Using the Elbow Curve"
   ]
  },
  {
   "cell_type": "code",
   "execution_count": 99,
   "metadata": {},
   "outputs": [
    {
     "data": {},
     "metadata": {},
     "output_type": "display_data"
    },
    {
     "data": {
      "application/vnd.holoviews_exec.v0+json": "",
      "text/html": [
       "<div id='2319'>\n",
       "\n",
       "\n",
       "\n",
       "\n",
       "\n",
       "  <div class=\"bk-root\" id=\"3d157ac3-dc2b-4136-9736-e83c643e5d89\" data-root-id=\"2319\"></div>\n",
       "</div>\n",
       "<script type=\"application/javascript\">(function(root) {\n",
       "  function embed_document(root) {\n",
       "    var docs_json = {\"219e42d3-f7c3-48c8-9f83-1c1efc498d10\":{\"roots\":{\"references\":[{\"attributes\":{},\"id\":\"2355\",\"type\":\"Selection\"},{\"attributes\":{\"data_source\":{\"id\":\"2354\"},\"glyph\":{\"id\":\"2357\"},\"hover_glyph\":null,\"muted_glyph\":{\"id\":\"2359\"},\"nonselection_glyph\":{\"id\":\"2358\"},\"selection_glyph\":null,\"view\":{\"id\":\"2361\"}},\"id\":\"2360\",\"type\":\"GlyphRenderer\"},{\"attributes\":{\"margin\":[5,5,5,5],\"name\":\"HSpacer04695\",\"sizing_mode\":\"stretch_width\"},\"id\":\"2320\",\"type\":\"Spacer\"},{\"attributes\":{\"below\":[{\"id\":\"2333\"}],\"center\":[{\"id\":\"2336\"},{\"id\":\"2340\"}],\"left\":[{\"id\":\"2337\"}],\"margin\":[5,5,5,5],\"min_border_bottom\":10,\"min_border_left\":10,\"min_border_right\":10,\"min_border_top\":10,\"plot_height\":300,\"plot_width\":700,\"renderers\":[{\"id\":\"2360\"}],\"sizing_mode\":\"fixed\",\"title\":{\"id\":\"2325\"},\"toolbar\":{\"id\":\"2347\"},\"x_range\":{\"id\":\"2321\"},\"x_scale\":{\"id\":\"2329\"},\"y_range\":{\"id\":\"2322\"},\"y_scale\":{\"id\":\"2331\"}},\"id\":\"2324\",\"subtype\":\"Figure\",\"type\":\"Plot\"},{\"attributes\":{\"ticks\":[1,2,3,4,5,6,7,8,9,10]},\"id\":\"2362\",\"type\":\"FixedTicker\"},{\"attributes\":{\"axis\":{\"id\":\"2333\"},\"grid_line_color\":null,\"ticker\":null},\"id\":\"2336\",\"type\":\"Grid\"},{\"attributes\":{\"children\":[{\"id\":\"2320\"},{\"id\":\"2324\"},{\"id\":\"2383\"}],\"margin\":[0,0,0,0],\"name\":\"Row04691\",\"tags\":[\"embedded\"]},\"id\":\"2319\",\"type\":\"Row\"},{\"attributes\":{\"source\":{\"id\":\"2354\"}},\"id\":\"2361\",\"type\":\"CDSView\"},{\"attributes\":{\"callback\":null,\"renderers\":[{\"id\":\"2360\"}],\"tags\":[\"hv_created\"],\"tooltips\":[[\"k\",\"@{k}\"],[\"inertia\",\"@{inertia}\"]]},\"id\":\"2323\",\"type\":\"HoverTool\"},{\"attributes\":{\"text\":\"Elbow Curve\",\"text_color\":{\"value\":\"black\"},\"text_font_size\":{\"value\":\"12pt\"}},\"id\":\"2325\",\"type\":\"Title\"},{\"attributes\":{},\"id\":\"2364\",\"type\":\"BasicTickFormatter\"},{\"attributes\":{},\"id\":\"2374\",\"type\":\"UnionRenderers\"},{\"attributes\":{\"end\":3992.1437018191814,\"reset_end\":3992.1437018191814,\"reset_start\":-243.13516096734853,\"start\":-243.13516096734853,\"tags\":[[[\"inertia\",\"inertia\",null]]]},\"id\":\"2322\",\"type\":\"Range1d\"},{\"attributes\":{},\"id\":\"2368\",\"type\":\"BasicTickFormatter\"},{\"attributes\":{\"bottom_units\":\"screen\",\"fill_alpha\":0.5,\"fill_color\":\"lightgrey\",\"left_units\":\"screen\",\"level\":\"overlay\",\"line_alpha\":1.0,\"line_color\":\"black\",\"line_dash\":[4,4],\"line_width\":2,\"right_units\":\"screen\",\"top_units\":\"screen\"},\"id\":\"2346\",\"type\":\"BoxAnnotation\"},{\"attributes\":{},\"id\":\"2329\",\"type\":\"LinearScale\"},{\"attributes\":{\"end\":10.0,\"reset_end\":10.0,\"reset_start\":1.0,\"start\":1.0,\"tags\":[[[\"k\",\"k\",null]]]},\"id\":\"2321\",\"type\":\"Range1d\"},{\"attributes\":{\"data\":{\"inertia\":{\"__ndarray__\":\"JrgGWGhurEBEe8xBS1OjQCvp8CLeK5dA8eRb+FBlgECJlHug5Vh1QDfVdwSQwHBAPkBp78UNakAiqGeIY9xlQD6lfml5xmFAis4W7oBzW0A=\",\"dtype\":\"float64\",\"order\":\"little\",\"shape\":[10]},\"k\":[1,2,3,4,5,6,7,8,9,10]},\"selected\":{\"id\":\"2355\"},\"selection_policy\":{\"id\":\"2374\"}},\"id\":\"2354\",\"type\":\"ColumnDataSource\"},{\"attributes\":{\"margin\":[5,5,5,5],\"name\":\"HSpacer04696\",\"sizing_mode\":\"stretch_width\"},\"id\":\"2383\",\"type\":\"Spacer\"},{\"attributes\":{},\"id\":\"2342\",\"type\":\"PanTool\"},{\"attributes\":{},\"id\":\"2331\",\"type\":\"LinearScale\"},{\"attributes\":{\"axis_label\":\"k\",\"bounds\":\"auto\",\"formatter\":{\"id\":\"2364\"},\"major_label_orientation\":\"horizontal\",\"ticker\":{\"id\":\"2362\"}},\"id\":\"2333\",\"type\":\"LinearAxis\"},{\"attributes\":{\"axis\":{\"id\":\"2337\"},\"dimension\":1,\"grid_line_color\":null,\"ticker\":null},\"id\":\"2340\",\"type\":\"Grid\"},{\"attributes\":{\"axis_label\":\"inertia\",\"bounds\":\"auto\",\"formatter\":{\"id\":\"2368\"},\"major_label_orientation\":\"horizontal\",\"ticker\":{\"id\":\"2338\"}},\"id\":\"2337\",\"type\":\"LinearAxis\"},{\"attributes\":{\"line_alpha\":0.2,\"line_color\":\"#30a2da\",\"line_width\":2,\"x\":{\"field\":\"k\"},\"y\":{\"field\":\"inertia\"}},\"id\":\"2359\",\"type\":\"Line\"},{\"attributes\":{},\"id\":\"2338\",\"type\":\"BasicTicker\"},{\"attributes\":{},\"id\":\"2343\",\"type\":\"WheelZoomTool\"},{\"attributes\":{},\"id\":\"2341\",\"type\":\"SaveTool\"},{\"attributes\":{\"overlay\":{\"id\":\"2346\"}},\"id\":\"2344\",\"type\":\"BoxZoomTool\"},{\"attributes\":{},\"id\":\"2345\",\"type\":\"ResetTool\"},{\"attributes\":{\"active_drag\":\"auto\",\"active_inspect\":\"auto\",\"active_multi\":null,\"active_scroll\":\"auto\",\"active_tap\":\"auto\",\"tools\":[{\"id\":\"2323\"},{\"id\":\"2341\"},{\"id\":\"2342\"},{\"id\":\"2343\"},{\"id\":\"2344\"},{\"id\":\"2345\"}]},\"id\":\"2347\",\"type\":\"Toolbar\"},{\"attributes\":{\"line_color\":\"#30a2da\",\"line_width\":2,\"x\":{\"field\":\"k\"},\"y\":{\"field\":\"inertia\"}},\"id\":\"2357\",\"type\":\"Line\"},{\"attributes\":{\"line_alpha\":0.1,\"line_color\":\"#30a2da\",\"line_width\":2,\"x\":{\"field\":\"k\"},\"y\":{\"field\":\"inertia\"}},\"id\":\"2358\",\"type\":\"Line\"}],\"root_ids\":[\"2319\"]},\"title\":\"Bokeh Application\",\"version\":\"2.2.3\"}};\n",
       "    var render_items = [{\"docid\":\"219e42d3-f7c3-48c8-9f83-1c1efc498d10\",\"root_ids\":[\"2319\"],\"roots\":{\"2319\":\"3d157ac3-dc2b-4136-9736-e83c643e5d89\"}}];\n",
       "    root.Bokeh.embed.embed_items_notebook(docs_json, render_items);\n",
       "  }\n",
       "  if (root.Bokeh !== undefined && root.Bokeh.Panel !== undefined) {\n",
       "    embed_document(root);\n",
       "  } else {\n",
       "    var attempts = 0;\n",
       "    var timer = setInterval(function(root) {\n",
       "      if (root.Bokeh !== undefined && root.Bokeh.Panel !== undefined) {\n",
       "        clearInterval(timer);\n",
       "        embed_document(root);\n",
       "      } else if (document.readyState == \"complete\") {\n",
       "        attempts++;\n",
       "        if (attempts > 100) {\n",
       "          clearInterval(timer);\n",
       "          console.log(\"Bokeh: ERROR: Unable to run BokehJS code because BokehJS library is missing\");\n",
       "        }\n",
       "      }\n",
       "    }, 10, root)\n",
       "  }\n",
       "})(window);</script>"
      ],
      "text/plain": [
       ":Curve   [k]   (inertia)"
      ]
     },
     "execution_count": 99,
     "metadata": {
      "application/vnd.holoviews_exec.v0+json": {
       "id": "2319"
      }
     },
     "output_type": "execute_result"
    }
   ],
   "source": [
    "inertia = []\n",
    "k = list(range(1, 11))\n",
    "\n",
    "# Calculate the inertia for the range of k values\n",
    "for i in k:\n",
    "    km = KMeans(n_clusters=i, random_state=0)\n",
    "    km.fit(pc_df)\n",
    "    inertia.append(km.inertia_)\n",
    "\n",
    "# Create the Elbow Curve using hvPlot\n",
    "elbow_data = {\"k\": k, \"inertia\": inertia}\n",
    "df_elbow = pd.DataFrame(elbow_data)\n",
    "df_elbow.hvplot.line(x=\"k\", y=\"inertia\", xticks=k, title=\"Elbow Curve\")"
   ]
  },
  {
   "cell_type": "markdown",
   "metadata": {},
   "source": [
    "Running K-Means with `k=<your best value for k here>`"
   ]
  },
  {
   "cell_type": "code",
   "execution_count": 100,
   "metadata": {},
   "outputs": [
    {
     "data": {
      "text/html": [
       "<div>\n",
       "<style scoped>\n",
       "    .dataframe tbody tr th:only-of-type {\n",
       "        vertical-align: middle;\n",
       "    }\n",
       "\n",
       "    .dataframe tbody tr th {\n",
       "        vertical-align: top;\n",
       "    }\n",
       "\n",
       "    .dataframe thead th {\n",
       "        text-align: right;\n",
       "    }\n",
       "</style>\n",
       "<table border=\"1\" class=\"dataframe\">\n",
       "  <thead>\n",
       "    <tr style=\"text-align: right;\">\n",
       "      <th></th>\n",
       "      <th>Algorithm</th>\n",
       "      <th>ProofType</th>\n",
       "      <th>TotalCoinsMined</th>\n",
       "      <th>TotalCoinSupply</th>\n",
       "      <th>PC1</th>\n",
       "      <th>PC2</th>\n",
       "      <th>PC3</th>\n",
       "      <th>CoinName</th>\n",
       "      <th>Class</th>\n",
       "    </tr>\n",
       "  </thead>\n",
       "  <tbody>\n",
       "    <tr>\n",
       "      <th>42</th>\n",
       "      <td>Scrypt</td>\n",
       "      <td>PoW/PoS</td>\n",
       "      <td>4.199995e+01</td>\n",
       "      <td>42</td>\n",
       "      <td>-0.343157</td>\n",
       "      <td>0.991331</td>\n",
       "      <td>-0.578248</td>\n",
       "      <td>42 Coin</td>\n",
       "      <td>0</td>\n",
       "    </tr>\n",
       "    <tr>\n",
       "      <th>404</th>\n",
       "      <td>Scrypt</td>\n",
       "      <td>PoW/PoS</td>\n",
       "      <td>1.055185e+09</td>\n",
       "      <td>532000000</td>\n",
       "      <td>-0.326542</td>\n",
       "      <td>0.991922</td>\n",
       "      <td>-0.578782</td>\n",
       "      <td>404Coin</td>\n",
       "      <td>0</td>\n",
       "    </tr>\n",
       "    <tr>\n",
       "      <th>1337</th>\n",
       "      <td>X13</td>\n",
       "      <td>PoW/PoS</td>\n",
       "      <td>2.927942e+10</td>\n",
       "      <td>314159265359</td>\n",
       "      <td>2.305412</td>\n",
       "      <td>1.838497</td>\n",
       "      <td>-0.713993</td>\n",
       "      <td>EliteCoin</td>\n",
       "      <td>0</td>\n",
       "    </tr>\n",
       "    <tr>\n",
       "      <th>BTC</th>\n",
       "      <td>SHA-256</td>\n",
       "      <td>PoW</td>\n",
       "      <td>1.792718e+07</td>\n",
       "      <td>21000000</td>\n",
       "      <td>-0.145395</td>\n",
       "      <td>-1.250825</td>\n",
       "      <td>0.218734</td>\n",
       "      <td>Bitcoin</td>\n",
       "      <td>3</td>\n",
       "    </tr>\n",
       "    <tr>\n",
       "      <th>ETH</th>\n",
       "      <td>Ethash</td>\n",
       "      <td>PoW</td>\n",
       "      <td>1.076842e+08</td>\n",
       "      <td>0</td>\n",
       "      <td>-0.149908</td>\n",
       "      <td>-2.032114</td>\n",
       "      <td>0.377847</td>\n",
       "      <td>Ethereum</td>\n",
       "      <td>3</td>\n",
       "    </tr>\n",
       "    <tr>\n",
       "      <th>LTC</th>\n",
       "      <td>Scrypt</td>\n",
       "      <td>PoW</td>\n",
       "      <td>6.303924e+07</td>\n",
       "      <td>84000000</td>\n",
       "      <td>-0.176895</td>\n",
       "      <td>-1.173372</td>\n",
       "      <td>0.007909</td>\n",
       "      <td>Litecoin</td>\n",
       "      <td>3</td>\n",
       "    </tr>\n",
       "    <tr>\n",
       "      <th>DASH</th>\n",
       "      <td>X11</td>\n",
       "      <td>PoW/PoS</td>\n",
       "      <td>9.031294e+06</td>\n",
       "      <td>22000000</td>\n",
       "      <td>-0.374421</td>\n",
       "      <td>1.283073</td>\n",
       "      <td>-0.498983</td>\n",
       "      <td>Dash</td>\n",
       "      <td>0</td>\n",
       "    </tr>\n",
       "    <tr>\n",
       "      <th>XMR</th>\n",
       "      <td>CryptoNight-V7</td>\n",
       "      <td>PoW</td>\n",
       "      <td>1.720114e+07</td>\n",
       "      <td>0</td>\n",
       "      <td>-0.149155</td>\n",
       "      <td>-2.168430</td>\n",
       "      <td>0.438976</td>\n",
       "      <td>Monero</td>\n",
       "      <td>3</td>\n",
       "    </tr>\n",
       "    <tr>\n",
       "      <th>ETC</th>\n",
       "      <td>Ethash</td>\n",
       "      <td>PoW</td>\n",
       "      <td>1.133597e+08</td>\n",
       "      <td>210000000</td>\n",
       "      <td>-0.148355</td>\n",
       "      <td>-2.032169</td>\n",
       "      <td>0.377824</td>\n",
       "      <td>Ethereum Classic</td>\n",
       "      <td>3</td>\n",
       "    </tr>\n",
       "    <tr>\n",
       "      <th>ZEC</th>\n",
       "      <td>Equihash</td>\n",
       "      <td>PoW</td>\n",
       "      <td>7.383056e+06</td>\n",
       "      <td>21000000</td>\n",
       "      <td>-0.168535</td>\n",
       "      <td>-1.984818</td>\n",
       "      <td>0.374464</td>\n",
       "      <td>ZCash</td>\n",
       "      <td>3</td>\n",
       "    </tr>\n",
       "  </tbody>\n",
       "</table>\n",
       "</div>"
      ],
      "text/plain": [
       "           Algorithm ProofType  TotalCoinsMined TotalCoinSupply       PC1  \\\n",
       "42            Scrypt   PoW/PoS     4.199995e+01              42 -0.343157   \n",
       "404           Scrypt   PoW/PoS     1.055185e+09       532000000 -0.326542   \n",
       "1337             X13   PoW/PoS     2.927942e+10    314159265359  2.305412   \n",
       "BTC          SHA-256       PoW     1.792718e+07        21000000 -0.145395   \n",
       "ETH           Ethash       PoW     1.076842e+08               0 -0.149908   \n",
       "LTC           Scrypt       PoW     6.303924e+07        84000000 -0.176895   \n",
       "DASH             X11   PoW/PoS     9.031294e+06        22000000 -0.374421   \n",
       "XMR   CryptoNight-V7       PoW     1.720114e+07               0 -0.149155   \n",
       "ETC           Ethash       PoW     1.133597e+08       210000000 -0.148355   \n",
       "ZEC         Equihash       PoW     7.383056e+06        21000000 -0.168535   \n",
       "\n",
       "           PC2       PC3          CoinName  Class  \n",
       "42    0.991331 -0.578248           42 Coin      0  \n",
       "404   0.991922 -0.578782           404Coin      0  \n",
       "1337  1.838497 -0.713993         EliteCoin      0  \n",
       "BTC  -1.250825  0.218734           Bitcoin      3  \n",
       "ETH  -2.032114  0.377847          Ethereum      3  \n",
       "LTC  -1.173372  0.007909          Litecoin      3  \n",
       "DASH  1.283073 -0.498983              Dash      0  \n",
       "XMR  -2.168430  0.438976            Monero      3  \n",
       "ETC  -2.032169  0.377824  Ethereum Classic      3  \n",
       "ZEC  -1.984818  0.374464             ZCash      3  "
      ]
     },
     "execution_count": 100,
     "metadata": {},
     "output_type": "execute_result"
    }
   ],
   "source": [
    "# Initialize the K-Means model\n",
    "model = KMeans(n_clusters=4, random_state=0)\n",
    "\n",
    "# Fit the model\n",
    "model.fit(pc_df)\n",
    "\n",
    "# Predict clusters\n",
    "predictions = model.predict(pc_df)\n",
    "\n",
    "# Create a new DataFrame including predicted clusters and cryptocurrencies features\n",
    "clustered_df=pd.DataFrame({\n",
    "    \"Algorithm\": crypto_df.Algorithm,\n",
    "    \"ProofType\": crypto_df.ProofType,\n",
    "    \"TotalCoinsMined\": crypto_df.TotalCoinsMined,\n",
    "    \"TotalCoinSupply\": crypto_df.TotalCoinSupply,\n",
    "    \"PC1\": pc_df[\"principal component 1\"],\n",
    "    \"PC2\": pc_df[\"principal component 2\"],\n",
    "    \"PC3\": pc_df[\"principal component 3\"],\n",
    "    \"CoinName\": coin_name,\n",
    "    \"Class\": model.labels_,\n",
    "    },index= crypto_df.index)\n",
    "clustered_df.head(10)"
   ]
  },
  {
   "cell_type": "markdown",
   "metadata": {},
   "source": [
    "### Visualizing Results\n",
    "\n",
    "#### 3D-Scatter with Clusters"
   ]
  },
  {
   "cell_type": "code",
   "execution_count": 101,
   "metadata": {},
   "outputs": [
    {
     "data": {
      "application/vnd.plotly.v1+json": {
       "config": {
        "plotlyServerURL": "https://plot.ly"
       },
       "data": [
        {
         "customdata": [
          [
           "Scrypt"
          ],
          [
           "Scrypt"
          ],
          [
           "X13"
          ],
          [
           "X11"
          ],
          [
           "SHA-512"
          ],
          [
           "SHA-256"
          ],
          [
           "SHA-256"
          ],
          [
           "X15"
          ],
          [
           "Scrypt"
          ],
          [
           "Scrypt"
          ],
          [
           "Scrypt"
          ],
          [
           "Scrypt"
          ],
          [
           "Scrypt"
          ],
          [
           "Scrypt"
          ],
          [
           "Groestl"
          ],
          [
           "PoS"
          ],
          [
           "Scrypt"
          ],
          [
           "Scrypt"
          ],
          [
           "X11"
          ],
          [
           "X11"
          ],
          [
           "SHA3"
          ],
          [
           "Scrypt"
          ],
          [
           "SHA-256"
          ],
          [
           "Scrypt"
          ],
          [
           "X13"
          ],
          [
           "X13"
          ],
          [
           "NeoScrypt"
          ],
          [
           "Scrypt"
          ],
          [
           "Scrypt"
          ],
          [
           "Scrypt"
          ],
          [
           "X11"
          ],
          [
           "X11"
          ],
          [
           "Multiple"
          ],
          [
           "PHI1612"
          ],
          [
           "X11"
          ],
          [
           "Scrypt"
          ],
          [
           "Scrypt"
          ],
          [
           "Scrypt"
          ],
          [
           "X11"
          ],
          [
           "Multiple"
          ],
          [
           "X13"
          ],
          [
           "Scrypt"
          ],
          [
           "Shabal256"
          ],
          [
           "Counterparty"
          ],
          [
           "SHA-256"
          ],
          [
           "Groestl"
          ],
          [
           "Scrypt"
          ],
          [
           "X13"
          ],
          [
           "Scrypt"
          ],
          [
           "Scrypt"
          ],
          [
           "X13"
          ],
          [
           "X11"
          ],
          [
           "Scrypt"
          ],
          [
           "X11"
          ],
          [
           "SHA3"
          ],
          [
           "QUAIT"
          ],
          [
           "X11"
          ],
          [
           "Scrypt"
          ],
          [
           "X13"
          ],
          [
           "SHA-256"
          ],
          [
           "X15"
          ],
          [
           "BLAKE256"
          ],
          [
           "SHA-256"
          ],
          [
           "X11"
          ],
          [
           "SHA-256"
          ],
          [
           "NIST5"
          ],
          [
           "Scrypt"
          ],
          [
           "Scrypt"
          ],
          [
           "X11"
          ],
          [
           "Scrypt"
          ],
          [
           "SHA-256"
          ],
          [
           "Scrypt"
          ],
          [
           "PoS"
          ],
          [
           "X11"
          ],
          [
           "SHA-256"
          ],
          [
           "SHA-256"
          ],
          [
           "NIST5"
          ],
          [
           "X11"
          ],
          [
           "POS 3.0"
          ],
          [
           "Scrypt"
          ],
          [
           "Scrypt"
          ],
          [
           "Scrypt"
          ],
          [
           "X13"
          ],
          [
           "X11"
          ],
          [
           "X11"
          ],
          [
           "Scrypt"
          ],
          [
           "SHA-256"
          ],
          [
           "X11"
          ],
          [
           "Scrypt"
          ],
          [
           "Scrypt"
          ],
          [
           "Scrypt"
          ],
          [
           "Scrypt"
          ],
          [
           "SHA-256D"
          ],
          [
           "PoS"
          ],
          [
           "Scrypt"
          ],
          [
           "X11"
          ],
          [
           "PoS"
          ],
          [
           "X13"
          ],
          [
           "X14"
          ],
          [
           "PoS"
          ],
          [
           "SHA-256D"
          ],
          [
           "DPoS"
          ],
          [
           "X11"
          ],
          [
           "X13"
          ],
          [
           "X11"
          ],
          [
           "PoS"
          ],
          [
           "Scrypt"
          ],
          [
           "Scrypt"
          ],
          [
           "PoS"
          ],
          [
           "X11"
          ],
          [
           "SHA-256"
          ],
          [
           "Scrypt"
          ],
          [
           "X11"
          ],
          [
           "Scrypt"
          ],
          [
           "Scrypt"
          ],
          [
           "X11"
          ],
          [
           "Scrypt"
          ],
          [
           "Scrypt"
          ],
          [
           "Scrypt"
          ],
          [
           "Scrypt"
          ],
          [
           "Quark"
          ],
          [
           "QuBit"
          ],
          [
           "Scrypt"
          ],
          [
           "SHA-256"
          ],
          [
           "X11"
          ],
          [
           "Scrypt"
          ],
          [
           "Scrypt"
          ],
          [
           "Scrypt"
          ],
          [
           "Scrypt"
          ],
          [
           "X13"
          ],
          [
           "Scrypt"
          ],
          [
           "Scrypt"
          ],
          [
           "X11"
          ],
          [
           "Blake2S"
          ],
          [
           "X11"
          ],
          [
           "PoS"
          ],
          [
           "X11"
          ],
          [
           "PoS"
          ],
          [
           "X11"
          ],
          [
           "Scrypt"
          ],
          [
           "Scrypt"
          ],
          [
           "Scrypt"
          ],
          [
           "SHA-256"
          ],
          [
           "X11"
          ],
          [
           "Scrypt"
          ],
          [
           "PoS"
          ],
          [
           "Scrypt"
          ],
          [
           "X15"
          ],
          [
           "SHA-256"
          ],
          [
           "POS 3.0"
          ],
          [
           "536"
          ],
          [
           "NIST5"
          ],
          [
           "NIST5"
          ],
          [
           "Skein"
          ],
          [
           "X13"
          ],
          [
           "Scrypt"
          ],
          [
           "X13"
          ],
          [
           "SkunkHash v2 Raptor"
          ],
          [
           "Skein"
          ],
          [
           "X11"
          ],
          [
           "Scrypt"
          ],
          [
           "PoS"
          ],
          [
           "Scrypt"
          ],
          [
           "Scrypt"
          ],
          [
           "SHA-512"
          ],
          [
           "Ouroboros"
          ],
          [
           "X11"
          ],
          [
           "NeoScrypt"
          ],
          [
           "Scrypt"
          ],
          [
           "Lyra2REv2"
          ],
          [
           "Scrypt"
          ],
          [
           "SHA-256"
          ],
          [
           "NIST5"
          ],
          [
           "PHI1612"
          ],
          [
           "Scrypt"
          ],
          [
           "Quark"
          ],
          [
           "POS 2.0"
          ],
          [
           "Scrypt"
          ],
          [
           "SHA-256"
          ],
          [
           "X11"
          ],
          [
           "DPoS"
          ],
          [
           "NIST5"
          ],
          [
           "X13"
          ],
          [
           "Scrypt"
          ],
          [
           "NIST5"
          ],
          [
           "Quark"
          ],
          [
           "Scrypt"
          ],
          [
           "Scrypt"
          ],
          [
           "X11"
          ],
          [
           "Quark"
          ],
          [
           "Scrypt"
          ],
          [
           "Scrypt"
          ],
          [
           "X11"
          ],
          [
           "POS 3.0"
          ],
          [
           "Scrypt"
          ],
          [
           "Scrypt"
          ],
          [
           "X13"
          ],
          [
           "C11"
          ],
          [
           "X11"
          ],
          [
           "XEVAN"
          ],
          [
           "Scrypt"
          ],
          [
           "VBFT"
          ],
          [
           "NIST5"
          ],
          [
           "Scrypt"
          ],
          [
           "Scrypt"
          ],
          [
           "Scrypt"
          ],
          [
           "Green Protocol"
          ],
          [
           "PoS"
          ],
          [
           "Scrypt"
          ],
          [
           "Semux BFT consensus"
          ],
          [
           "Quark"
          ],
          [
           "PoS"
          ],
          [
           "X16R"
          ],
          [
           "Scrypt"
          ],
          [
           "XEVAN"
          ],
          [
           "Scrypt"
          ],
          [
           "Scrypt"
          ],
          [
           "Scrypt"
          ],
          [
           "SHA-256D"
          ],
          [
           "Scrypt"
          ],
          [
           "X15"
          ],
          [
           "Scrypt"
          ],
          [
           "Quark"
          ],
          [
           "SHA-256"
          ],
          [
           "DPoS"
          ],
          [
           "X16R"
          ],
          [
           "Quark"
          ],
          [
           "Quark"
          ],
          [
           "Scrypt"
          ],
          [
           "Lyra2REv2"
          ],
          [
           "Quark"
          ],
          [
           "Scrypt"
          ],
          [
           "X11"
          ],
          [
           "X11"
          ],
          [
           "Scrypt"
          ],
          [
           "PoS"
          ],
          [
           "Keccak"
          ],
          [
           "X11"
          ],
          [
           "Scrypt"
          ],
          [
           "SHA-512"
          ],
          [
           "XEVAN"
          ],
          [
           "XEVAN"
          ],
          [
           "X11"
          ],
          [
           "Quark"
          ],
          [
           "Equihash"
          ],
          [
           "Scrypt"
          ],
          [
           "Quark"
          ],
          [
           "Quark"
          ],
          [
           "Scrypt"
          ],
          [
           "X11"
          ],
          [
           "Scrypt"
          ],
          [
           "XEVAN"
          ],
          [
           "SHA-256D"
          ],
          [
           "X11"
          ],
          [
           "X11"
          ],
          [
           "DPoS"
          ],
          [
           "Scrypt"
          ],
          [
           "X11"
          ],
          [
           "Scrypt"
          ],
          [
           "Scrypt"
          ],
          [
           "SHA-256"
          ],
          [
           "Scrypt"
          ],
          [
           "X11"
          ],
          [
           "Scrypt"
          ],
          [
           "SHA-256"
          ],
          [
           "X11"
          ],
          [
           "Scrypt"
          ],
          [
           "Scrypt"
          ],
          [
           "X11"
          ],
          [
           "Scrypt"
          ],
          [
           "PoS"
          ],
          [
           "X11"
          ],
          [
           "SHA-256"
          ],
          [
           "DPoS"
          ],
          [
           "Scrypt"
          ],
          [
           "Scrypt"
          ],
          [
           "NeoScrypt"
          ],
          [
           "X13"
          ],
          [
           "DPoS"
          ],
          [
           "DPoS"
          ],
          [
           "SHA-256"
          ],
          [
           "PoS"
          ],
          [
           "PoS"
          ],
          [
           "SHA-256"
          ],
          [
           "Scrypt"
          ],
          [
           "Scrypt"
          ]
         ],
         "hovertemplate": "<b>%{hovertext}</b><br><br>Class=%{marker.color}<br>PC3=%{x}<br>PC2=%{y}<br>PC1=%{z}<br>Algorithm=%{customdata[0]}<extra></extra>",
         "hovertext": [
          "42 Coin",
          "404Coin",
          "EliteCoin",
          "Dash",
          "Bitshares",
          "BitcoinDark",
          "PayCoin",
          "KoboCoin",
          "Aurora Coin",
          "BlueCoin",
          "EnergyCoin",
          "BitBar",
          "CryptoBullion",
          "CasinoCoin",
          "Diamond",
          "Exclusive Coin",
          "FlutterCoin",
          "HoboNickels",
          "HyperStake",
          "IOCoin",
          "MaxCoin",
          "MintCoin",
          "MazaCoin",
          "Nautilus Coin",
          "NavCoin",
          "OpalCoin",
          "Orbitcoin",
          "PotCoin",
          "PhoenixCoin",
          "Reddcoin",
          "SuperCoin",
          "SyncCoin",
          "TeslaCoin",
          "TittieCoin",
          "TorCoin",
          "UnitaryStatus Dollar",
          "UltraCoin",
          "VeriCoin",
          "X11 Coin",
          "Crypti",
          "StealthCoin",
          "ZCC Coin",
          "BurstCoin",
          "StorjCoin",
          "Neutron",
          "FairCoin",
          "RubyCoin",
          "Kore",
          "Dnotes",
          "8BIT Coin",
          "Sativa Coin",
          "Ucoin",
          "Vtorrent",
          "IslaCoin",
          "Nexus",
          "Droidz",
          "Squall Coin",
          "Diggits",
          "Paycon",
          "Emercoin",
          "EverGreenCoin",
          "Decred",
          "EDRCoin",
          "Hitcoin",
          "DubaiCoin",
          "PWR Coin",
          "BillaryCoin",
          "GPU Coin",
          "EuropeCoin",
          "ZeitCoin",
          "SwingCoin",
          "SafeExchangeCoin",
          "Nebuchadnezzar",
          "Ratecoin",
          "Revenu",
          "Clockcoin",
          "VIP Tokens",
          "BitSend",
          "Let it Ride",
          "PutinCoin",
          "iBankCoin",
          "Frankywillcoin",
          "MudraCoin",
          "Lutetium Coin",
          "GoldBlocks",
          "CarterCoin",
          "BitTokens",
          "MustangCoin",
          "ZoneCoin",
          "RootCoin",
          "BitCurrency",
          "Swiscoin",
          "BuzzCoin",
          "Opair",
          "PesoBit",
          "Halloween Coin",
          "CoffeeCoin",
          "RoyalCoin",
          "GanjaCoin V2",
          "TeamUP",
          "LanaCoin",
          "ARK",
          "InsaneCoin",
          "EmberCoin",
          "XenixCoin",
          "FreeCoin",
          "PLNCoin",
          "AquariusCoin",
          "Creatio",
          "Eternity",
          "Eurocoin",
          "BitcoinFast",
          "Stakenet",
          "BitConnect Coin",
          "MoneyCoin",
          "Enigma",
          "Russiacoin",
          "PandaCoin",
          "GameUnits",
          "GAKHcoin",
          "Allsafe",
          "LiteCreed",
          "Klingon Empire Darsek",
          "Internet of People",
          "KushCoin",
          "Printerium",
          "Impeach",
          "Zilbercoin",
          "FirstCoin",
          "FindCoin",
          "OpenChat",
          "RenosCoin",
          "VirtacoinPlus",
          "TajCoin",
          "Impact",
          "Atmos",
          "HappyCoin",
          "MacronCoin",
          "Condensate",
          "Independent Money System",
          "ArgusCoin",
          "LomoCoin",
          "ProCurrency",
          "GoldReserve",
          "GrowthCoin",
          "Phreak",
          "Degas Coin",
          "HTML5 Coin",
          "Ultimate Secure Cash",
          "QTUM",
          "Espers",
          "Denarius",
          "Virta Unique Coin",
          "Bitcoin Planet",
          "BritCoin",
          "Linda",
          "DeepOnion",
          "Signatum",
          "Cream",
          "Monoeci",
          "Draftcoin",
          "Stakecoin",
          "CoinonatX",
          "Ethereum Dark",
          "Obsidian",
          "Cardano",
          "Regalcoin",
          "TrezarCoin",
          "TerraNovaCoin",
          "Rupee",
          "WomenCoin",
          "Theresa May Coin",
          "NamoCoin",
          "LUXCoin",
          "Xios",
          "Bitcloud 2.0",
          "KekCoin",
          "BlackholeCoin",
          "Infinity Economics",
          "Magnet",
          "Lamden Tau",
          "Electra",
          "Bitcoin Diamond",
          "Cash & Back Coin",
          "Bulwark",
          "Kalkulus",
          "GermanCoin",
          "LiteCoin Ultra",
          "PhantomX",
          "Digiwage",
          "Trollcoin",
          "Litecoin Plus",
          "Monkey Project",
          "TokenPay",
          "My Big Coin",
          "Unified Society USDEX",
          "Tokyo Coin",
          "Stipend",
          "Pushi",
          "Ellerium",
          "Velox",
          "Ontology",
          "Bitspace",
          "Briacoin",
          "Ignition",
          "MedicCoin",
          "Bitcoin Green",
          "Deviant Coin",
          "Abjcoin",
          "Semux",
          "Carebit",
          "Zealium",
          "Proton",
          "iDealCash",
          "Bitcoin Incognito",
          "HollyWoodCoin",
          "Swisscoin",
          "Xt3ch",
          "TheVig",
          "EmaratCoin",
          "Dekado",
          "Lynx",
          "Poseidon Quark",
          "BitcoinWSpectrum",
          "Muse",
          "Trivechain",
          "Dystem",
          "Giant",
          "Peony Coin",
          "Absolute Coin",
          "Vitae",
          "TPCash",
          "ARENON",
          "EUNO",
          "MMOCoin",
          "Ketan",
          "XDNA",
          "PAXEX",
          "ThunderStake",
          "Kcash",
          "Bettex coin",
          "BitMoney",
          "Junson Ming Chan Coin",
          "HerbCoin",
          "PirateCash",
          "Oduwa",
          "Galilel",
          "Crypto Sports",
          "Credit",
          "Dash Platinum",
          "Nasdacoin",
          "Beetle Coin",
          "Titan Coin",
          "Award",
          "Insane Coin",
          "ALAX",
          "LiteDoge",
          "TruckCoin",
          "OrangeCoin",
          "BitstarCoin",
          "NeosCoin",
          "HyperCoin",
          "PinkCoin",
          "AudioCoin",
          "IncaKoin",
          "Piggy Coin",
          "Genstake",
          "XiaoMiCoin",
          "CapriCoin",
          " ClubCoin",
          "Radium",
          "Creditbit ",
          "OKCash",
          "Lisk",
          "HiCoin",
          "WhiteCoin",
          "FriendshipCoin",
          "Triangles Coin",
          "EOS",
          "Oxycoin",
          "TigerCash",
          "Particl",
          "Nxt",
          "ZEPHYR",
          "Gapcoin",
          "BitcoinPlus"
         ],
         "legendgroup": "0",
         "marker": {
          "color": [
           0,
           0,
           0,
           0,
           0,
           0,
           0,
           0,
           0,
           0,
           0,
           0,
           0,
           0,
           0,
           0,
           0,
           0,
           0,
           0,
           0,
           0,
           0,
           0,
           0,
           0,
           0,
           0,
           0,
           0,
           0,
           0,
           0,
           0,
           0,
           0,
           0,
           0,
           0,
           0,
           0,
           0,
           0,
           0,
           0,
           0,
           0,
           0,
           0,
           0,
           0,
           0,
           0,
           0,
           0,
           0,
           0,
           0,
           0,
           0,
           0,
           0,
           0,
           0,
           0,
           0,
           0,
           0,
           0,
           0,
           0,
           0,
           0,
           0,
           0,
           0,
           0,
           0,
           0,
           0,
           0,
           0,
           0,
           0,
           0,
           0,
           0,
           0,
           0,
           0,
           0,
           0,
           0,
           0,
           0,
           0,
           0,
           0,
           0,
           0,
           0,
           0,
           0,
           0,
           0,
           0,
           0,
           0,
           0,
           0,
           0,
           0,
           0,
           0,
           0,
           0,
           0,
           0,
           0,
           0,
           0,
           0,
           0,
           0,
           0,
           0,
           0,
           0,
           0,
           0,
           0,
           0,
           0,
           0,
           0,
           0,
           0,
           0,
           0,
           0,
           0,
           0,
           0,
           0,
           0,
           0,
           0,
           0,
           0,
           0,
           0,
           0,
           0,
           0,
           0,
           0,
           0,
           0,
           0,
           0,
           0,
           0,
           0,
           0,
           0,
           0,
           0,
           0,
           0,
           0,
           0,
           0,
           0,
           0,
           0,
           0,
           0,
           0,
           0,
           0,
           0,
           0,
           0,
           0,
           0,
           0,
           0,
           0,
           0,
           0,
           0,
           0,
           0,
           0,
           0,
           0,
           0,
           0,
           0,
           0,
           0,
           0,
           0,
           0,
           0,
           0,
           0,
           0,
           0,
           0,
           0,
           0,
           0,
           0,
           0,
           0,
           0,
           0,
           0,
           0,
           0,
           0,
           0,
           0,
           0,
           0,
           0,
           0,
           0,
           0,
           0,
           0,
           0,
           0,
           0,
           0,
           0,
           0,
           0,
           0,
           0,
           0,
           0,
           0,
           0,
           0,
           0,
           0,
           0,
           0,
           0,
           0,
           0,
           0,
           0,
           0,
           0,
           0,
           0,
           0,
           0,
           0,
           0,
           0,
           0,
           0,
           0,
           0,
           0,
           0,
           0,
           0,
           0,
           0,
           0,
           0,
           0,
           0,
           0,
           0,
           0,
           0,
           0,
           0,
           0,
           0
          ],
          "coloraxis": "coloraxis",
          "symbol": "circle"
         },
         "mode": "markers",
         "name": "0",
         "scene": "scene",
         "showlegend": true,
         "type": "scatter3d",
         "x": [
          -0.5782481617873287,
          -0.5787824935662597,
          -0.7139926172169353,
          -0.498982822876345,
          -0.15856884032314278,
          -0.3674525738948338,
          -0.036511240989653346,
          -0.6906612440493944,
          -0.5782581146427153,
          -0.5785376024985786,
          -0.5783042178669161,
          -0.578248231616515,
          -0.5782487360045374,
          -0.4035841952125179,
          -0.47169746942279667,
          -0.11541288372557328,
          -0.33177992900407305,
          -0.5783009333191734,
          -0.16879581732725155,
          -0.49898674918289176,
          -0.7424178827825478,
          -0.25700246622450695,
          -0.36842901453965227,
          -0.24731191357986956,
          -0.6689824704426192,
          -0.6689592710816105,
          -0.36237310270536155,
          -0.5783919771474402,
          -0.5782917404367736,
          -0.5916016401228589,
          -0.16805433557736985,
          -0.49897648956594026,
          0.06149222306319328,
          -0.18786983642320237,
          -0.4989781502939312,
          -0.5789102068227537,
          -0.5782811357627073,
          -0.3333223250946876,
          -0.4989802101186922,
          0.0614933229975705,
          -0.668967441694911,
          -0.5784164870471176,
          -0.42235520890483724,
          -0.04174559577692361,
          -0.3674744491247446,
          -0.47171975241720493,
          -0.24731529341729325,
          -0.6689544994583728,
          -0.2474329206469218,
          -0.5782488303774209,
          -0.6689566090455542,
          -0.1680344813483856,
          -0.5782554660994598,
          -0.49897717843332884,
          -0.6842365196540334,
          -0.7748345871858755,
          -0.1721515806805715,
          -0.247358552924943,
          -0.6689679090542112,
          -0.36757029530423113,
          -0.6906231062601281,
          -0.4036903484339297,
          -0.3674536583821175,
          -0.5066646817061934,
          -0.3674531625980791,
          -0.6279210508371457,
          -0.5782564991746987,
          -0.247343655704877,
          -0.4990199807044103,
          -0.27413414676498304,
          -0.36745579706544007,
          -0.38252219963865286,
          -0.11542142502658238,
          -0.49904534838455156,
          -0.36747278744826006,
          -0.36751033686623163,
          -0.6233814298633334,
          -0.4990016248547661,
          -0.05093592162788642,
          -0.578820360973321,
          -0.5782546974187038,
          -0.5783038040272243,
          -0.33802957657924226,
          -0.16839680749630195,
          -0.49898862412567974,
          -0.5782769063066963,
          -0.3674521571159533,
          -0.4989770912311685,
          -0.5782514570773529,
          -0.5782490453991095,
          -0.2473801642053404,
          -0.26266235464308263,
          -0.7742252922062883,
          -0.1154514872480176,
          -0.5782634317424677,
          -0.499248423907188,
          -0.11548207485945054,
          -0.3380085072581593,
          -0.8844618029399045,
          -0.11544878840177798,
          -0.7645395591923455,
          -0.2444026085054607,
          -0.4989878716647494,
          -0.7110327222783674,
          -0.4989786330071225,
          -0.11543811770556413,
          -0.5782598354612273,
          -0.5782535159766041,
          -0.11542142502658238,
          -0.498985308498999,
          -0.36745744081963444,
          -0.5782607132602529,
          0.0746224040298079,
          -0.5782560347296322,
          -0.5783187944015082,
          -0.4989773645907872,
          -0.5782665096454105,
          -0.265986299206357,
          -0.5782510556247472,
          -0.578250006743998,
          -0.21861838313942497,
          -0.43115564973637127,
          -0.5783095354504427,
          -0.3674530365424313,
          -0.498980010647927,
          -0.5782555649474512,
          -0.578250515533992,
          -0.24730979223520363,
          -0.2532825370821011,
          -0.3380151980886831,
          -0.5788045843966622,
          -0.24732280602133105,
          -0.4989925761208209,
          -0.7664401291089018,
          -0.49903798256526416,
          -0.11547204971467331,
          -0.49899638351850867,
          -0.11563351308668411,
          -0.49908236579322157,
          -0.5782527479681259,
          -0.5782515709904184,
          -0.5783493040487586,
          -0.044118904793867625,
          -0.4989883472137453,
          -0.24763917631928364,
          -0.11541851235006587,
          -0.5782684868797322,
          -0.7182171099271798,
          -0.036529418360718754,
          -0.05097060528387701,
          -0.8008465181694782,
          -0.623337244464492,
          -0.6233751155896946,
          -0.7478891766290643,
          -0.6689650824590033,
          -0.5874139276279574,
          -0.6689642577158894,
          0.0444615879513896,
          -0.7479076372065527,
          -0.49898317375160495,
          -0.24731316845216658,
          -0.11541833493789837,
          -0.5782619315325336,
          -0.5782504987390107,
          -0.15697729326855875,
          -0.0689082299818068,
          -0.498982521704193,
          -0.3624948143240018,
          -0.5782502690998669,
          -0.0701064160988197,
          -0.6028447073520521,
          -0.3675017880263408,
          -0.623710773746161,
          -0.5178538394641209,
          -0.5782512601693997,
          -0.5495915018592873,
          -0.0034125417150214395,
          -0.5782571073876975,
          -0.04151231927562021,
          -0.49900842039075155,
          -0.2445223921161756,
          -0.6392978141518928,
          -0.6690571605216417,
          -0.578319904727699,
          -0.29239791527526016,
          -0.21862182026966934,
          -0.5855311164671602,
          -0.5782671340495372,
          -0.49900211187595594,
          -0.21863662345987792,
          -0.5786082004917861,
          -0.578249706235844,
          -0.16803536457075108,
          -0.05092679913945556,
          -0.2718457634201708,
          -0.5783785483118655,
          -0.33819275078339406,
          -0.5003456023006438,
          -0.49897999925496883,
          -0.4881021463934127,
          -0.24732707141163585,
          0.08593918110279916,
          -0.6233456614269172,
          -0.5782488497024205,
          -0.5782492048171037,
          -0.24747512418424353,
          -0.04218260159092625,
          -0.11542914201518932,
          -0.5782556898487573,
          -0.2729473006679817,
          -0.5496411650175704,
          -0.11542341460435948,
          -0.07752612275083882,
          -0.5794046461989575,
          -0.16127792884082567,
          -0.24732316570478458,
          -0.5839236726175857,
          -0.24731082642785027,
          -0.7633143925914352,
          -0.5782664772587544,
          -0.3596919150340204,
          -0.368363866578567,
          -0.21867891021644997,
          -0.036540966878501356,
          -0.15040951510703923,
          -0.4084899756610195,
          -0.21861742378296242,
          -0.5495605457793435,
          -0.2490068225859273,
          -0.40104968418627196,
          -0.21865225802026603,
          -0.5783515377705263,
          -0.16804556554370192,
          -0.4989955511526188,
          -0.24737823575460294,
          -0.11543573720939719,
          -0.44350586397472697,
          -0.16804338117924864,
          -0.580547440988877,
          -0.23963043921714888,
          -0.15715878688054274,
          -0.14551761863847,
          -0.17587049751888054,
          -0.549578863964411,
          0.11920394615197785,
          -0.5782570122625753,
          -0.5495675704625591,
          -0.21861430899033052,
          -0.5998379293179199,
          -0.16803355183154184,
          -0.5782659976946014,
          -0.4882369757401571,
          -0.7642020333044555,
          -0.4990258970735763,
          -0.49899034650737284,
          -0.2448971298959146,
          -0.5887580475186964,
          -0.49908698339914664,
          -0.5782699558705868,
          -0.5782630097717789,
          -0.036508635500156324,
          -0.5782525488535811,
          -0.49922570880554223,
          -0.579754495949679,
          -0.37564063055389985,
          -0.4993025340873389,
          -0.5782770059680314,
          -0.5784726970066196,
          -0.49908920223387726,
          -0.5783115086930078,
          -0.11541294541310095,
          -0.23899495083776773,
          -0.36749437826640946,
          -0.24441151185560478,
          -0.25286814008539793,
          -0.578393226699407,
          -0.3623778374253382,
          -0.6689524434700124,
          -0.24480557356187116,
          -0.24485196148677288,
          -0.037060938218502426,
          -0.11541539642848356,
          -0.23661596943951416,
          -0.13155866566297236,
          -0.5782801916091357,
          -0.24730307003018967
         ],
         "y": [
          0.9913313426773905,
          0.9919220009700312,
          1.8384970476665388,
          1.2830734866675966,
          1.556200551867853,
          0.9138871763218527,
          0.6298283445581445,
          2.0062748903708347,
          0.9913393612945025,
          0.9917766393958894,
          0.9914175834568919,
          0.9913312326478735,
          0.9913317911570875,
          0.49762908482890933,
          0.9558233615875167,
          1.4944635228846108,
          0.10043059729974665,
          0.9913603355235486,
          1.0001806040771974,
          1.2830795271839663,
          2.3228550379679103,
          0.7221848544759485,
          0.9143467267920302,
          0.7072691639262336,
          1.905895679393563,
          1.9058599878045674,
          0.6214395183085932,
          0.991369917125282,
          0.991355761559474,
          1.0118753076881382,
          0.9990398544740332,
          1.2830733116427013,
          0.05308901528711532,
          1.6521578400406038,
          1.2830715175005938,
          0.9916539511231363,
          0.9913385766430249,
          0.01407454896325313,
          1.2830766437881944,
          0.053130818689131394,
          1.905872558071984,
          0.9911553503390992,
          1.157228489959383,
          1.3627625326061885,
          0.9139008227852021,
          0.9558595484795119,
          0.7072814013061547,
          1.9058474273168118,
          0.7072448895088056,
          0.9913323713034272,
          1.905851542772018,
          0.9990006101558605,
          0.9913338810579244,
          1.2830743718814892,
          2.8768808637026444,
          1.9881774052536443,
          0.6171997843918,
          0.7073044592665233,
          1.9058515292809755,
          0.9136429003477904,
          2.006357012610299,
          1.0207351336182688,
          0.913888844776186,
          1.283353300145023,
          0.9138930840223093,
          1.5838031535145307,
          0.9913259013795354,
          0.7072288877022915,
          1.282973198831326,
          0.7054808162281675,
          0.9138843058707606,
          0.4816899618642774,
          1.494467964320778,
          1.2831466277903871,
          0.9138309677408739,
          0.9137572601148699,
          1.5767799234570552,
          1.283051523125616,
          1.4722859091419898,
          0.9913417432304248,
          0.9913221145290184,
          0.991373451154442,
          1.6217279380819882,
          0.9992809720200894,
          1.2830702329587393,
          0.9913364193015548,
          0.9138869700750387,
          1.2830729328546877,
          0.9913272783297084,
          0.9913327021084752,
          0.7073812032577654,
          0.0586859923294448,
          1.9885285467439733,
          1.4944907265992953,
          0.99135483510835,
          1.2828392413821992,
          1.494552573367199,
          1.6217814272998698,
          2.027550345235398,
          1.494387839437089,
          1.9790616515803994,
          1.3011868488427298,
          1.2830777744422208,
          1.9702191409251166,
          1.2830749336754796,
          1.4944805968691997,
          0.991332539114556,
          0.9913213118100096,
          1.494467964320778,
          1.2830607823947031,
          0.9138955338663554,
          0.9913362992420163,
          0.6684238604332792,
          0.991331276230351,
          0.9911570005240216,
          1.2830724834986371,
          0.9912969366840708,
          0.7218636732462804,
          0.9913301403554433,
          0.9913327388885403,
          1.3739710444016502,
          0.7212172380811291,
          0.9912082863088004,
          0.9138883230488724,
          1.283074660586577,
          0.9913340331328832,
          0.9913254238317442,
          0.7072490152946985,
          0.008095738629546653,
          1.6217864907316082,
          0.9917524276070879,
          0.7072779852575597,
          1.2830545651856564,
          1.900621988638091,
          1.283120072209328,
          1.4945065768236858,
          1.2830604227639475,
          1.4946289726999646,
          1.2830187216812512,
          0.9913291720668764,
          0.9913241479146587,
          0.9910519911145074,
          0.6089162504005878,
          1.2830741564993515,
          0.7069097739589328,
          1.4944591336846629,
          0.9913169418978593,
          2.009675019712404,
          0.6297747190383164,
          1.4723103444198258,
          2.0492340091081354,
          1.5767467419138923,
          1.5767571604315795,
          2.045561431063014,
          1.9058558797650103,
          0.9836848147177479,
          1.90585943972232,
          1.3446041974903522,
          2.045589832161824,
          1.2830794602697988,
          0.7072705613043054,
          1.4944451161397438,
          0.991331539568789,
          0.9913331112164827,
          1.5552783401211374,
          1.3388917535689566,
          1.283070848541346,
          0.6214544256393968,
          0.9913277414280325,
          0.5961688527336072,
          1.018298556993094,
          0.9139289643465395,
          1.576803808710473,
          1.9357222797201303,
          0.9913269753921516,
          1.658002442965576,
          1.454622368743378,
          0.9913386730071921,
          0.6336131991784447,
          1.2830598030927372,
          1.3012080241059176,
          1.588257309564271,
          1.9059192472538724,
          0.9913503764629271,
          1.2926791549920198,
          1.373974157552437,
          0.9807881607072396,
          0.9912952875756423,
          1.2830909834974777,
          1.3739534362386243,
          0.9914937919060682,
          0.9913319789630538,
          0.9990015340133516,
          1.4722755715682583,
          0.05685924749221549,
          0.9914310289932308,
          1.6217180034508805,
          1.068721940981963,
          1.2830678377339135,
          1.3186200101804055,
          0.7072455868612741,
          1.3944920653955173,
          1.5767422929342552,
          0.9913310961657776,
          0.9913307725876805,
          0.7073098185086897,
          1.3950941899447635,
          1.4944502596764084,
          0.9913298757280337,
          1.2857488411578788,
          1.6580788483904059,
          1.4944449278595682,
          0.6916630539187776,
          0.9908827381564104,
          0.6527645093836197,
          0.7072822037458545,
          0.9956264091230205,
          0.7072553908904362,
          1.9803980516377016,
          0.9913229842308475,
          1.7222819438806551,
          0.2653334564980664,
          1.3737879664762667,
          0.629835904317255,
          1.304824606389583,
          0.9757443330733894,
          1.373966958720421,
          1.658039568657559,
          0.7025417122762146,
          0.8802223975548199,
          1.373986188710871,
          0.9910554276349883,
          0.9990024394228991,
          1.2830808900021973,
          0.7072651477731625,
          1.4944073415462242,
          1.074288015377181,
          0.9989795058077315,
          0.9870395096835513,
          1.8867289329655184,
          1.0345582780137241,
          0.692135785902428,
          1.0110648080679319,
          1.6580465035134424,
          -0.10418248997371558,
          0.9913358248318153,
          1.6580443365759754,
          1.3739654854121668,
          0.9920118909698613,
          0.9989993106062193,
          0.9913222464343779,
          1.3186360607474157,
          1.979632377406776,
          1.2829666425814923,
          1.2830815819206127,
          1.301567069930936,
          0.9922770499821746,
          1.2832433038494064,
          0.9912778810603097,
          0.9913305868818213,
          0.6298206389552643,
          0.9913380920783555,
          1.2832392510259685,
          0.9890817567989962,
          0.9264112072292087,
          1.2831399665362297,
          0.9913691943437855,
          0.9915028015681133,
          1.2831562465743138,
          0.9913592072014447,
          1.4944597031832867,
          0.8035368301836032,
          0.9139153898503742,
          1.3011853584309234,
          0.7114709003683101,
          0.991424034272703,
          0.6214222718235665,
          1.9058494315141759,
          1.301861169201923,
          1.3019325357688423,
          0.6302445196063806,
          1.4944636331371945,
          1.8630692358773966,
          0.6269946764007911,
          0.991271880656384,
          0.7072621609997224
         ],
         "z": [
          -0.3431565548339576,
          -0.32654208720018,
          2.3054123500051187,
          -0.37442133137975303,
          -0.2964887421897956,
          -0.31049014036008693,
          -0.2683175585967798,
          -0.24417410651847415,
          -0.3428171209757202,
          -0.33541546803746736,
          -0.3416573361065491,
          -0.34315250343934367,
          -0.34313682959263664,
          0.6309575509565195,
          -0.35970235679220836,
          -0.34774912969459415,
          -0.29777471741515166,
          -0.34122102188333336,
          -0.31212887703524167,
          -0.37431632237641593,
          -0.5346642155535721,
          -0.041632818796361847,
          -0.27390429408417544,
          -0.30073581298736635,
          -0.27062936653750924,
          -0.2712498330595358,
          -0.33940712590068456,
          -0.33747565772547516,
          -0.3415629812588915,
          0.013981999651639142,
          -0.33195979403021086,
          -0.37468680718169795,
          -0.2393568678450201,
          -0.3179521843132339,
          -0.37459871545754797,
          -0.3184613796528114,
          -0.34183786709940883,
          -0.310341601759976,
          -0.37456328145620715,
          -0.23982308506956862,
          -0.27103131014351795,
          -0.3342867037800813,
          -0.04222160614847628,
          -0.3464175923322244,
          -0.30970415993302264,
          -0.35912553029759203,
          -0.30071609345079797,
          -0.2713250341034329,
          -0.2953861576722076,
          -0.3431386735864267,
          -0.2712773492195122,
          -0.3324034351526069,
          -0.3428738414119035,
          -0.37466838780291567,
          -0.7093762098070182,
          -0.41364557103031274,
          -0.26073643271419195,
          -0.29912231914443266,
          -0.27080041087782264,
          -0.30306978414455416,
          -0.24660802976547125,
          -0.07538169309330757,
          -0.3104611357658275,
          -0.05309597466002673,
          -0.31052462744392156,
          -0.22659827700937746,
          -0.3427501159423676,
          -0.29899198775693,
          -0.37184633170649856,
          0.848985193686624,
          -0.3103253128065001,
          -0.09768476970543752,
          -0.34743333284237854,
          -0.3725175839744702,
          -0.30907276341946505,
          -0.306748169181357,
          -0.3476172444540964,
          -0.37340741736831096,
          -0.35307548075364203,
          -0.3191171074005548,
          -0.34278811188947506,
          -0.34123160474416364,
          -0.22785088745936352,
          -0.31993061558612446,
          -0.37414387320346454,
          -0.34199466377946924,
          -0.31050565509925104,
          -0.3746576160382897,
          -0.3429766946461049,
          -0.3431329228349645,
          -0.2989811253098166,
          -0.2659165972782472,
          0.03188684429021662,
          -0.34639344750411827,
          -0.342748160322535,
          -0.3608619396721726,
          -0.3457238946229861,
          -0.2292770645661981,
          -0.41087349958764635,
          -0.3454740932411069,
          -0.2817316524018666,
          3.7857503007320776,
          -0.374251357658062,
          0.857716711007014,
          -0.37461265393911064,
          -0.3468558475728961,
          -0.342676000277601,
          -0.3428299015254996,
          -0.34743333284237854,
          -0.37418886963376874,
          -0.31036871052768494,
          -0.3426767222495557,
          -0.31932032926652953,
          -0.34282368944761543,
          -0.33842540804830124,
          -0.37464156904989426,
          -0.3420368505826656,
          0.3406646377933417,
          -0.3430223754491677,
          -0.34309272833229804,
          -0.3590659877380189,
          -0.3414551528923959,
          -0.3393311199339249,
          -0.3104821348528101,
          -0.3745517820458177,
          -0.3428711977240332,
          -0.3429977994136808,
          -0.30062298274983235,
          -0.3320267520278682,
          -0.2290455944665048,
          -0.32390704665969255,
          -0.30036479453865034,
          -0.37381977741052,
          -0.4159044541593904,
          -0.37256170286377055,
          -0.34568499000857217,
          -0.37371794862306357,
          -0.3401012031308498,
          -0.3696711561322674,
          -0.34294124325051456,
          -0.34294045128122613,
          -0.33608351194714636,
          0.26269430615383693,
          -0.3741949591583124,
          -0.2833178606951803,
          -0.34746755237729526,
          -0.34215432128804774,
          0.8843978153391734,
          -0.267012038267767,
          -0.35185739528826965,
          0.575443432460545,
          -0.34914842180526584,
          -0.347655079747515,
          -0.4138025609769239,
          -0.27096336801897936,
          0.12038144805724861,
          -0.27103391842049734,
          -0.3447325005113115,
          -0.4133088331408433,
          -0.3744665154039133,
          -0.3006968967621848,
          -0.3473342687742263,
          -0.3425775189183316,
          -0.3430757077047107,
          -0.3543827289584767,
          0.654003433613411,
          -0.3744075462485726,
          -0.33442122004541547,
          -0.34303147185911603,
          -0.3133047687841251,
          0.4238775190994018,
          -0.3088332056278594,
          -0.33396047338987594,
          -0.39555434198759737,
          -0.34298196094602257,
          -0.3996218753003979,
          -0.3449066277415975,
          -0.3428527099697558,
          -0.09530644862486423,
          -0.37320383089717096,
          3.7905919095141463,
          0.2087129169114769,
          -0.26771450267779556,
          -0.3403205123314953,
          -0.3068033708125354,
          -0.3589522217722396,
          0.07002569506273397,
          -0.3419939429348616,
          -0.37378314354798736,
          -0.35811951119974683,
          -0.3295961304079829,
          -0.34309777678763265,
          -0.3323754453902418,
          -0.3533565895114406,
          -0.3168510112990355,
          -0.338655994764549,
          -0.2208659991111459,
          -0.36587005524080096,
          -0.3744837451008237,
          -0.26344676322816796,
          -0.29985945981159673,
          -0.33905433275184665,
          -0.3487485904868349,
          -0.3431250527546905,
          -0.3431068192284701,
          -0.29425742477263567,
          -0.36118234455559695,
          -0.3469299184525343,
          -0.3428241772908859,
          3.971888595949935,
          -0.39829363496302783,
          -0.34711804191920503,
          -0.30889285422668367,
          -0.2898537415586021,
          -0.14964824651323896,
          -0.30039198138405965,
          -0.14681156401843135,
          -0.3006433712295747,
          -0.346848083469647,
          -0.3422997964620631,
          -0.20384446299648623,
          2.2092542200790195,
          -0.35467351526312085,
          -0.267139195325976,
          1.0541199888768602,
          -0.3503406315822646,
          -0.3590654377406821,
          -0.40130089459450496,
          -0.18174441886795192,
          -0.35534260222530883,
          -0.35778872504335335,
          -0.33602377109585263,
          -0.3319541087100149,
          -0.373958609983874,
          -0.29789702299763515,
          -0.346220634706184,
          -0.34300818318931364,
          -0.3318159697266619,
          -0.2030384615942997,
          -0.3815676420317009,
          -0.22133056705109858,
          0.6422450536998567,
          -0.12291667367543589,
          -0.40059760285454465,
          -0.2906579053162167,
          -0.34282812131028456,
          -0.4010523699534924,
          -0.3591820706192027,
          0.5609874409041959,
          -0.3324296054635348,
          -0.34231262239731064,
          -0.2579188368139272,
          -0.30170497204715574,
          -0.3715308506928482,
          -0.374185168033497,
          3.802798262653837,
          0.09080998734147293,
          -0.37173165582924694,
          -0.34170007362907984,
          -0.34252245546611687,
          -0.2683501144124544,
          -0.3430392230037266,
          -0.36583744966599746,
          -0.25700572575368913,
          -0.09076687884970547,
          -0.36159876129952995,
          -0.342319597962239,
          -0.3354041663418427,
          -0.37076377017557444,
          -0.340763463887864,
          -0.347708167907883,
          -0.29623359953712314,
          -0.3090095395583496,
          3.786140944078621,
          -0.10848675840320765,
          -0.3379663978766791,
          -0.33903414907986096,
          -0.27143191325809124,
          3.7959815950512708,
          3.797222239326627,
          -0.24930252036500486,
          -0.34764421361710984,
          -0.32023211537652624,
          2.4997251974544277,
          -0.3412079192238213,
          -0.3010386397393985
         ]
        },
        {
         "customdata": [
          [
           "SHA-256"
          ],
          [
           "Ethash"
          ],
          [
           "Scrypt"
          ],
          [
           "CryptoNight-V7"
          ],
          [
           "Ethash"
          ],
          [
           "Equihash"
          ],
          [
           "Multiple"
          ],
          [
           "Scrypt"
          ],
          [
           "X11"
          ],
          [
           "Scrypt"
          ],
          [
           "Multiple"
          ],
          [
           "Scrypt"
          ],
          [
           "SHA-256"
          ],
          [
           "Scrypt"
          ],
          [
           "Scrypt"
          ],
          [
           "Quark"
          ],
          [
           "Groestl"
          ],
          [
           "Scrypt"
          ],
          [
           "Scrypt"
          ],
          [
           "Scrypt"
          ],
          [
           "X11"
          ],
          [
           "Multiple"
          ],
          [
           "SHA-256"
          ],
          [
           "Scrypt"
          ],
          [
           "Scrypt"
          ],
          [
           "Scrypt"
          ],
          [
           "Scrypt"
          ],
          [
           "Scrypt"
          ],
          [
           "NeoScrypt"
          ],
          [
           "Scrypt"
          ],
          [
           "Scrypt"
          ],
          [
           "Scrypt"
          ],
          [
           "Scrypt"
          ],
          [
           "SHA-256"
          ],
          [
           "Scrypt"
          ],
          [
           "Scrypt"
          ],
          [
           "Scrypt"
          ],
          [
           "Scrypt"
          ],
          [
           "HybridScryptHash256"
          ],
          [
           "Scrypt"
          ],
          [
           "Scrypt"
          ],
          [
           "SHA-256"
          ],
          [
           "Scrypt"
          ],
          [
           "Scrypt"
          ],
          [
           "Scrypt"
          ],
          [
           "Scrypt"
          ],
          [
           "SHA-256"
          ],
          [
           "SHA-256"
          ],
          [
           "SHA-256"
          ],
          [
           "SHA-256"
          ],
          [
           "SHA-256"
          ],
          [
           "X11"
          ],
          [
           "Scrypt"
          ],
          [
           "Lyra2REv2"
          ],
          [
           "Scrypt"
          ],
          [
           "SHA-256"
          ],
          [
           "CryptoNight"
          ],
          [
           "CryptoNight"
          ],
          [
           "Scrypt"
          ],
          [
           "Scrypt"
          ],
          [
           "Scrypt"
          ],
          [
           "Scrypt"
          ],
          [
           "Scrypt"
          ],
          [
           "Scrypt"
          ],
          [
           "Stanford Folding"
          ],
          [
           "Multiple"
          ],
          [
           "QuBit"
          ],
          [
           "Scrypt"
          ],
          [
           "Scrypt"
          ],
          [
           "M7 POW"
          ],
          [
           "Scrypt"
          ],
          [
           "SHA-256"
          ],
          [
           "Scrypt"
          ],
          [
           "X11"
          ],
          [
           "Lyra2RE"
          ],
          [
           "SHA-256"
          ],
          [
           "X11"
          ],
          [
           "Scrypt"
          ],
          [
           "Scrypt"
          ],
          [
           "Ethash"
          ],
          [
           "Blake2b"
          ],
          [
           "X11"
          ],
          [
           "SHA-256"
          ],
          [
           "Scrypt"
          ],
          [
           "1GB AES Pattern Search"
          ],
          [
           "Scrypt"
          ],
          [
           "SHA-256"
          ],
          [
           "X11"
          ],
          [
           "Dagger"
          ],
          [
           "Scrypt"
          ],
          [
           "X11GOST"
          ],
          [
           "Scrypt"
          ],
          [
           "X11"
          ],
          [
           "Scrypt"
          ],
          [
           "X11"
          ],
          [
           "Equihash"
          ],
          [
           "CryptoNight"
          ],
          [
           "SHA-256"
          ],
          [
           "Multiple"
          ],
          [
           "Scrypt"
          ],
          [
           "SHA-256"
          ],
          [
           "Scrypt"
          ],
          [
           "Lyra2Z"
          ],
          [
           "Ethash"
          ],
          [
           "Equihash"
          ],
          [
           "Scrypt"
          ],
          [
           "X11"
          ],
          [
           "X11"
          ],
          [
           "CryptoNight"
          ],
          [
           "Scrypt"
          ],
          [
           "CryptoNight"
          ],
          [
           "Lyra2RE"
          ],
          [
           "X11"
          ],
          [
           "CryptoNight-V7"
          ],
          [
           "Scrypt"
          ],
          [
           "X11"
          ],
          [
           "Equihash"
          ],
          [
           "Scrypt"
          ],
          [
           "Lyra2RE"
          ],
          [
           "Dagger-Hashimoto"
          ],
          [
           "Scrypt"
          ],
          [
           "NIST5"
          ],
          [
           "Scrypt"
          ],
          [
           "SHA-256"
          ],
          [
           "Scrypt"
          ],
          [
           "CryptoNight-V7"
          ],
          [
           "Argon2d"
          ],
          [
           "Blake2b"
          ],
          [
           "Cloverhash"
          ],
          [
           "CryptoNight"
          ],
          [
           "X11"
          ],
          [
           "Scrypt"
          ],
          [
           "Scrypt"
          ],
          [
           "X11"
          ],
          [
           "X11"
          ],
          [
           "CryptoNight"
          ],
          [
           "Time Travel"
          ],
          [
           "Scrypt"
          ],
          [
           "Keccak"
          ],
          [
           "X11"
          ],
          [
           "SHA-256"
          ],
          [
           "Scrypt"
          ],
          [
           "Scrypt"
          ],
          [
           "Scrypt"
          ],
          [
           "Scrypt"
          ],
          [
           "Scrypt"
          ],
          [
           "Scrypt"
          ],
          [
           "CryptoNight"
          ],
          [
           "Equihash"
          ],
          [
           "X11"
          ],
          [
           "NeoScrypt"
          ],
          [
           "Equihash"
          ],
          [
           "Dagger"
          ],
          [
           "Scrypt"
          ],
          [
           "X11"
          ],
          [
           "NeoScrypt"
          ],
          [
           "Ethash"
          ],
          [
           "NeoScrypt"
          ],
          [
           "Multiple"
          ],
          [
           "CryptoNight"
          ],
          [
           "CryptoNight"
          ],
          [
           "Ethash"
          ],
          [
           "X11"
          ],
          [
           "CryptoNight-V7"
          ],
          [
           "Scrypt"
          ],
          [
           "BLAKE256"
          ],
          [
           "X11"
          ],
          [
           "NeoScrypt"
          ],
          [
           "NeoScrypt"
          ],
          [
           "Scrypt"
          ],
          [
           "X11"
          ],
          [
           "SHA-256"
          ],
          [
           "C11"
          ],
          [
           "Ethash"
          ],
          [
           "CryptoNight"
          ],
          [
           "SkunkHash"
          ],
          [
           "CryptoNight"
          ],
          [
           "Scrypt"
          ],
          [
           "Dagger"
          ],
          [
           "Lyra2REv2"
          ],
          [
           "Scrypt"
          ],
          [
           "Scrypt"
          ],
          [
           "X11"
          ],
          [
           "Ethash"
          ],
          [
           "CryptoNight"
          ],
          [
           "Scrypt"
          ],
          [
           "IMesh"
          ],
          [
           "Equihash"
          ],
          [
           "Lyra2Z"
          ],
          [
           "X11"
          ],
          [
           "CryptoNight"
          ],
          [
           "NIST5"
          ],
          [
           "Lyra2RE"
          ],
          [
           "Tribus"
          ],
          [
           "Lyra2Z"
          ],
          [
           "CryptoNight"
          ],
          [
           "CryptoNight Heavy"
          ],
          [
           "CryptoNight"
          ],
          [
           "Jump Consistent Hash"
          ],
          [
           "CryptoNight"
          ],
          [
           "X16R"
          ],
          [
           "HMQ1725"
          ],
          [
           "X11"
          ],
          [
           "Scrypt"
          ],
          [
           "CryptoNight-V7"
          ],
          [
           "Cryptonight-GPU"
          ],
          [
           "XEVAN"
          ],
          [
           "CryptoNight Heavy"
          ],
          [
           "SHA-256"
          ],
          [
           "X11"
          ],
          [
           "X16R"
          ],
          [
           "Equihash"
          ],
          [
           "Lyra2Z"
          ],
          [
           "SHA-256"
          ],
          [
           "CryptoNight"
          ],
          [
           "Blake"
          ],
          [
           "Blake"
          ],
          [
           "Exosis"
          ],
          [
           "Scrypt"
          ],
          [
           "Equihash"
          ],
          [
           "Equihash"
          ],
          [
           "QuBit"
          ],
          [
           "SHA-256"
          ],
          [
           "X13"
          ],
          [
           "SHA-256"
          ],
          [
           "Scrypt"
          ],
          [
           "NeoScrypt"
          ],
          [
           "Blake"
          ],
          [
           "Scrypt"
          ],
          [
           "SHA-256"
          ],
          [
           "Scrypt"
          ],
          [
           "Groestl"
          ],
          [
           "Scrypt"
          ],
          [
           "Scrypt"
          ],
          [
           "Multiple"
          ],
          [
           "Equihash+Scrypt"
          ],
          [
           "Ethash"
          ],
          [
           "CryptoNight"
          ],
          [
           "Equihash"
          ]
         ],
         "hovertemplate": "<b>%{hovertext}</b><br><br>Class=%{marker.color}<br>PC3=%{x}<br>PC2=%{y}<br>PC1=%{z}<br>Algorithm=%{customdata[0]}<extra></extra>",
         "hovertext": [
          "Bitcoin",
          "Ethereum",
          "Litecoin",
          "Monero",
          "Ethereum Classic",
          "ZCash",
          "DigiByte",
          "ProsperCoin",
          "Spreadcoin",
          "Argentum",
          "MyriadCoin",
          "MoonCoin",
          "ZetaCoin",
          "SexCoin",
          "Quatloo",
          "QuarkCoin",
          "Riecoin",
          "Digitalcoin ",
          "Catcoin",
          "CannaCoin",
          "CryptCoin",
          "Verge",
          "DevCoin",
          "EarthCoin",
          "E-Gulden",
          "Einsteinium",
          "Emerald",
          "Franko",
          "FeatherCoin",
          "GrandCoin",
          "GlobalCoin",
          "GoldCoin",
          "Infinite Coin",
          "IXcoin",
          "KrugerCoin",
          "LuckyCoin",
          "Litebar ",
          "MegaCoin",
          "MediterraneanCoin",
          "MinCoin",
          "NobleCoin",
          "Namecoin",
          "NyanCoin",
          "RonPaulCoin",
          "StableCoin",
          "SmartCoin",
          "SysCoin",
          "TigerCoin",
          "TerraCoin",
          "UnbreakableCoin",
          "Unobtanium",
          "UroCoin",
          "ViaCoin",
          "Vertcoin",
          "WorldCoin",
          "JouleCoin",
          "ByteCoin",
          "DigitalNote ",
          "MonaCoin",
          "Gulden",
          "PesetaCoin",
          "Wild Beast Coin",
          "Flo",
          "ArtByte",
          "Folding Coin",
          "Unitus",
          "CypherPunkCoin",
          "OmniCron",
          "GreenCoin",
          "Cryptonite",
          "MasterCoin",
          "SoonCoin",
          "1Credit",
          "MarsCoin ",
          "Crypto",
          "Anarchists Prime",
          "BowsCoin",
          "Song Coin",
          "BitZeny",
          "Expanse",
          "Siacoin",
          "MindCoin",
          "I0coin",
          "Revolution VR",
          "HOdlcoin",
          "Gamecredits",
          "CarpeDiemCoin",
          "Adzcoin",
          "SoilCoin",
          "YoCoin",
          "SibCoin",
          "Francs",
          "BolivarCoin",
          "Omni",
          "PizzaCoin",
          "Komodo",
          "Karbo",
          "ZayedCoin",
          "Circuits of Value",
          "DopeCoin",
          "DollarCoin",
          "Shilling",
          "ZCoin",
          "Elementrem",
          "ZClassic",
          "KiloCoin",
          "ArtexCoin",
          "Kurrent",
          "Cannabis Industry Coin",
          "OsmiumCoin",
          "Bikercoins",
          "HexxCoin",
          "PacCoin",
          "Citadel",
          "BeaverCoin",
          "VaultCoin",
          "Zero",
          "Canada eCoin",
          "Zoin",
          "DubaiCoin",
          "EB3coin",
          "Coinonat",
          "BenjiRolls",
          "ILCoin",
          "EquiTrader",
          "Quantum Resistant Ledger",
          "Dynamic",
          "Nano",
          "ChanCoin",
          "Dinastycoin",
          "DigitalPrice",
          "Unify",
          "SocialCoin",
          "ArcticCoin",
          "DAS",
          "LeviarCoin",
          "Bitcore",
          "gCn Coin",
          "SmartCash",
          "Onix",
          "Bitcoin Cash",
          "Sojourn Coin",
          "NewYorkCoin",
          "FrazCoin",
          "Kronecoin",
          "AdCoin",
          "Linx",
          "Sumokoin",
          "BitcoinZ",
          "Elements",
          "VIVO Coin",
          "Bitcoin Gold",
          "Pirl",
          "eBoost",
          "Pura",
          "Innova",
          "Ellaism",
          "GoByte",
          "SHIELD",
          "UltraNote",
          "BitCoal",
          "DaxxCoin",
          "AC3",
          "Lethean",
          "PopularCoin",
          "Photon",
          "Sucre",
          "SparksPay",
          "GunCoin",
          "IrishCoin",
          "Pioneer Coin",
          "UnitedBitcoin",
          "Interzone",
          "1717 Masonic Commemorative Token",
          "TurtleCoin",
          "MUNcoin",
          "Niobio Cash",
          "ShareChain",
          "Travelflex",
          "KREDS",
          "BitFlip",
          "LottoCoin",
          "Crypto Improvement Fund",
          "Callisto Network",
          "BitTube",
          "Poseidon",
          "Aidos Kuneen",
          "Bitrolium",
          "Alpenschillling",
          "FuturoCoin",
          "Monero Classic",
          "Jumpcoin",
          "Infinex",
          "KEYCO",
          "GINcoin",
          "PlatinCoin",
          "Loki",
          "Newton Coin",
          "MassGrid",
          "PluraCoin",
          "Motion",
          "PlusOneCoin",
          "Axe",
          "HexCoin",
          "Webchain",
          "Ryo",
          "Urals Coin",
          "Qwertycoin",
          "Project Pai",
          "Azart",
          "Xchange",
          "CrypticCoin",
          "Actinium",
          "Bitcoin SV",
          "FREDEnergy",
          "Universal Molecule",
          "Lithium",
          "Exosis",
          "Block-Logic",
          "Beam",
          "Bithereum",
          "SLICE",
          "BLAST",
          "Bitcoin Rhodium",
          "GlobalToken",
          "SolarCoin",
          "UFO Coin",
          "BlakeCoin",
          "Crypto Escudo",
          "Crown Coin",
          "SmileyCoin",
          "Groestlcoin",
          "Bata",
          "Pakcoin",
          "JoinCoin",
          "Vollar",
          "Reality Clash",
          "Beldex",
          "Horizen"
         ],
         "legendgroup": "3",
         "marker": {
          "color": [
           3,
           3,
           3,
           3,
           3,
           3,
           3,
           3,
           3,
           3,
           3,
           3,
           3,
           3,
           3,
           3,
           3,
           3,
           3,
           3,
           3,
           3,
           3,
           3,
           3,
           3,
           3,
           3,
           3,
           3,
           3,
           3,
           3,
           3,
           3,
           3,
           3,
           3,
           3,
           3,
           3,
           3,
           3,
           3,
           3,
           3,
           3,
           3,
           3,
           3,
           3,
           3,
           3,
           3,
           3,
           3,
           3,
           3,
           3,
           3,
           3,
           3,
           3,
           3,
           3,
           3,
           3,
           3,
           3,
           3,
           3,
           3,
           3,
           3,
           3,
           3,
           3,
           3,
           3,
           3,
           3,
           3,
           3,
           3,
           3,
           3,
           3,
           3,
           3,
           3,
           3,
           3,
           3,
           3,
           3,
           3,
           3,
           3,
           3,
           3,
           3,
           3,
           3,
           3,
           3,
           3,
           3,
           3,
           3,
           3,
           3,
           3,
           3,
           3,
           3,
           3,
           3,
           3,
           3,
           3,
           3,
           3,
           3,
           3,
           3,
           3,
           3,
           3,
           3,
           3,
           3,
           3,
           3,
           3,
           3,
           3,
           3,
           3,
           3,
           3,
           3,
           3,
           3,
           3,
           3,
           3,
           3,
           3,
           3,
           3,
           3,
           3,
           3,
           3,
           3,
           3,
           3,
           3,
           3,
           3,
           3,
           3,
           3,
           3,
           3,
           3,
           3,
           3,
           3,
           3,
           3,
           3,
           3,
           3,
           3,
           3,
           3,
           3,
           3,
           3,
           3,
           3,
           3,
           3,
           3,
           3,
           3,
           3,
           3,
           3,
           3,
           3,
           3,
           3,
           3,
           3,
           3,
           3,
           3,
           3,
           3,
           3,
           3,
           3,
           3,
           3,
           3,
           3,
           3,
           3,
           3,
           3,
           3,
           3,
           3,
           3,
           3,
           3,
           3,
           3,
           3,
           3,
           3,
           3,
           3,
           3,
           3,
           3,
           3,
           3,
           3,
           3,
           3,
           3,
           3,
           3,
           3,
           3,
           3
          ],
          "coloraxis": "coloraxis",
          "symbol": "diamond"
         },
         "mode": "markers",
         "name": "3",
         "scene": "scene",
         "showlegend": true,
         "type": "scatter3d",
         "x": [
          0.21873440997860635,
          0.37784739698113606,
          0.007909108374687349,
          0.438975992085781,
          0.3778236197024185,
          0.3744644090643707,
          0.30947325417352883,
          0.007941553364246392,
          0.08721087583160664,
          0.007934281712647411,
          0.31581724200022654,
          -0.0308048797685945,
          0.21865003083660264,
          0.007862337800705452,
          0.00793285709311595,
          0.03649397597160289,
          0.11446789304651885,
          0.007926205879899211,
          0.007940892127437886,
          0.007942831409166446,
          0.08721388028713667,
          0.3078614142140108,
          0.20807384581517477,
          0.0008723309080166694,
          0.007934655983673846,
          0.007816348743963057,
          0.007934189872221161,
          0.007944645700782698,
          0.22369424885968686,
          0.0074002134627914025,
          0.007909321607927169,
          0.007920033588736811,
          -0.04246365590769117,
          0.2187329695827314,
          0.007850529634341357,
          0.00793547849576576,
          0.007945660808971466,
          0.007924683125937129,
          0.48922951601342196,
          0.007942647073672334,
          0.00535481974797271,
          0.2187358634024717,
          0.0077598291213720446,
          0.007943677923534507,
          0.00791004123717739,
          0.007929475102732673,
          0.21839847869521192,
          0.21872011960138749,
          0.21873000948822013,
          0.21873558427896816,
          0.21874457841162998,
          0.087217422976906,
          0.007933433628174365,
          0.18512436192098078,
          0.00786503333517176,
          0.21872230002648582,
          0.34334155254733484,
          0.44164577767352586,
          0.00790462871894478,
          0.007587713039780075,
          0.007866868910470165,
          0.007945952012255796,
          0.007860793234876845,
          0.007484378412101405,
          0.44768055039103427,
          0.3167584249141641,
          0.15505763727226868,
          0.007941340992042363,
          0.004837107259089033,
          0.41814277741768474,
          0.00794595538975228,
          0.2187368991276836,
          -0.0013378769298456707,
          0.08719996554848891,
          0.4700732690970945,
          0.2187325525229564,
          0.08720862760473712,
          0.007910250052393342,
          0.007886628431268037,
          0.37788996123174845,
          0.4166226057047491,
          0.08720913042026843,
          0.2187330114312328,
          0.007829451328462946,
          0.39216653040712773,
          0.00790601235138922,
          0.20665955590912072,
          0.0871889479777452,
          0.5096646317177628,
          0.007929021075037491,
          0.5063775472589226,
          0.00794128873459277,
          0.08720923050792054,
          0.0079459570757125,
          0.08721482240076622,
          0.2839241541235513,
          0.4457963572676697,
          0.2187408685336322,
          0.3162114790119103,
          0.007872893227151912,
          0.21873947341635083,
          0.007938207759721736,
          0.3798587557653885,
          0.37788186666202767,
          0.3744652150888019,
          0.006847739457595984,
          0.08679217697500466,
          0.08716701223388376,
          0.4457983648363419,
          0.007945618934347457,
          0.4457941445017967,
          0.4700843043566392,
          0.07688192015560147,
          0.4389601615442018,
          0.007944541983249832,
          0.08710321752598543,
          0.3744650228950001,
          0.007890729146841812,
          0.47007560115380753,
          0.4093763140162328,
          0.007513445687323549,
          -0.037149353903158294,
          0.007933479629396402,
          0.21789216416774418,
          0.007932805887706213,
          0.4389417848551283,
          0.28156329672689107,
          0.4316041128208052,
          0.27654374440580815,
          0.44477487358909396,
          0.0871918753755098,
          0.007936094954868496,
          0.007936377528143695,
          0.08720005553658076,
          0.08721487088593781,
          0.44578902939379494,
          0.4805456991957484,
          -0.08650952404582762,
          0.1412022904789283,
          0.08705117828698358,
          0.21873437881518165,
          0.006886476489498144,
          -0.05719439661951146,
          0.007939861520963869,
          0.007929872936485158,
          0.007921337777754944,
          0.007920850477493505,
          0.4457878841411116,
          0.3699767814328103,
          0.08580515410545805,
          0.22381858428019993,
          0.37445993629145846,
          0.5096390015174119,
          0.007890662372461419,
          0.08710284058726285,
          0.22381576146848448,
          0.3778623813198985,
          0.22381734085940042,
          0.3165020487844415,
          0.4284401686060204,
          0.445797618376367,
          0.3766500322834502,
          0.08712588524147052,
          0.43868197208137466,
          0.0056360016410206566,
          0.15972255704412539,
          0.08721404844647031,
          0.22381751283719253,
          0.2236361889425946,
          0.007919123653887798,
          0.08721179003696897,
          0.2187334743384001,
          0.08584818723250144,
          0.12264633696384385,
          0.3206807733632742,
          0.5582701375253079,
          0.4457060149879402,
          0.0023820737542407057,
          0.5096112775014524,
          0.18475188854982807,
          0.00793659420071261,
          -0.0005120061261371949,
          0.0870712678647543,
          0.377127714088638,
          0.4456635520578878,
          0.007942326861575233,
          0.28050965257139904,
          0.37443032429640816,
          0.37982163457053314,
          0.08719339564009201,
          0.4457917769557747,
          -0.037151589838669306,
          0.47008119402891874,
          0.5892871402601454,
          0.3798601207855316,
          0.4457403424244003,
          0.33087590658089466,
          0.40842266750151934,
          0.4210570387404836,
          0.4454448913745941,
          0.17772370595637008,
          0.29896920593371473,
          0.08721357934531047,
          0.007943424037584683,
          0.4388001300100159,
          0.4019960484886196,
          0.09807065226338454,
          0.26693681648610595,
          0.21757620762852203,
          0.08721316527851959,
          0.17771510074575758,
          0.3717738132749648,
          0.37984967514454576,
          0.21873438021586925,
          0.4441350815643874,
          0.36987229713237957,
          0.36987385992549165,
          0.301364348532525,
          0.00791811786309332,
          0.3744271150182723,
          0.3744553180777797,
          0.15504455745582071,
          0.2187144163609764,
          -0.08275865038780661,
          0.2186891995634628,
          -0.0019787257281935504,
          0.2216773734711046,
          0.36916658326549073,
          0.0074899932554958375,
          0.21872998601448213,
          -0.010575173281128458,
          0.11445495569761581,
          0.007943494028520699,
          0.007896191802701926,
          0.31678628381688173,
          0.44023319345989936,
          0.3778828223707161,
          0.4452131274530784,
          0.3744644484743599
         ],
         "y": [
          -1.2508249529113058,
          -2.0321140431770996,
          -1.1733720440747948,
          -2.168429761965959,
          -2.0321688032820413,
          -1.9848183417686245,
          -1.8254747488765155,
          -1.1733945575716622,
          -0.8816485382004844,
          -1.1734020734496444,
          -1.8269706343968153,
          -1.2807982705627894,
          -1.250759857450594,
          -1.1733722915439524,
          -1.173415540134717,
          -0.506574399866712,
          -1.2088905698704848,
          -1.1733827619028687,
          -1.1733935402767297,
          -1.1733931050533473,
          -0.881652290561573,
          -1.821061596358957,
          -1.2435489098750963,
          -1.1683815249520118,
          -1.1733839461383369,
          -1.1733231961638593,
          -1.1733880135568238,
          -1.1733950680539273,
          -1.543233500314893,
          -1.1731704896824025,
          -1.1733662827413827,
          -1.1733837396150941,
          -1.1352454061828086,
          -1.2508227369012397,
          -1.1733608323723697,
          -1.1733847765947147,
          -1.1733923298746172,
          -1.1733777372471055,
          -2.2272209888009455,
          -1.1733914556956704,
          -1.1759301470280015,
          -1.2508271889645857,
          -1.1732524259058268,
          -1.1733978261486238,
          -1.1734456819898178,
          -1.1733891111708628,
          -1.2506852387606926,
          -1.2508142816198313,
          -1.2508273169564224,
          -1.2508524219571882,
          -1.2508315714288776,
          -0.8816499116820646,
          -1.1733829354899108,
          -1.2844839633521539,
          -1.1733831459235384,
          -1.2508167610268477,
          -2.178104007584168,
          -2.2534566999413763,
          -1.1733743385208966,
          -1.1735717761666569,
          -1.1733428941049058,
          -1.1733933337570277,
          -1.1733307692120751,
          -1.1731170284141075,
          -2.1502523081533895,
          -1.8275487064100622,
          -1.443501502909795,
          -1.1733865631462785,
          -1.1729588793121104,
          -2.10729761800361,
          -1.1733924653340926,
          -1.2508287823997915,
          -1.1991252427232586,
          -0.8816374074559737,
          -2.219809210930097,
          -1.2508363444315977,
          -0.8816455143205096,
          -1.1734287093873537,
          -1.1734096620216197,
          -2.0321868806670227,
          -2.1964250780366097,
          -0.881644113107531,
          -1.2508228012840263,
          -1.1733042983480029,
          -2.1803144819785056,
          -1.1733672809267481,
          -1.2416454675109394,
          -0.8816426399884422,
          -2.1799651502932127,
          -1.1734393683473205,
          -2.21409262252717,
          -1.1733937154898895,
          -0.8816481816955903,
          -1.17339246660998,
          -0.8816567846713823,
          -1.2567170137590398,
          -2.2554970417406266,
          -1.2508299898766257,
          -1.827229192398553,
          -1.1733667829712047,
          -1.2508282359865697,
          -1.1733933250555695,
          -2.176781155986579,
          -2.032178472110183,
          -1.9848195818153969,
          -1.1760521825295172,
          -0.8812131603243166,
          -0.8816715261348762,
          -2.2555049148490327,
          -1.1733928588563134,
          -2.2555001618034143,
          -2.2198019225621364,
          -0.9092446416175249,
          -2.1684858740055812,
          -1.1733914828535144,
          -0.8819091658997626,
          -1.9848175463055842,
          -1.1733507274296138,
          -2.219793317438918,
          -2.165829239487833,
          -1.1744666162688233,
          -0.5879838551353185,
          -1.1733884520873128,
          -1.25060743697925,
          -1.1734032825826204,
          -2.1684228054698,
          -2.0252264677761014,
          -2.219621729173158,
          -2.1710044969632905,
          -2.2547910796122843,
          -0.8816541030100757,
          -1.1733854104400265,
          -1.1734100823234017,
          -0.8816492897179644,
          -0.881654206031608,
          -2.2555049060783716,
          -2.216238726390272,
          -1.1150662398875597,
          -1.0901649968663243,
          -0.8818726005603423,
          -1.2508249049672222,
          -1.176329256511058,
          -1.073175527418105,
          -1.173391519760351,
          -1.173403989791105,
          -1.1733978179798168,
          -1.1733970682815542,
          -2.2555183192767116,
          -1.9870391945093064,
          -0.8802600954310847,
          -1.5432903855243083,
          -1.9848114605285614,
          -2.1799806568217974,
          -1.1733506246990375,
          -0.8816258644513932,
          -1.5432938719167173,
          -2.0322588839163056,
          -1.5432905603448843,
          -1.827441349774065,
          -2.265761943778634,
          -2.255500069312756,
          -2.034621492126126,
          -0.881748309270731,
          -2.168412150842157,
          -1.172013175631104,
          -1.1480770524408364,
          -0.8816533321913393,
          -1.5432861274009633,
          -1.543215509522809,
          -1.1733787531865125,
          -0.8816512495493292,
          -1.2508231507006926,
          -1.0960026852120388,
          -0.15153374858011487,
          -2.497961965575594,
          -2.2601913520343597,
          -2.2554998483138635,
          -1.169181876713113,
          -2.179913513210408,
          -1.2843528386642884,
          -1.173395192200835,
          -1.168386081261284,
          -0.8816425341042907,
          -2.0338340459094715,
          -2.255723331170611,
          -1.1733957475763668,
          -1.988753578050985,
          -1.9847872161300868,
          -2.1768452248339187,
          -0.8816564418959877,
          -2.2554936486869352,
          -0.5879685617823409,
          -2.2198042184947036,
          -2.1501481299137866,
          -2.1767785150104038,
          -2.2556674888112447,
          -2.0636434054586545,
          -2.2780262251966046,
          -2.0673241899627,
          -2.2553869276276584,
          -1.188983002694453,
          -2.176093835776168,
          -0.8816531324393573,
          -1.17339791629297,
          -2.168920376294764,
          -2.247549348857435,
          -0.8461359738690272,
          -2.0454459750813636,
          -1.2499473639102352,
          -0.881654235233658,
          -1.189003657469251,
          -1.9839754661077187,
          -2.1767944139561135,
          -1.2508249071221418,
          -2.256451310673033,
          -2.1434475196836487,
          -2.1434151748241357,
          -2.134405614891629,
          -1.1734015633525174,
          -1.9848661383003732,
          -1.9848086555089328,
          -1.4435248755874925,
          -1.250812896388886,
          -0.25887446967188643,
          -1.2508193364745674,
          -1.2007925470906198,
          -1.5417242716823862,
          -2.1453607688925422,
          -1.1731256666986971,
          -1.2508272808427117,
          -1.1666457513651616,
          -1.2088798001898309,
          -1.1733905839317171,
          -1.1733947979872548,
          -1.8275927844552577,
          -2.2392291606644616,
          -2.032179195363516,
          -2.255204444418094,
          -1.9848184023998272
         ],
         "z": [
          -0.1453948188652665,
          -0.1499080090352,
          -0.17689526123408614,
          -0.14915523851252704,
          -0.14835480716766977,
          -0.1685353503183,
          0.1691119755756967,
          -0.17803818562085852,
          -0.20950996601610147,
          -0.17765588163635285,
          -0.08354977733592572,
          2.535452864819071,
          -0.14248816174258333,
          -0.17491929584879998,
          -0.17746053239151982,
          -0.23160211263676916,
          -0.19367662345047426,
          -0.17750905645713339,
          -0.17802050085347712,
          -0.1781066993514105,
          -0.20959905611894472,
          0.19280487063786966,
          0.23135795801849776,
          0.0699042550372335,
          -0.17785371529284852,
          -0.17347182608905384,
          -0.17779320120506037,
          -0.1781635400295958,
          -0.1696566933521331,
          -0.15744657124510344,
          -0.17696211608332643,
          -0.17723879862453407,
          1.56569691036153,
          -0.1453562955016505,
          -0.17453612865995854,
          -0.177880081359963,
          -0.178233870262674,
          -0.17749526348495323,
          -0.136552367116767,
          -0.17811548480594272,
          -0.04342784152107971,
          -0.14543369066219014,
          -0.17179768737179013,
          -0.17809500692347494,
          -0.17619512345911278,
          -0.1775832392703467,
          -0.1326232906632853,
          -0.14489900281994558,
          -0.14518539992888066,
          -0.14516851380492174,
          -0.14575740933215345,
          -0.20977242920719322,
          -0.1778122874255046,
          -0.1897593005533788,
          -0.1749240298960076,
          -0.1449661065188428,
          3.8460482649593635,
          0.45483050330515,
          -0.1766832008623034,
          -0.16132822839063957,
          -0.1754057058359374,
          -0.1782360761920521,
          -0.1752711060097909,
          -0.16153478208889202,
          -0.13402005605659126,
          -0.11745768858311753,
          -0.1774032920712826,
          -0.17810950764131242,
          -0.051421604569431525,
          -0.10760709672925296,
          -0.17824493973715377,
          -0.14546139111565815,
          0.4719038326402183,
          -0.20916138674190551,
          -0.1429872931024625,
          -0.14520204572939566,
          -0.20944546923110993,
          -0.17637437969899727,
          -0.17556894835678732,
          -0.15097254214826403,
          0.35232047904998537,
          -0.20948075699898316,
          -0.1453574147391196,
          -0.17421446749810288,
          -0.15550228225535828,
          -0.17681245814287,
          0.2719187057899625,
          -0.2086439542527031,
          -0.15391252989105697,
          -0.17705938001690064,
          -0.16600295114932043,
          -0.17803547610017798,
          -0.20944412188674053,
          -0.17824499806316593,
          -0.20959367696734005,
          -0.33459869247406754,
          0.3001870516486698,
          -0.14561675390680318,
          -0.09758803560176645,
          -0.17542000030153118,
          -0.14557550028532568,
          -0.17790939552900337,
          -0.15544227135593722,
          -0.1507154344109361,
          -0.16855690742828336,
          -0.10519592907894172,
          -0.1962152345108891,
          -0.20742829187296427,
          0.30018140720290226,
          -0.17822679113215498,
          0.3003117519596289,
          -0.1435261174474955,
          0.5034499188626385,
          -0.1479237718713454,
          -0.1781951676175565,
          -0.20235001135272115,
          -0.16856923918819808,
          -0.17633382117325486,
          -0.14324530248421782,
          -0.15209359970405975,
          -0.14920820093731268,
          -0.18390589712399785,
          -0.17775882868306142,
          -0.11204070918889181,
          -0.1775814667631444,
          -0.14778172722794602,
          -0.13578961466544096,
          -0.046873326444838104,
          -0.1440302140147412,
          0.33619892555281067,
          -0.20865235953726008,
          -0.1778997274823223,
          -0.17766388624194723,
          -0.20904585760745367,
          -0.20962161847181862,
          0.3005752272919919,
          -0.16274158995994126,
          3.2215615676427922,
          -0.11811593687040979,
          -0.20052142327824282,
          -0.1453939853999582,
          -0.10404795285888264,
          1.5639299790212469,
          -0.1779973052955578,
          -0.17745060909204902,
          -0.17715244849491674,
          -0.17713941565758343,
          0.30075825154349656,
          0.04312234229885923,
          -0.16413893090412202,
          -0.17433175254244315,
          -0.16841572608166214,
          -0.1526753434369995,
          -0.17633203529357627,
          -0.2051791268701257,
          -0.17417763258069432,
          -0.14908572633000103,
          -0.1742775308980615,
          -0.10771803659605123,
          1.1356139204014293,
          0.30016424330511154,
          -0.07420456042474623,
          -0.20492185676528274,
          -0.13692594816887352,
          -0.09462799635416304,
          1.0918381623892326,
          -0.2095956911465459,
          -0.17432930478701764,
          -0.16738753066411663,
          -0.1772504796084263,
          -0.2095213124382809,
          -0.14537343809137648,
          -0.2009363987388758,
          -0.27397913748677427,
          8.014352550290115,
          -0.15258515586307303,
          0.3040272207721151,
          0.01423822544297827,
          -0.15217981261985064,
          -0.17535962357364585,
          -0.17782256097049237,
          0.12836198916438443,
          -0.20367951568781736,
          -0.10226813474370207,
          0.3080632397928966,
          -0.1780588727939789,
          -0.1449217696871062,
          -0.16740972201543194,
          -0.1532325422190819,
          -0.20869301898807865,
          0.3003462431715118,
          -0.18396513366537107,
          -0.14337182082199823,
          -0.15228027344089792,
          -0.1555263899421223,
          0.30426228699575825,
          0.5845886723251957,
          2.1034131555870728,
          -0.15139886057773594,
          0.31391131610920653,
          -0.1862191092380895,
          -0.1365981962163795,
          -0.20957790344989832,
          -0.17808338896475692,
          -0.13680781902273553,
          -0.14649586967334569,
          -0.09731249110946841,
          3.0997474019351974,
          -0.10533765482575659,
          -0.20954935726057985,
          -0.18564859007297962,
          -0.06347037699049884,
          -0.15492597381767031,
          -0.14539402286131942,
          0.3798675620299028,
          -0.13200281588591856,
          -0.1323935771284212,
          -0.14720279313549187,
          -0.17697897203156066,
          -0.16648174049316944,
          -0.1682490300357069,
          -0.17661667310117016,
          -0.14467226611207662,
          -0.1065056873127106,
          -0.14354357180651287,
          0.5156880924102676,
          -0.09971106122048419,
          -0.08301170909929514,
          -0.1616849509815274,
          -0.1451847721241525,
          0.5354993798326126,
          -0.1932388863759284,
          -0.1781599765740997,
          -0.17612174422444923,
          -0.11819054408426112,
          -0.12450375976559347,
          -0.15074849727015005,
          0.3218580086640441,
          -0.16853640433786518
         ]
        },
        {
         "customdata": [
          [
           "VeChainThor Authority"
          ],
          [
           "Proof-of-BibleHash"
          ],
          [
           "SHA-256 + Hive"
          ],
          [
           "Proof-of-Authority"
          ],
          [
           "ECC 256K1"
          ],
          [
           "Leased POS"
          ]
         ],
         "hovertemplate": "<b>%{hovertext}</b><br><br>Class=%{marker.color}<br>PC3=%{x}<br>PC2=%{y}<br>PC1=%{z}<br>Algorithm=%{customdata[0]}<extra></extra>",
         "hovertext": [
          "Vechain",
          "BiblePay",
          "LitecoinCash",
          "Poa Network",
          "Acute Angle Cloud",
          "Waves"
         ],
         "legendgroup": "2",
         "marker": {
          "color": [
           2,
           2,
           2,
           2,
           2,
           2
          ],
          "coloraxis": "coloraxis",
          "symbol": "square"
         },
         "mode": "markers",
         "name": "2",
         "scene": "scene",
         "showlegend": true,
         "type": "scatter3d",
         "x": [
          9.916606744296278,
          15.421325528082654,
          18.912605449289842,
          9.509731764943322,
          8.927058877210476,
          11.202891176762527
         ],
         "y": [
          0.5248816043007841,
          3.46532757950319,
          1.9643102113952278,
          4.726690350323089,
          5.109006216606668,
          4.439561834841499
         ],
         "z": [
          4.5755095168999755,
          -0.262873533137743,
          -0.3174352508126391,
          -0.49154567056223253,
          -0.4046113379906128,
          -0.45400482989144864
         ]
        },
        {
         "customdata": [
          [
           "TRC10"
          ]
         ],
         "hovertemplate": "<b>%{hovertext}</b><br><br>Class=%{marker.color}<br>PC3=%{x}<br>PC2=%{y}<br>PC1=%{z}<br>Algorithm=%{customdata[0]}<extra></extra>",
         "hovertext": [
          "BitTorrent"
         ],
         "legendgroup": "1",
         "marker": {
          "color": [
           1
          ],
          "coloraxis": "coloraxis",
          "symbol": "x"
         },
         "mode": "markers",
         "name": "1",
         "scene": "scene",
         "showlegend": true,
         "type": "scatter3d",
         "x": [
          -1.3943834317447206
         ],
         "y": [
          2.3150201551138037
         ],
         "z": [
          34.00091602404568
         ]
        }
       ],
       "layout": {
        "autosize": true,
        "coloraxis": {
         "colorbar": {
          "title": {
           "text": "Class"
          }
         },
         "colorscale": [
          [
           0,
           "#0d0887"
          ],
          [
           0.1111111111111111,
           "#46039f"
          ],
          [
           0.2222222222222222,
           "#7201a8"
          ],
          [
           0.3333333333333333,
           "#9c179e"
          ],
          [
           0.4444444444444444,
           "#bd3786"
          ],
          [
           0.5555555555555556,
           "#d8576b"
          ],
          [
           0.6666666666666666,
           "#ed7953"
          ],
          [
           0.7777777777777778,
           "#fb9f3a"
          ],
          [
           0.8888888888888888,
           "#fdca26"
          ],
          [
           1,
           "#f0f921"
          ]
         ]
        },
        "legend": {
         "title": {
          "text": "Class"
         },
         "tracegroupgap": 0,
         "x": 0,
         "y": 1
        },
        "margin": {
         "t": 60
        },
        "scene": {
         "aspectmode": "auto",
         "aspectratio": {
          "x": 1,
          "y": 1,
          "z": 1
         },
         "domain": {
          "x": [
           0,
           1
          ],
          "y": [
           0,
           1
          ]
         },
         "xaxis": {
          "title": {
           "text": "PC3"
          },
          "type": "linear"
         },
         "yaxis": {
          "title": {
           "text": "PC2"
          },
          "type": "linear"
         },
         "zaxis": {
          "title": {
           "text": "PC1"
          },
          "type": "linear"
         }
        },
        "template": {
         "data": {
          "bar": [
           {
            "error_x": {
             "color": "#2a3f5f"
            },
            "error_y": {
             "color": "#2a3f5f"
            },
            "marker": {
             "line": {
              "color": "#E5ECF6",
              "width": 0.5
             }
            },
            "type": "bar"
           }
          ],
          "barpolar": [
           {
            "marker": {
             "line": {
              "color": "#E5ECF6",
              "width": 0.5
             }
            },
            "type": "barpolar"
           }
          ],
          "carpet": [
           {
            "aaxis": {
             "endlinecolor": "#2a3f5f",
             "gridcolor": "white",
             "linecolor": "white",
             "minorgridcolor": "white",
             "startlinecolor": "#2a3f5f"
            },
            "baxis": {
             "endlinecolor": "#2a3f5f",
             "gridcolor": "white",
             "linecolor": "white",
             "minorgridcolor": "white",
             "startlinecolor": "#2a3f5f"
            },
            "type": "carpet"
           }
          ],
          "choropleth": [
           {
            "colorbar": {
             "outlinewidth": 0,
             "ticks": ""
            },
            "type": "choropleth"
           }
          ],
          "contour": [
           {
            "colorbar": {
             "outlinewidth": 0,
             "ticks": ""
            },
            "colorscale": [
             [
              0,
              "#0d0887"
             ],
             [
              0.1111111111111111,
              "#46039f"
             ],
             [
              0.2222222222222222,
              "#7201a8"
             ],
             [
              0.3333333333333333,
              "#9c179e"
             ],
             [
              0.4444444444444444,
              "#bd3786"
             ],
             [
              0.5555555555555556,
              "#d8576b"
             ],
             [
              0.6666666666666666,
              "#ed7953"
             ],
             [
              0.7777777777777778,
              "#fb9f3a"
             ],
             [
              0.8888888888888888,
              "#fdca26"
             ],
             [
              1,
              "#f0f921"
             ]
            ],
            "type": "contour"
           }
          ],
          "contourcarpet": [
           {
            "colorbar": {
             "outlinewidth": 0,
             "ticks": ""
            },
            "type": "contourcarpet"
           }
          ],
          "heatmap": [
           {
            "colorbar": {
             "outlinewidth": 0,
             "ticks": ""
            },
            "colorscale": [
             [
              0,
              "#0d0887"
             ],
             [
              0.1111111111111111,
              "#46039f"
             ],
             [
              0.2222222222222222,
              "#7201a8"
             ],
             [
              0.3333333333333333,
              "#9c179e"
             ],
             [
              0.4444444444444444,
              "#bd3786"
             ],
             [
              0.5555555555555556,
              "#d8576b"
             ],
             [
              0.6666666666666666,
              "#ed7953"
             ],
             [
              0.7777777777777778,
              "#fb9f3a"
             ],
             [
              0.8888888888888888,
              "#fdca26"
             ],
             [
              1,
              "#f0f921"
             ]
            ],
            "type": "heatmap"
           }
          ],
          "heatmapgl": [
           {
            "colorbar": {
             "outlinewidth": 0,
             "ticks": ""
            },
            "colorscale": [
             [
              0,
              "#0d0887"
             ],
             [
              0.1111111111111111,
              "#46039f"
             ],
             [
              0.2222222222222222,
              "#7201a8"
             ],
             [
              0.3333333333333333,
              "#9c179e"
             ],
             [
              0.4444444444444444,
              "#bd3786"
             ],
             [
              0.5555555555555556,
              "#d8576b"
             ],
             [
              0.6666666666666666,
              "#ed7953"
             ],
             [
              0.7777777777777778,
              "#fb9f3a"
             ],
             [
              0.8888888888888888,
              "#fdca26"
             ],
             [
              1,
              "#f0f921"
             ]
            ],
            "type": "heatmapgl"
           }
          ],
          "histogram": [
           {
            "marker": {
             "colorbar": {
              "outlinewidth": 0,
              "ticks": ""
             }
            },
            "type": "histogram"
           }
          ],
          "histogram2d": [
           {
            "colorbar": {
             "outlinewidth": 0,
             "ticks": ""
            },
            "colorscale": [
             [
              0,
              "#0d0887"
             ],
             [
              0.1111111111111111,
              "#46039f"
             ],
             [
              0.2222222222222222,
              "#7201a8"
             ],
             [
              0.3333333333333333,
              "#9c179e"
             ],
             [
              0.4444444444444444,
              "#bd3786"
             ],
             [
              0.5555555555555556,
              "#d8576b"
             ],
             [
              0.6666666666666666,
              "#ed7953"
             ],
             [
              0.7777777777777778,
              "#fb9f3a"
             ],
             [
              0.8888888888888888,
              "#fdca26"
             ],
             [
              1,
              "#f0f921"
             ]
            ],
            "type": "histogram2d"
           }
          ],
          "histogram2dcontour": [
           {
            "colorbar": {
             "outlinewidth": 0,
             "ticks": ""
            },
            "colorscale": [
             [
              0,
              "#0d0887"
             ],
             [
              0.1111111111111111,
              "#46039f"
             ],
             [
              0.2222222222222222,
              "#7201a8"
             ],
             [
              0.3333333333333333,
              "#9c179e"
             ],
             [
              0.4444444444444444,
              "#bd3786"
             ],
             [
              0.5555555555555556,
              "#d8576b"
             ],
             [
              0.6666666666666666,
              "#ed7953"
             ],
             [
              0.7777777777777778,
              "#fb9f3a"
             ],
             [
              0.8888888888888888,
              "#fdca26"
             ],
             [
              1,
              "#f0f921"
             ]
            ],
            "type": "histogram2dcontour"
           }
          ],
          "mesh3d": [
           {
            "colorbar": {
             "outlinewidth": 0,
             "ticks": ""
            },
            "type": "mesh3d"
           }
          ],
          "parcoords": [
           {
            "line": {
             "colorbar": {
              "outlinewidth": 0,
              "ticks": ""
             }
            },
            "type": "parcoords"
           }
          ],
          "pie": [
           {
            "automargin": true,
            "type": "pie"
           }
          ],
          "scatter": [
           {
            "marker": {
             "colorbar": {
              "outlinewidth": 0,
              "ticks": ""
             }
            },
            "type": "scatter"
           }
          ],
          "scatter3d": [
           {
            "line": {
             "colorbar": {
              "outlinewidth": 0,
              "ticks": ""
             }
            },
            "marker": {
             "colorbar": {
              "outlinewidth": 0,
              "ticks": ""
             }
            },
            "type": "scatter3d"
           }
          ],
          "scattercarpet": [
           {
            "marker": {
             "colorbar": {
              "outlinewidth": 0,
              "ticks": ""
             }
            },
            "type": "scattercarpet"
           }
          ],
          "scattergeo": [
           {
            "marker": {
             "colorbar": {
              "outlinewidth": 0,
              "ticks": ""
             }
            },
            "type": "scattergeo"
           }
          ],
          "scattergl": [
           {
            "marker": {
             "colorbar": {
              "outlinewidth": 0,
              "ticks": ""
             }
            },
            "type": "scattergl"
           }
          ],
          "scattermapbox": [
           {
            "marker": {
             "colorbar": {
              "outlinewidth": 0,
              "ticks": ""
             }
            },
            "type": "scattermapbox"
           }
          ],
          "scatterpolar": [
           {
            "marker": {
             "colorbar": {
              "outlinewidth": 0,
              "ticks": ""
             }
            },
            "type": "scatterpolar"
           }
          ],
          "scatterpolargl": [
           {
            "marker": {
             "colorbar": {
              "outlinewidth": 0,
              "ticks": ""
             }
            },
            "type": "scatterpolargl"
           }
          ],
          "scatterternary": [
           {
            "marker": {
             "colorbar": {
              "outlinewidth": 0,
              "ticks": ""
             }
            },
            "type": "scatterternary"
           }
          ],
          "surface": [
           {
            "colorbar": {
             "outlinewidth": 0,
             "ticks": ""
            },
            "colorscale": [
             [
              0,
              "#0d0887"
             ],
             [
              0.1111111111111111,
              "#46039f"
             ],
             [
              0.2222222222222222,
              "#7201a8"
             ],
             [
              0.3333333333333333,
              "#9c179e"
             ],
             [
              0.4444444444444444,
              "#bd3786"
             ],
             [
              0.5555555555555556,
              "#d8576b"
             ],
             [
              0.6666666666666666,
              "#ed7953"
             ],
             [
              0.7777777777777778,
              "#fb9f3a"
             ],
             [
              0.8888888888888888,
              "#fdca26"
             ],
             [
              1,
              "#f0f921"
             ]
            ],
            "type": "surface"
           }
          ],
          "table": [
           {
            "cells": {
             "fill": {
              "color": "#EBF0F8"
             },
             "line": {
              "color": "white"
             }
            },
            "header": {
             "fill": {
              "color": "#C8D4E3"
             },
             "line": {
              "color": "white"
             }
            },
            "type": "table"
           }
          ]
         },
         "layout": {
          "annotationdefaults": {
           "arrowcolor": "#2a3f5f",
           "arrowhead": 0,
           "arrowwidth": 1
          },
          "autotypenumbers": "strict",
          "coloraxis": {
           "colorbar": {
            "outlinewidth": 0,
            "ticks": ""
           }
          },
          "colorscale": {
           "diverging": [
            [
             0,
             "#8e0152"
            ],
            [
             0.1,
             "#c51b7d"
            ],
            [
             0.2,
             "#de77ae"
            ],
            [
             0.3,
             "#f1b6da"
            ],
            [
             0.4,
             "#fde0ef"
            ],
            [
             0.5,
             "#f7f7f7"
            ],
            [
             0.6,
             "#e6f5d0"
            ],
            [
             0.7,
             "#b8e186"
            ],
            [
             0.8,
             "#7fbc41"
            ],
            [
             0.9,
             "#4d9221"
            ],
            [
             1,
             "#276419"
            ]
           ],
           "sequential": [
            [
             0,
             "#0d0887"
            ],
            [
             0.1111111111111111,
             "#46039f"
            ],
            [
             0.2222222222222222,
             "#7201a8"
            ],
            [
             0.3333333333333333,
             "#9c179e"
            ],
            [
             0.4444444444444444,
             "#bd3786"
            ],
            [
             0.5555555555555556,
             "#d8576b"
            ],
            [
             0.6666666666666666,
             "#ed7953"
            ],
            [
             0.7777777777777778,
             "#fb9f3a"
            ],
            [
             0.8888888888888888,
             "#fdca26"
            ],
            [
             1,
             "#f0f921"
            ]
           ],
           "sequentialminus": [
            [
             0,
             "#0d0887"
            ],
            [
             0.1111111111111111,
             "#46039f"
            ],
            [
             0.2222222222222222,
             "#7201a8"
            ],
            [
             0.3333333333333333,
             "#9c179e"
            ],
            [
             0.4444444444444444,
             "#bd3786"
            ],
            [
             0.5555555555555556,
             "#d8576b"
            ],
            [
             0.6666666666666666,
             "#ed7953"
            ],
            [
             0.7777777777777778,
             "#fb9f3a"
            ],
            [
             0.8888888888888888,
             "#fdca26"
            ],
            [
             1,
             "#f0f921"
            ]
           ]
          },
          "colorway": [
           "#636efa",
           "#EF553B",
           "#00cc96",
           "#ab63fa",
           "#FFA15A",
           "#19d3f3",
           "#FF6692",
           "#B6E880",
           "#FF97FF",
           "#FECB52"
          ],
          "font": {
           "color": "#2a3f5f"
          },
          "geo": {
           "bgcolor": "white",
           "lakecolor": "white",
           "landcolor": "#E5ECF6",
           "showlakes": true,
           "showland": true,
           "subunitcolor": "white"
          },
          "hoverlabel": {
           "align": "left"
          },
          "hovermode": "closest",
          "mapbox": {
           "style": "light"
          },
          "paper_bgcolor": "white",
          "plot_bgcolor": "#E5ECF6",
          "polar": {
           "angularaxis": {
            "gridcolor": "white",
            "linecolor": "white",
            "ticks": ""
           },
           "bgcolor": "#E5ECF6",
           "radialaxis": {
            "gridcolor": "white",
            "linecolor": "white",
            "ticks": ""
           }
          },
          "scene": {
           "xaxis": {
            "backgroundcolor": "#E5ECF6",
            "gridcolor": "white",
            "gridwidth": 2,
            "linecolor": "white",
            "showbackground": true,
            "ticks": "",
            "zerolinecolor": "white"
           },
           "yaxis": {
            "backgroundcolor": "#E5ECF6",
            "gridcolor": "white",
            "gridwidth": 2,
            "linecolor": "white",
            "showbackground": true,
            "ticks": "",
            "zerolinecolor": "white"
           },
           "zaxis": {
            "backgroundcolor": "#E5ECF6",
            "gridcolor": "white",
            "gridwidth": 2,
            "linecolor": "white",
            "showbackground": true,
            "ticks": "",
            "zerolinecolor": "white"
           }
          },
          "shapedefaults": {
           "line": {
            "color": "#2a3f5f"
           }
          },
          "ternary": {
           "aaxis": {
            "gridcolor": "white",
            "linecolor": "white",
            "ticks": ""
           },
           "baxis": {
            "gridcolor": "white",
            "linecolor": "white",
            "ticks": ""
           },
           "bgcolor": "#E5ECF6",
           "caxis": {
            "gridcolor": "white",
            "linecolor": "white",
            "ticks": ""
           }
          },
          "title": {
           "x": 0.05
          },
          "xaxis": {
           "automargin": true,
           "gridcolor": "white",
           "linecolor": "white",
           "ticks": "",
           "title": {
            "standoff": 15
           },
           "zerolinecolor": "white",
           "zerolinewidth": 2
          },
          "yaxis": {
           "automargin": true,
           "gridcolor": "white",
           "linecolor": "white",
           "ticks": "",
           "title": {
            "standoff": 15
           },
           "zerolinecolor": "white",
           "zerolinewidth": 2
          }
         }
        }
       }
      },
      "image/png": "[encoded data removed]",
      "text/html": [
       "<div>                            <div id=\"edf3a089-adf7-43ae-af61-d7965a65a97b\" class=\"plotly-graph-div\" style=\"height:525px; width:800px;\"></div>            <script type=\"text/javascript\">                require([\"plotly\"], function(Plotly) {                    window.PLOTLYENV=window.PLOTLYENV || {};                                    if (document.getElementById(\"edf3a089-adf7-43ae-af61-d7965a65a97b\")) {                    Plotly.newPlot(                        \"edf3a089-adf7-43ae-af61-d7965a65a97b\",                        [{\"customdata\": [[\"Scrypt\"], [\"Scrypt\"], [\"X13\"], [\"X11\"], [\"SHA-512\"], [\"SHA-256\"], [\"SHA-256\"], [\"X15\"], [\"Scrypt\"], [\"Scrypt\"], [\"Scrypt\"], [\"Scrypt\"], [\"Scrypt\"], [\"Scrypt\"], [\"Groestl\"], [\"PoS\"], [\"Scrypt\"], [\"Scrypt\"], [\"X11\"], [\"X11\"], [\"SHA3\"], [\"Scrypt\"], [\"SHA-256\"], [\"Scrypt\"], [\"X13\"], [\"X13\"], [\"NeoScrypt\"], [\"Scrypt\"], [\"Scrypt\"], [\"Scrypt\"], [\"X11\"], [\"X11\"], [\"Multiple\"], [\"PHI1612\"], [\"X11\"], [\"Scrypt\"], [\"Scrypt\"], [\"Scrypt\"], [\"X11\"], [\"Multiple\"], [\"X13\"], [\"Scrypt\"], [\"Shabal256\"], [\"Counterparty\"], [\"SHA-256\"], [\"Groestl\"], [\"Scrypt\"], [\"X13\"], [\"Scrypt\"], [\"Scrypt\"], [\"X13\"], [\"X11\"], [\"Scrypt\"], [\"X11\"], [\"SHA3\"], [\"QUAIT\"], [\"X11\"], [\"Scrypt\"], [\"X13\"], [\"SHA-256\"], [\"X15\"], [\"BLAKE256\"], [\"SHA-256\"], [\"X11\"], [\"SHA-256\"], [\"NIST5\"], [\"Scrypt\"], [\"Scrypt\"], [\"X11\"], [\"Scrypt\"], [\"SHA-256\"], [\"Scrypt\"], [\"PoS\"], [\"X11\"], [\"SHA-256\"], [\"SHA-256\"], [\"NIST5\"], [\"X11\"], [\"POS 3.0\"], [\"Scrypt\"], [\"Scrypt\"], [\"Scrypt\"], [\"X13\"], [\"X11\"], [\"X11\"], [\"Scrypt\"], [\"SHA-256\"], [\"X11\"], [\"Scrypt\"], [\"Scrypt\"], [\"Scrypt\"], [\"Scrypt\"], [\"SHA-256D\"], [\"PoS\"], [\"Scrypt\"], [\"X11\"], [\"PoS\"], [\"X13\"], [\"X14\"], [\"PoS\"], [\"SHA-256D\"], [\"DPoS\"], [\"X11\"], [\"X13\"], [\"X11\"], [\"PoS\"], [\"Scrypt\"], [\"Scrypt\"], [\"PoS\"], [\"X11\"], [\"SHA-256\"], [\"Scrypt\"], [\"X11\"], [\"Scrypt\"], [\"Scrypt\"], [\"X11\"], [\"Scrypt\"], [\"Scrypt\"], [\"Scrypt\"], [\"Scrypt\"], [\"Quark\"], [\"QuBit\"], [\"Scrypt\"], [\"SHA-256\"], [\"X11\"], [\"Scrypt\"], [\"Scrypt\"], [\"Scrypt\"], [\"Scrypt\"], [\"X13\"], [\"Scrypt\"], [\"Scrypt\"], [\"X11\"], [\"Blake2S\"], [\"X11\"], [\"PoS\"], [\"X11\"], [\"PoS\"], [\"X11\"], [\"Scrypt\"], [\"Scrypt\"], [\"Scrypt\"], [\"SHA-256\"], [\"X11\"], [\"Scrypt\"], [\"PoS\"], [\"Scrypt\"], [\"X15\"], [\"SHA-256\"], [\"POS 3.0\"], [\"536\"], [\"NIST5\"], [\"NIST5\"], [\"Skein\"], [\"X13\"], [\"Scrypt\"], [\"X13\"], [\"SkunkHash v2 Raptor\"], [\"Skein\"], [\"X11\"], [\"Scrypt\"], [\"PoS\"], [\"Scrypt\"], [\"Scrypt\"], [\"SHA-512\"], [\"Ouroboros\"], [\"X11\"], [\"NeoScrypt\"], [\"Scrypt\"], [\"Lyra2REv2\"], [\"Scrypt\"], [\"SHA-256\"], [\"NIST5\"], [\"PHI1612\"], [\"Scrypt\"], [\"Quark\"], [\"POS 2.0\"], [\"Scrypt\"], [\"SHA-256\"], [\"X11\"], [\"DPoS\"], [\"NIST5\"], [\"X13\"], [\"Scrypt\"], [\"NIST5\"], [\"Quark\"], [\"Scrypt\"], [\"Scrypt\"], [\"X11\"], [\"Quark\"], [\"Scrypt\"], [\"Scrypt\"], [\"X11\"], [\"POS 3.0\"], [\"Scrypt\"], [\"Scrypt\"], [\"X13\"], [\"C11\"], [\"X11\"], [\"XEVAN\"], [\"Scrypt\"], [\"VBFT\"], [\"NIST5\"], [\"Scrypt\"], [\"Scrypt\"], [\"Scrypt\"], [\"Green Protocol\"], [\"PoS\"], [\"Scrypt\"], [\"Semux BFT consensus\"], [\"Quark\"], [\"PoS\"], [\"X16R\"], [\"Scrypt\"], [\"XEVAN\"], [\"Scrypt\"], [\"Scrypt\"], [\"Scrypt\"], [\"SHA-256D\"], [\"Scrypt\"], [\"X15\"], [\"Scrypt\"], [\"Quark\"], [\"SHA-256\"], [\"DPoS\"], [\"X16R\"], [\"Quark\"], [\"Quark\"], [\"Scrypt\"], [\"Lyra2REv2\"], [\"Quark\"], [\"Scrypt\"], [\"X11\"], [\"X11\"], [\"Scrypt\"], [\"PoS\"], [\"Keccak\"], [\"X11\"], [\"Scrypt\"], [\"SHA-512\"], [\"XEVAN\"], [\"XEVAN\"], [\"X11\"], [\"Quark\"], [\"Equihash\"], [\"Scrypt\"], [\"Quark\"], [\"Quark\"], [\"Scrypt\"], [\"X11\"], [\"Scrypt\"], [\"XEVAN\"], [\"SHA-256D\"], [\"X11\"], [\"X11\"], [\"DPoS\"], [\"Scrypt\"], [\"X11\"], [\"Scrypt\"], [\"Scrypt\"], [\"SHA-256\"], [\"Scrypt\"], [\"X11\"], [\"Scrypt\"], [\"SHA-256\"], [\"X11\"], [\"Scrypt\"], [\"Scrypt\"], [\"X11\"], [\"Scrypt\"], [\"PoS\"], [\"X11\"], [\"SHA-256\"], [\"DPoS\"], [\"Scrypt\"], [\"Scrypt\"], [\"NeoScrypt\"], [\"X13\"], [\"DPoS\"], [\"DPoS\"], [\"SHA-256\"], [\"PoS\"], [\"PoS\"], [\"SHA-256\"], [\"Scrypt\"], [\"Scrypt\"]], \"hovertemplate\": \"<b>%{hovertext}</b><br><br>Class=%{marker.color}<br>PC3=%{x}<br>PC2=%{y}<br>PC1=%{z}<br>Algorithm=%{customdata[0]}<extra></extra>\", \"hovertext\": [\"42 Coin\", \"404Coin\", \"EliteCoin\", \"Dash\", \"Bitshares\", \"BitcoinDark\", \"PayCoin\", \"KoboCoin\", \"Aurora Coin\", \"BlueCoin\", \"EnergyCoin\", \"BitBar\", \"CryptoBullion\", \"CasinoCoin\", \"Diamond\", \"Exclusive Coin\", \"FlutterCoin\", \"HoboNickels\", \"HyperStake\", \"IOCoin\", \"MaxCoin\", \"MintCoin\", \"MazaCoin\", \"Nautilus Coin\", \"NavCoin\", \"OpalCoin\", \"Orbitcoin\", \"PotCoin\", \"PhoenixCoin\", \"Reddcoin\", \"SuperCoin\", \"SyncCoin\", \"TeslaCoin\", \"TittieCoin\", \"TorCoin\", \"UnitaryStatus Dollar\", \"UltraCoin\", \"VeriCoin\", \"X11 Coin\", \"Crypti\", \"StealthCoin\", \"ZCC Coin\", \"BurstCoin\", \"StorjCoin\", \"Neutron\", \"FairCoin\", \"RubyCoin\", \"Kore\", \"Dnotes\", \"8BIT Coin\", \"Sativa Coin\", \"Ucoin\", \"Vtorrent\", \"IslaCoin\", \"Nexus\", \"Droidz\", \"Squall Coin\", \"Diggits\", \"Paycon\", \"Emercoin\", \"EverGreenCoin\", \"Decred\", \"EDRCoin\", \"Hitcoin\", \"DubaiCoin\", \"PWR Coin\", \"BillaryCoin\", \"GPU Coin\", \"EuropeCoin\", \"ZeitCoin\", \"SwingCoin\", \"SafeExchangeCoin\", \"Nebuchadnezzar\", \"Ratecoin\", \"Revenu\", \"Clockcoin\", \"VIP Tokens\", \"BitSend\", \"Let it Ride\", \"PutinCoin\", \"iBankCoin\", \"Frankywillcoin\", \"MudraCoin\", \"Lutetium Coin\", \"GoldBlocks\", \"CarterCoin\", \"BitTokens\", \"MustangCoin\", \"ZoneCoin\", \"RootCoin\", \"BitCurrency\", \"Swiscoin\", \"BuzzCoin\", \"Opair\", \"PesoBit\", \"Halloween Coin\", \"CoffeeCoin\", \"RoyalCoin\", \"GanjaCoin V2\", \"TeamUP\", \"LanaCoin\", \"ARK\", \"InsaneCoin\", \"EmberCoin\", \"XenixCoin\", \"FreeCoin\", \"PLNCoin\", \"AquariusCoin\", \"Creatio\", \"Eternity\", \"Eurocoin\", \"BitcoinFast\", \"Stakenet\", \"BitConnect Coin\", \"MoneyCoin\", \"Enigma\", \"Russiacoin\", \"PandaCoin\", \"GameUnits\", \"GAKHcoin\", \"Allsafe\", \"LiteCreed\", \"Klingon Empire Darsek\", \"Internet of People\", \"KushCoin\", \"Printerium\", \"Impeach\", \"Zilbercoin\", \"FirstCoin\", \"FindCoin\", \"OpenChat\", \"RenosCoin\", \"VirtacoinPlus\", \"TajCoin\", \"Impact\", \"Atmos\", \"HappyCoin\", \"MacronCoin\", \"Condensate\", \"Independent Money System\", \"ArgusCoin\", \"LomoCoin\", \"ProCurrency\", \"GoldReserve\", \"GrowthCoin\", \"Phreak\", \"Degas Coin\", \"HTML5 Coin\", \"Ultimate Secure Cash\", \"QTUM\", \"Espers\", \"Denarius\", \"Virta Unique Coin\", \"Bitcoin Planet\", \"BritCoin\", \"Linda\", \"DeepOnion\", \"Signatum\", \"Cream\", \"Monoeci\", \"Draftcoin\", \"Stakecoin\", \"CoinonatX\", \"Ethereum Dark\", \"Obsidian\", \"Cardano\", \"Regalcoin\", \"TrezarCoin\", \"TerraNovaCoin\", \"Rupee\", \"WomenCoin\", \"Theresa May Coin\", \"NamoCoin\", \"LUXCoin\", \"Xios\", \"Bitcloud 2.0\", \"KekCoin\", \"BlackholeCoin\", \"Infinity Economics\", \"Magnet\", \"Lamden Tau\", \"Electra\", \"Bitcoin Diamond\", \"Cash & Back Coin\", \"Bulwark\", \"Kalkulus\", \"GermanCoin\", \"LiteCoin Ultra\", \"PhantomX\", \"Digiwage\", \"Trollcoin\", \"Litecoin Plus\", \"Monkey Project\", \"TokenPay\", \"My Big Coin\", \"Unified Society USDEX\", \"Tokyo Coin\", \"Stipend\", \"Pushi\", \"Ellerium\", \"Velox\", \"Ontology\", \"Bitspace\", \"Briacoin\", \"Ignition\", \"MedicCoin\", \"Bitcoin Green\", \"Deviant Coin\", \"Abjcoin\", \"Semux\", \"Carebit\", \"Zealium\", \"Proton\", \"iDealCash\", \"Bitcoin Incognito\", \"HollyWoodCoin\", \"Swisscoin\", \"Xt3ch\", \"TheVig\", \"EmaratCoin\", \"Dekado\", \"Lynx\", \"Poseidon Quark\", \"BitcoinWSpectrum\", \"Muse\", \"Trivechain\", \"Dystem\", \"Giant\", \"Peony Coin\", \"Absolute Coin\", \"Vitae\", \"TPCash\", \"ARENON\", \"EUNO\", \"MMOCoin\", \"Ketan\", \"XDNA\", \"PAXEX\", \"ThunderStake\", \"Kcash\", \"Bettex coin\", \"BitMoney\", \"Junson Ming Chan Coin\", \"HerbCoin\", \"PirateCash\", \"Oduwa\", \"Galilel\", \"Crypto Sports\", \"Credit\", \"Dash Platinum\", \"Nasdacoin\", \"Beetle Coin\", \"Titan Coin\", \"Award\", \"Insane Coin\", \"ALAX\", \"LiteDoge\", \"TruckCoin\", \"OrangeCoin\", \"BitstarCoin\", \"NeosCoin\", \"HyperCoin\", \"PinkCoin\", \"AudioCoin\", \"IncaKoin\", \"Piggy Coin\", \"Genstake\", \"XiaoMiCoin\", \"CapriCoin\", \" ClubCoin\", \"Radium\", \"Creditbit \", \"OKCash\", \"Lisk\", \"HiCoin\", \"WhiteCoin\", \"FriendshipCoin\", \"Triangles Coin\", \"EOS\", \"Oxycoin\", \"TigerCash\", \"Particl\", \"Nxt\", \"ZEPHYR\", \"Gapcoin\", \"BitcoinPlus\"], \"legendgroup\": \"0\", \"marker\": {\"color\": [0, 0, 0, 0, 0, 0, 0, 0, 0, 0, 0, 0, 0, 0, 0, 0, 0, 0, 0, 0, 0, 0, 0, 0, 0, 0, 0, 0, 0, 0, 0, 0, 0, 0, 0, 0, 0, 0, 0, 0, 0, 0, 0, 0, 0, 0, 0, 0, 0, 0, 0, 0, 0, 0, 0, 0, 0, 0, 0, 0, 0, 0, 0, 0, 0, 0, 0, 0, 0, 0, 0, 0, 0, 0, 0, 0, 0, 0, 0, 0, 0, 0, 0, 0, 0, 0, 0, 0, 0, 0, 0, 0, 0, 0, 0, 0, 0, 0, 0, 0, 0, 0, 0, 0, 0, 0, 0, 0, 0, 0, 0, 0, 0, 0, 0, 0, 0, 0, 0, 0, 0, 0, 0, 0, 0, 0, 0, 0, 0, 0, 0, 0, 0, 0, 0, 0, 0, 0, 0, 0, 0, 0, 0, 0, 0, 0, 0, 0, 0, 0, 0, 0, 0, 0, 0, 0, 0, 0, 0, 0, 0, 0, 0, 0, 0, 0, 0, 0, 0, 0, 0, 0, 0, 0, 0, 0, 0, 0, 0, 0, 0, 0, 0, 0, 0, 0, 0, 0, 0, 0, 0, 0, 0, 0, 0, 0, 0, 0, 0, 0, 0, 0, 0, 0, 0, 0, 0, 0, 0, 0, 0, 0, 0, 0, 0, 0, 0, 0, 0, 0, 0, 0, 0, 0, 0, 0, 0, 0, 0, 0, 0, 0, 0, 0, 0, 0, 0, 0, 0, 0, 0, 0, 0, 0, 0, 0, 0, 0, 0, 0, 0, 0, 0, 0, 0, 0, 0, 0, 0, 0, 0, 0, 0, 0, 0, 0, 0, 0, 0, 0, 0, 0, 0, 0, 0, 0, 0, 0, 0, 0, 0, 0, 0, 0, 0, 0], \"coloraxis\": \"coloraxis\", \"symbol\": \"circle\"}, \"mode\": \"markers\", \"name\": \"0\", \"scene\": \"scene\", \"showlegend\": true, \"type\": \"scatter3d\", \"x\": [-0.5782481617873287, -0.5787824935662597, -0.7139926172169353, -0.498982822876345, -0.15856884032314278, -0.3674525738948338, -0.036511240989653346, -0.6906612440493944, -0.5782581146427153, -0.5785376024985786, -0.5783042178669161, -0.578248231616515, -0.5782487360045374, -0.4035841952125179, -0.47169746942279667, -0.11541288372557328, -0.33177992900407305, -0.5783009333191734, -0.16879581732725155, -0.49898674918289176, -0.7424178827825478, -0.25700246622450695, -0.36842901453965227, -0.24731191357986956, -0.6689824704426192, -0.6689592710816105, -0.36237310270536155, -0.5783919771474402, -0.5782917404367736, -0.5916016401228589, -0.16805433557736985, -0.49897648956594026, 0.06149222306319328, -0.18786983642320237, -0.4989781502939312, -0.5789102068227537, -0.5782811357627073, -0.3333223250946876, -0.4989802101186922, 0.0614933229975705, -0.668967441694911, -0.5784164870471176, -0.42235520890483724, -0.04174559577692361, -0.3674744491247446, -0.47171975241720493, -0.24731529341729325, -0.6689544994583728, -0.2474329206469218, -0.5782488303774209, -0.6689566090455542, -0.1680344813483856, -0.5782554660994598, -0.49897717843332884, -0.6842365196540334, -0.7748345871858755, -0.1721515806805715, -0.247358552924943, -0.6689679090542112, -0.36757029530423113, -0.6906231062601281, -0.4036903484339297, -0.3674536583821175, -0.5066646817061934, -0.3674531625980791, -0.6279210508371457, -0.5782564991746987, -0.247343655704877, -0.4990199807044103, -0.27413414676498304, -0.36745579706544007, -0.38252219963865286, -0.11542142502658238, -0.49904534838455156, -0.36747278744826006, -0.36751033686623163, -0.6233814298633334, -0.4990016248547661, -0.05093592162788642, -0.578820360973321, -0.5782546974187038, -0.5783038040272243, -0.33802957657924226, -0.16839680749630195, -0.49898862412567974, -0.5782769063066963, -0.3674521571159533, -0.4989770912311685, -0.5782514570773529, -0.5782490453991095, -0.2473801642053404, -0.26266235464308263, -0.7742252922062883, -0.1154514872480176, -0.5782634317424677, -0.499248423907188, -0.11548207485945054, -0.3380085072581593, -0.8844618029399045, -0.11544878840177798, -0.7645395591923455, -0.2444026085054607, -0.4989878716647494, -0.7110327222783674, -0.4989786330071225, -0.11543811770556413, -0.5782598354612273, -0.5782535159766041, -0.11542142502658238, -0.498985308498999, -0.36745744081963444, -0.5782607132602529, 0.0746224040298079, -0.5782560347296322, -0.5783187944015082, -0.4989773645907872, -0.5782665096454105, -0.265986299206357, -0.5782510556247472, -0.578250006743998, -0.21861838313942497, -0.43115564973637127, -0.5783095354504427, -0.3674530365424313, -0.498980010647927, -0.5782555649474512, -0.578250515533992, -0.24730979223520363, -0.2532825370821011, -0.3380151980886831, -0.5788045843966622, -0.24732280602133105, -0.4989925761208209, -0.7664401291089018, -0.49903798256526416, -0.11547204971467331, -0.49899638351850867, -0.11563351308668411, -0.49908236579322157, -0.5782527479681259, -0.5782515709904184, -0.5783493040487586, -0.044118904793867625, -0.4989883472137453, -0.24763917631928364, -0.11541851235006587, -0.5782684868797322, -0.7182171099271798, -0.036529418360718754, -0.05097060528387701, -0.8008465181694782, -0.623337244464492, -0.6233751155896946, -0.7478891766290643, -0.6689650824590033, -0.5874139276279574, -0.6689642577158894, 0.0444615879513896, -0.7479076372065527, -0.49898317375160495, -0.24731316845216658, -0.11541833493789837, -0.5782619315325336, -0.5782504987390107, -0.15697729326855875, -0.0689082299818068, -0.498982521704193, -0.3624948143240018, -0.5782502690998669, -0.0701064160988197, -0.6028447073520521, -0.3675017880263408, -0.623710773746161, -0.5178538394641209, -0.5782512601693997, -0.5495915018592873, -0.0034125417150214395, -0.5782571073876975, -0.04151231927562021, -0.49900842039075155, -0.2445223921161756, -0.6392978141518928, -0.6690571605216417, -0.578319904727699, -0.29239791527526016, -0.21862182026966934, -0.5855311164671602, -0.5782671340495372, -0.49900211187595594, -0.21863662345987792, -0.5786082004917861, -0.578249706235844, -0.16803536457075108, -0.05092679913945556, -0.2718457634201708, -0.5783785483118655, -0.33819275078339406, -0.5003456023006438, -0.49897999925496883, -0.4881021463934127, -0.24732707141163585, 0.08593918110279916, -0.6233456614269172, -0.5782488497024205, -0.5782492048171037, -0.24747512418424353, -0.04218260159092625, -0.11542914201518932, -0.5782556898487573, -0.2729473006679817, -0.5496411650175704, -0.11542341460435948, -0.07752612275083882, -0.5794046461989575, -0.16127792884082567, -0.24732316570478458, -0.5839236726175857, -0.24731082642785027, -0.7633143925914352, -0.5782664772587544, -0.3596919150340204, -0.368363866578567, -0.21867891021644997, -0.036540966878501356, -0.15040951510703923, -0.4084899756610195, -0.21861742378296242, -0.5495605457793435, -0.2490068225859273, -0.40104968418627196, -0.21865225802026603, -0.5783515377705263, -0.16804556554370192, -0.4989955511526188, -0.24737823575460294, -0.11543573720939719, -0.44350586397472697, -0.16804338117924864, -0.580547440988877, -0.23963043921714888, -0.15715878688054274, -0.14551761863847, -0.17587049751888054, -0.549578863964411, 0.11920394615197785, -0.5782570122625753, -0.5495675704625591, -0.21861430899033052, -0.5998379293179199, -0.16803355183154184, -0.5782659976946014, -0.4882369757401571, -0.7642020333044555, -0.4990258970735763, -0.49899034650737284, -0.2448971298959146, -0.5887580475186964, -0.49908698339914664, -0.5782699558705868, -0.5782630097717789, -0.036508635500156324, -0.5782525488535811, -0.49922570880554223, -0.579754495949679, -0.37564063055389985, -0.4993025340873389, -0.5782770059680314, -0.5784726970066196, -0.49908920223387726, -0.5783115086930078, -0.11541294541310095, -0.23899495083776773, -0.36749437826640946, -0.24441151185560478, -0.25286814008539793, -0.578393226699407, -0.3623778374253382, -0.6689524434700124, -0.24480557356187116, -0.24485196148677288, -0.037060938218502426, -0.11541539642848356, -0.23661596943951416, -0.13155866566297236, -0.5782801916091357, -0.24730307003018967], \"y\": [0.9913313426773905, 0.9919220009700312, 1.8384970476665388, 1.2830734866675966, 1.556200551867853, 0.9138871763218527, 0.6298283445581445, 2.0062748903708347, 0.9913393612945025, 0.9917766393958894, 0.9914175834568919, 0.9913312326478735, 0.9913317911570875, 0.49762908482890933, 0.9558233615875167, 1.4944635228846108, 0.10043059729974665, 0.9913603355235486, 1.0001806040771974, 1.2830795271839663, 2.3228550379679103, 0.7221848544759485, 0.9143467267920302, 0.7072691639262336, 1.905895679393563, 1.9058599878045674, 0.6214395183085932, 0.991369917125282, 0.991355761559474, 1.0118753076881382, 0.9990398544740332, 1.2830733116427013, 0.05308901528711532, 1.6521578400406038, 1.2830715175005938, 0.9916539511231363, 0.9913385766430249, 0.01407454896325313, 1.2830766437881944, 0.053130818689131394, 1.905872558071984, 0.9911553503390992, 1.157228489959383, 1.3627625326061885, 0.9139008227852021, 0.9558595484795119, 0.7072814013061547, 1.9058474273168118, 0.7072448895088056, 0.9913323713034272, 1.905851542772018, 0.9990006101558605, 0.9913338810579244, 1.2830743718814892, 2.8768808637026444, 1.9881774052536443, 0.6171997843918, 0.7073044592665233, 1.9058515292809755, 0.9136429003477904, 2.006357012610299, 1.0207351336182688, 0.913888844776186, 1.283353300145023, 0.9138930840223093, 1.5838031535145307, 0.9913259013795354, 0.7072288877022915, 1.282973198831326, 0.7054808162281675, 0.9138843058707606, 0.4816899618642774, 1.494467964320778, 1.2831466277903871, 0.9138309677408739, 0.9137572601148699, 1.5767799234570552, 1.283051523125616, 1.4722859091419898, 0.9913417432304248, 0.9913221145290184, 0.991373451154442, 1.6217279380819882, 0.9992809720200894, 1.2830702329587393, 0.9913364193015548, 0.9138869700750387, 1.2830729328546877, 0.9913272783297084, 0.9913327021084752, 0.7073812032577654, 0.0586859923294448, 1.9885285467439733, 1.4944907265992953, 0.99135483510835, 1.2828392413821992, 1.494552573367199, 1.6217814272998698, 2.027550345235398, 1.494387839437089, 1.9790616515803994, 1.3011868488427298, 1.2830777744422208, 1.9702191409251166, 1.2830749336754796, 1.4944805968691997, 0.991332539114556, 0.9913213118100096, 1.494467964320778, 1.2830607823947031, 0.9138955338663554, 0.9913362992420163, 0.6684238604332792, 0.991331276230351, 0.9911570005240216, 1.2830724834986371, 0.9912969366840708, 0.7218636732462804, 0.9913301403554433, 0.9913327388885403, 1.3739710444016502, 0.7212172380811291, 0.9912082863088004, 0.9138883230488724, 1.283074660586577, 0.9913340331328832, 0.9913254238317442, 0.7072490152946985, 0.008095738629546653, 1.6217864907316082, 0.9917524276070879, 0.7072779852575597, 1.2830545651856564, 1.900621988638091, 1.283120072209328, 1.4945065768236858, 1.2830604227639475, 1.4946289726999646, 1.2830187216812512, 0.9913291720668764, 0.9913241479146587, 0.9910519911145074, 0.6089162504005878, 1.2830741564993515, 0.7069097739589328, 1.4944591336846629, 0.9913169418978593, 2.009675019712404, 0.6297747190383164, 1.4723103444198258, 2.0492340091081354, 1.5767467419138923, 1.5767571604315795, 2.045561431063014, 1.9058558797650103, 0.9836848147177479, 1.90585943972232, 1.3446041974903522, 2.045589832161824, 1.2830794602697988, 0.7072705613043054, 1.4944451161397438, 0.991331539568789, 0.9913331112164827, 1.5552783401211374, 1.3388917535689566, 1.283070848541346, 0.6214544256393968, 0.9913277414280325, 0.5961688527336072, 1.018298556993094, 0.9139289643465395, 1.576803808710473, 1.9357222797201303, 0.9913269753921516, 1.658002442965576, 1.454622368743378, 0.9913386730071921, 0.6336131991784447, 1.2830598030927372, 1.3012080241059176, 1.588257309564271, 1.9059192472538724, 0.9913503764629271, 1.2926791549920198, 1.373974157552437, 0.9807881607072396, 0.9912952875756423, 1.2830909834974777, 1.3739534362386243, 0.9914937919060682, 0.9913319789630538, 0.9990015340133516, 1.4722755715682583, 0.05685924749221549, 0.9914310289932308, 1.6217180034508805, 1.068721940981963, 1.2830678377339135, 1.3186200101804055, 0.7072455868612741, 1.3944920653955173, 1.5767422929342552, 0.9913310961657776, 0.9913307725876805, 0.7073098185086897, 1.3950941899447635, 1.4944502596764084, 0.9913298757280337, 1.2857488411578788, 1.6580788483904059, 1.4944449278595682, 0.6916630539187776, 0.9908827381564104, 0.6527645093836197, 0.7072822037458545, 0.9956264091230205, 0.7072553908904362, 1.9803980516377016, 0.9913229842308475, 1.7222819438806551, 0.2653334564980664, 1.3737879664762667, 0.629835904317255, 1.304824606389583, 0.9757443330733894, 1.373966958720421, 1.658039568657559, 0.7025417122762146, 0.8802223975548199, 1.373986188710871, 0.9910554276349883, 0.9990024394228991, 1.2830808900021973, 0.7072651477731625, 1.4944073415462242, 1.074288015377181, 0.9989795058077315, 0.9870395096835513, 1.8867289329655184, 1.0345582780137241, 0.692135785902428, 1.0110648080679319, 1.6580465035134424, -0.10418248997371558, 0.9913358248318153, 1.6580443365759754, 1.3739654854121668, 0.9920118909698613, 0.9989993106062193, 0.9913222464343779, 1.3186360607474157, 1.979632377406776, 1.2829666425814923, 1.2830815819206127, 1.301567069930936, 0.9922770499821746, 1.2832433038494064, 0.9912778810603097, 0.9913305868818213, 0.6298206389552643, 0.9913380920783555, 1.2832392510259685, 0.9890817567989962, 0.9264112072292087, 1.2831399665362297, 0.9913691943437855, 0.9915028015681133, 1.2831562465743138, 0.9913592072014447, 1.4944597031832867, 0.8035368301836032, 0.9139153898503742, 1.3011853584309234, 0.7114709003683101, 0.991424034272703, 0.6214222718235665, 1.9058494315141759, 1.301861169201923, 1.3019325357688423, 0.6302445196063806, 1.4944636331371945, 1.8630692358773966, 0.6269946764007911, 0.991271880656384, 0.7072621609997224], \"z\": [-0.3431565548339576, -0.32654208720018, 2.3054123500051187, -0.37442133137975303, -0.2964887421897956, -0.31049014036008693, -0.2683175585967798, -0.24417410651847415, -0.3428171209757202, -0.33541546803746736, -0.3416573361065491, -0.34315250343934367, -0.34313682959263664, 0.6309575509565195, -0.35970235679220836, -0.34774912969459415, -0.29777471741515166, -0.34122102188333336, -0.31212887703524167, -0.37431632237641593, -0.5346642155535721, -0.041632818796361847, -0.27390429408417544, -0.30073581298736635, -0.27062936653750924, -0.2712498330595358, -0.33940712590068456, -0.33747565772547516, -0.3415629812588915, 0.013981999651639142, -0.33195979403021086, -0.37468680718169795, -0.2393568678450201, -0.3179521843132339, -0.37459871545754797, -0.3184613796528114, -0.34183786709940883, -0.310341601759976, -0.37456328145620715, -0.23982308506956862, -0.27103131014351795, -0.3342867037800813, -0.04222160614847628, -0.3464175923322244, -0.30970415993302264, -0.35912553029759203, -0.30071609345079797, -0.2713250341034329, -0.2953861576722076, -0.3431386735864267, -0.2712773492195122, -0.3324034351526069, -0.3428738414119035, -0.37466838780291567, -0.7093762098070182, -0.41364557103031274, -0.26073643271419195, -0.29912231914443266, -0.27080041087782264, -0.30306978414455416, -0.24660802976547125, -0.07538169309330757, -0.3104611357658275, -0.05309597466002673, -0.31052462744392156, -0.22659827700937746, -0.3427501159423676, -0.29899198775693, -0.37184633170649856, 0.848985193686624, -0.3103253128065001, -0.09768476970543752, -0.34743333284237854, -0.3725175839744702, -0.30907276341946505, -0.306748169181357, -0.3476172444540964, -0.37340741736831096, -0.35307548075364203, -0.3191171074005548, -0.34278811188947506, -0.34123160474416364, -0.22785088745936352, -0.31993061558612446, -0.37414387320346454, -0.34199466377946924, -0.31050565509925104, -0.3746576160382897, -0.3429766946461049, -0.3431329228349645, -0.2989811253098166, -0.2659165972782472, 0.03188684429021662, -0.34639344750411827, -0.342748160322535, -0.3608619396721726, -0.3457238946229861, -0.2292770645661981, -0.41087349958764635, -0.3454740932411069, -0.2817316524018666, 3.7857503007320776, -0.374251357658062, 0.857716711007014, -0.37461265393911064, -0.3468558475728961, -0.342676000277601, -0.3428299015254996, -0.34743333284237854, -0.37418886963376874, -0.31036871052768494, -0.3426767222495557, -0.31932032926652953, -0.34282368944761543, -0.33842540804830124, -0.37464156904989426, -0.3420368505826656, 0.3406646377933417, -0.3430223754491677, -0.34309272833229804, -0.3590659877380189, -0.3414551528923959, -0.3393311199339249, -0.3104821348528101, -0.3745517820458177, -0.3428711977240332, -0.3429977994136808, -0.30062298274983235, -0.3320267520278682, -0.2290455944665048, -0.32390704665969255, -0.30036479453865034, -0.37381977741052, -0.4159044541593904, -0.37256170286377055, -0.34568499000857217, -0.37371794862306357, -0.3401012031308498, -0.3696711561322674, -0.34294124325051456, -0.34294045128122613, -0.33608351194714636, 0.26269430615383693, -0.3741949591583124, -0.2833178606951803, -0.34746755237729526, -0.34215432128804774, 0.8843978153391734, -0.267012038267767, -0.35185739528826965, 0.575443432460545, -0.34914842180526584, -0.347655079747515, -0.4138025609769239, -0.27096336801897936, 0.12038144805724861, -0.27103391842049734, -0.3447325005113115, -0.4133088331408433, -0.3744665154039133, -0.3006968967621848, -0.3473342687742263, -0.3425775189183316, -0.3430757077047107, -0.3543827289584767, 0.654003433613411, -0.3744075462485726, -0.33442122004541547, -0.34303147185911603, -0.3133047687841251, 0.4238775190994018, -0.3088332056278594, -0.33396047338987594, -0.39555434198759737, -0.34298196094602257, -0.3996218753003979, -0.3449066277415975, -0.3428527099697558, -0.09530644862486423, -0.37320383089717096, 3.7905919095141463, 0.2087129169114769, -0.26771450267779556, -0.3403205123314953, -0.3068033708125354, -0.3589522217722396, 0.07002569506273397, -0.3419939429348616, -0.37378314354798736, -0.35811951119974683, -0.3295961304079829, -0.34309777678763265, -0.3323754453902418, -0.3533565895114406, -0.3168510112990355, -0.338655994764549, -0.2208659991111459, -0.36587005524080096, -0.3744837451008237, -0.26344676322816796, -0.29985945981159673, -0.33905433275184665, -0.3487485904868349, -0.3431250527546905, -0.3431068192284701, -0.29425742477263567, -0.36118234455559695, -0.3469299184525343, -0.3428241772908859, 3.971888595949935, -0.39829363496302783, -0.34711804191920503, -0.30889285422668367, -0.2898537415586021, -0.14964824651323896, -0.30039198138405965, -0.14681156401843135, -0.3006433712295747, -0.346848083469647, -0.3422997964620631, -0.20384446299648623, 2.2092542200790195, -0.35467351526312085, -0.267139195325976, 1.0541199888768602, -0.3503406315822646, -0.3590654377406821, -0.40130089459450496, -0.18174441886795192, -0.35534260222530883, -0.35778872504335335, -0.33602377109585263, -0.3319541087100149, -0.373958609983874, -0.29789702299763515, -0.346220634706184, -0.34300818318931364, -0.3318159697266619, -0.2030384615942997, -0.3815676420317009, -0.22133056705109858, 0.6422450536998567, -0.12291667367543589, -0.40059760285454465, -0.2906579053162167, -0.34282812131028456, -0.4010523699534924, -0.3591820706192027, 0.5609874409041959, -0.3324296054635348, -0.34231262239731064, -0.2579188368139272, -0.30170497204715574, -0.3715308506928482, -0.374185168033497, 3.802798262653837, 0.09080998734147293, -0.37173165582924694, -0.34170007362907984, -0.34252245546611687, -0.2683501144124544, -0.3430392230037266, -0.36583744966599746, -0.25700572575368913, -0.09076687884970547, -0.36159876129952995, -0.342319597962239, -0.3354041663418427, -0.37076377017557444, -0.340763463887864, -0.347708167907883, -0.29623359953712314, -0.3090095395583496, 3.786140944078621, -0.10848675840320765, -0.3379663978766791, -0.33903414907986096, -0.27143191325809124, 3.7959815950512708, 3.797222239326627, -0.24930252036500486, -0.34764421361710984, -0.32023211537652624, 2.4997251974544277, -0.3412079192238213, -0.3010386397393985]}, {\"customdata\": [[\"SHA-256\"], [\"Ethash\"], [\"Scrypt\"], [\"CryptoNight-V7\"], [\"Ethash\"], [\"Equihash\"], [\"Multiple\"], [\"Scrypt\"], [\"X11\"], [\"Scrypt\"], [\"Multiple\"], [\"Scrypt\"], [\"SHA-256\"], [\"Scrypt\"], [\"Scrypt\"], [\"Quark\"], [\"Groestl\"], [\"Scrypt\"], [\"Scrypt\"], [\"Scrypt\"], [\"X11\"], [\"Multiple\"], [\"SHA-256\"], [\"Scrypt\"], [\"Scrypt\"], [\"Scrypt\"], [\"Scrypt\"], [\"Scrypt\"], [\"NeoScrypt\"], [\"Scrypt\"], [\"Scrypt\"], [\"Scrypt\"], [\"Scrypt\"], [\"SHA-256\"], [\"Scrypt\"], [\"Scrypt\"], [\"Scrypt\"], [\"Scrypt\"], [\"HybridScryptHash256\"], [\"Scrypt\"], [\"Scrypt\"], [\"SHA-256\"], [\"Scrypt\"], [\"Scrypt\"], [\"Scrypt\"], [\"Scrypt\"], [\"SHA-256\"], [\"SHA-256\"], [\"SHA-256\"], [\"SHA-256\"], [\"SHA-256\"], [\"X11\"], [\"Scrypt\"], [\"Lyra2REv2\"], [\"Scrypt\"], [\"SHA-256\"], [\"CryptoNight\"], [\"CryptoNight\"], [\"Scrypt\"], [\"Scrypt\"], [\"Scrypt\"], [\"Scrypt\"], [\"Scrypt\"], [\"Scrypt\"], [\"Stanford Folding\"], [\"Multiple\"], [\"QuBit\"], [\"Scrypt\"], [\"Scrypt\"], [\"M7 POW\"], [\"Scrypt\"], [\"SHA-256\"], [\"Scrypt\"], [\"X11\"], [\"Lyra2RE\"], [\"SHA-256\"], [\"X11\"], [\"Scrypt\"], [\"Scrypt\"], [\"Ethash\"], [\"Blake2b\"], [\"X11\"], [\"SHA-256\"], [\"Scrypt\"], [\"1GB AES Pattern Search\"], [\"Scrypt\"], [\"SHA-256\"], [\"X11\"], [\"Dagger\"], [\"Scrypt\"], [\"X11GOST\"], [\"Scrypt\"], [\"X11\"], [\"Scrypt\"], [\"X11\"], [\"Equihash\"], [\"CryptoNight\"], [\"SHA-256\"], [\"Multiple\"], [\"Scrypt\"], [\"SHA-256\"], [\"Scrypt\"], [\"Lyra2Z\"], [\"Ethash\"], [\"Equihash\"], [\"Scrypt\"], [\"X11\"], [\"X11\"], [\"CryptoNight\"], [\"Scrypt\"], [\"CryptoNight\"], [\"Lyra2RE\"], [\"X11\"], [\"CryptoNight-V7\"], [\"Scrypt\"], [\"X11\"], [\"Equihash\"], [\"Scrypt\"], [\"Lyra2RE\"], [\"Dagger-Hashimoto\"], [\"Scrypt\"], [\"NIST5\"], [\"Scrypt\"], [\"SHA-256\"], [\"Scrypt\"], [\"CryptoNight-V7\"], [\"Argon2d\"], [\"Blake2b\"], [\"Cloverhash\"], [\"CryptoNight\"], [\"X11\"], [\"Scrypt\"], [\"Scrypt\"], [\"X11\"], [\"X11\"], [\"CryptoNight\"], [\"Time Travel\"], [\"Scrypt\"], [\"Keccak\"], [\"X11\"], [\"SHA-256\"], [\"Scrypt\"], [\"Scrypt\"], [\"Scrypt\"], [\"Scrypt\"], [\"Scrypt\"], [\"Scrypt\"], [\"CryptoNight\"], [\"Equihash\"], [\"X11\"], [\"NeoScrypt\"], [\"Equihash\"], [\"Dagger\"], [\"Scrypt\"], [\"X11\"], [\"NeoScrypt\"], [\"Ethash\"], [\"NeoScrypt\"], [\"Multiple\"], [\"CryptoNight\"], [\"CryptoNight\"], [\"Ethash\"], [\"X11\"], [\"CryptoNight-V7\"], [\"Scrypt\"], [\"BLAKE256\"], [\"X11\"], [\"NeoScrypt\"], [\"NeoScrypt\"], [\"Scrypt\"], [\"X11\"], [\"SHA-256\"], [\"C11\"], [\"Ethash\"], [\"CryptoNight\"], [\"SkunkHash\"], [\"CryptoNight\"], [\"Scrypt\"], [\"Dagger\"], [\"Lyra2REv2\"], [\"Scrypt\"], [\"Scrypt\"], [\"X11\"], [\"Ethash\"], [\"CryptoNight\"], [\"Scrypt\"], [\"IMesh\"], [\"Equihash\"], [\"Lyra2Z\"], [\"X11\"], [\"CryptoNight\"], [\"NIST5\"], [\"Lyra2RE\"], [\"Tribus\"], [\"Lyra2Z\"], [\"CryptoNight\"], [\"CryptoNight Heavy\"], [\"CryptoNight\"], [\"Jump Consistent Hash\"], [\"CryptoNight\"], [\"X16R\"], [\"HMQ1725\"], [\"X11\"], [\"Scrypt\"], [\"CryptoNight-V7\"], [\"Cryptonight-GPU\"], [\"XEVAN\"], [\"CryptoNight Heavy\"], [\"SHA-256\"], [\"X11\"], [\"X16R\"], [\"Equihash\"], [\"Lyra2Z\"], [\"SHA-256\"], [\"CryptoNight\"], [\"Blake\"], [\"Blake\"], [\"Exosis\"], [\"Scrypt\"], [\"Equihash\"], [\"Equihash\"], [\"QuBit\"], [\"SHA-256\"], [\"X13\"], [\"SHA-256\"], [\"Scrypt\"], [\"NeoScrypt\"], [\"Blake\"], [\"Scrypt\"], [\"SHA-256\"], [\"Scrypt\"], [\"Groestl\"], [\"Scrypt\"], [\"Scrypt\"], [\"Multiple\"], [\"Equihash+Scrypt\"], [\"Ethash\"], [\"CryptoNight\"], [\"Equihash\"]], \"hovertemplate\": \"<b>%{hovertext}</b><br><br>Class=%{marker.color}<br>PC3=%{x}<br>PC2=%{y}<br>PC1=%{z}<br>Algorithm=%{customdata[0]}<extra></extra>\", \"hovertext\": [\"Bitcoin\", \"Ethereum\", \"Litecoin\", \"Monero\", \"Ethereum Classic\", \"ZCash\", \"DigiByte\", \"ProsperCoin\", \"Spreadcoin\", \"Argentum\", \"MyriadCoin\", \"MoonCoin\", \"ZetaCoin\", \"SexCoin\", \"Quatloo\", \"QuarkCoin\", \"Riecoin\", \"Digitalcoin \", \"Catcoin\", \"CannaCoin\", \"CryptCoin\", \"Verge\", \"DevCoin\", \"EarthCoin\", \"E-Gulden\", \"Einsteinium\", \"Emerald\", \"Franko\", \"FeatherCoin\", \"GrandCoin\", \"GlobalCoin\", \"GoldCoin\", \"Infinite Coin\", \"IXcoin\", \"KrugerCoin\", \"LuckyCoin\", \"Litebar \", \"MegaCoin\", \"MediterraneanCoin\", \"MinCoin\", \"NobleCoin\", \"Namecoin\", \"NyanCoin\", \"RonPaulCoin\", \"StableCoin\", \"SmartCoin\", \"SysCoin\", \"TigerCoin\", \"TerraCoin\", \"UnbreakableCoin\", \"Unobtanium\", \"UroCoin\", \"ViaCoin\", \"Vertcoin\", \"WorldCoin\", \"JouleCoin\", \"ByteCoin\", \"DigitalNote \", \"MonaCoin\", \"Gulden\", \"PesetaCoin\", \"Wild Beast Coin\", \"Flo\", \"ArtByte\", \"Folding Coin\", \"Unitus\", \"CypherPunkCoin\", \"OmniCron\", \"GreenCoin\", \"Cryptonite\", \"MasterCoin\", \"SoonCoin\", \"1Credit\", \"MarsCoin \", \"Crypto\", \"Anarchists Prime\", \"BowsCoin\", \"Song Coin\", \"BitZeny\", \"Expanse\", \"Siacoin\", \"MindCoin\", \"I0coin\", \"Revolution VR\", \"HOdlcoin\", \"Gamecredits\", \"CarpeDiemCoin\", \"Adzcoin\", \"SoilCoin\", \"YoCoin\", \"SibCoin\", \"Francs\", \"BolivarCoin\", \"Omni\", \"PizzaCoin\", \"Komodo\", \"Karbo\", \"ZayedCoin\", \"Circuits of Value\", \"DopeCoin\", \"DollarCoin\", \"Shilling\", \"ZCoin\", \"Elementrem\", \"ZClassic\", \"KiloCoin\", \"ArtexCoin\", \"Kurrent\", \"Cannabis Industry Coin\", \"OsmiumCoin\", \"Bikercoins\", \"HexxCoin\", \"PacCoin\", \"Citadel\", \"BeaverCoin\", \"VaultCoin\", \"Zero\", \"Canada eCoin\", \"Zoin\", \"DubaiCoin\", \"EB3coin\", \"Coinonat\", \"BenjiRolls\", \"ILCoin\", \"EquiTrader\", \"Quantum Resistant Ledger\", \"Dynamic\", \"Nano\", \"ChanCoin\", \"Dinastycoin\", \"DigitalPrice\", \"Unify\", \"SocialCoin\", \"ArcticCoin\", \"DAS\", \"LeviarCoin\", \"Bitcore\", \"gCn Coin\", \"SmartCash\", \"Onix\", \"Bitcoin Cash\", \"Sojourn Coin\", \"NewYorkCoin\", \"FrazCoin\", \"Kronecoin\", \"AdCoin\", \"Linx\", \"Sumokoin\", \"BitcoinZ\", \"Elements\", \"VIVO Coin\", \"Bitcoin Gold\", \"Pirl\", \"eBoost\", \"Pura\", \"Innova\", \"Ellaism\", \"GoByte\", \"SHIELD\", \"UltraNote\", \"BitCoal\", \"DaxxCoin\", \"AC3\", \"Lethean\", \"PopularCoin\", \"Photon\", \"Sucre\", \"SparksPay\", \"GunCoin\", \"IrishCoin\", \"Pioneer Coin\", \"UnitedBitcoin\", \"Interzone\", \"1717 Masonic Commemorative Token\", \"TurtleCoin\", \"MUNcoin\", \"Niobio Cash\", \"ShareChain\", \"Travelflex\", \"KREDS\", \"BitFlip\", \"LottoCoin\", \"Crypto Improvement Fund\", \"Callisto Network\", \"BitTube\", \"Poseidon\", \"Aidos Kuneen\", \"Bitrolium\", \"Alpenschillling\", \"FuturoCoin\", \"Monero Classic\", \"Jumpcoin\", \"Infinex\", \"KEYCO\", \"GINcoin\", \"PlatinCoin\", \"Loki\", \"Newton Coin\", \"MassGrid\", \"PluraCoin\", \"Motion\", \"PlusOneCoin\", \"Axe\", \"HexCoin\", \"Webchain\", \"Ryo\", \"Urals Coin\", \"Qwertycoin\", \"Project Pai\", \"Azart\", \"Xchange\", \"CrypticCoin\", \"Actinium\", \"Bitcoin SV\", \"FREDEnergy\", \"Universal Molecule\", \"Lithium\", \"Exosis\", \"Block-Logic\", \"Beam\", \"Bithereum\", \"SLICE\", \"BLAST\", \"Bitcoin Rhodium\", \"GlobalToken\", \"SolarCoin\", \"UFO Coin\", \"BlakeCoin\", \"Crypto Escudo\", \"Crown Coin\", \"SmileyCoin\", \"Groestlcoin\", \"Bata\", \"Pakcoin\", \"JoinCoin\", \"Vollar\", \"Reality Clash\", \"Beldex\", \"Horizen\"], \"legendgroup\": \"3\", \"marker\": {\"color\": [3, 3, 3, 3, 3, 3, 3, 3, 3, 3, 3, 3, 3, 3, 3, 3, 3, 3, 3, 3, 3, 3, 3, 3, 3, 3, 3, 3, 3, 3, 3, 3, 3, 3, 3, 3, 3, 3, 3, 3, 3, 3, 3, 3, 3, 3, 3, 3, 3, 3, 3, 3, 3, 3, 3, 3, 3, 3, 3, 3, 3, 3, 3, 3, 3, 3, 3, 3, 3, 3, 3, 3, 3, 3, 3, 3, 3, 3, 3, 3, 3, 3, 3, 3, 3, 3, 3, 3, 3, 3, 3, 3, 3, 3, 3, 3, 3, 3, 3, 3, 3, 3, 3, 3, 3, 3, 3, 3, 3, 3, 3, 3, 3, 3, 3, 3, 3, 3, 3, 3, 3, 3, 3, 3, 3, 3, 3, 3, 3, 3, 3, 3, 3, 3, 3, 3, 3, 3, 3, 3, 3, 3, 3, 3, 3, 3, 3, 3, 3, 3, 3, 3, 3, 3, 3, 3, 3, 3, 3, 3, 3, 3, 3, 3, 3, 3, 3, 3, 3, 3, 3, 3, 3, 3, 3, 3, 3, 3, 3, 3, 3, 3, 3, 3, 3, 3, 3, 3, 3, 3, 3, 3, 3, 3, 3, 3, 3, 3, 3, 3, 3, 3, 3, 3, 3, 3, 3, 3, 3, 3, 3, 3, 3, 3, 3, 3, 3, 3, 3, 3, 3, 3, 3, 3, 3, 3, 3, 3, 3, 3, 3, 3, 3, 3, 3, 3, 3, 3, 3], \"coloraxis\": \"coloraxis\", \"symbol\": \"diamond\"}, \"mode\": \"markers\", \"name\": \"3\", \"scene\": \"scene\", \"showlegend\": true, \"type\": \"scatter3d\", \"x\": [0.21873440997860635, 0.37784739698113606, 0.007909108374687349, 0.438975992085781, 0.3778236197024185, 0.3744644090643707, 0.30947325417352883, 0.007941553364246392, 0.08721087583160664, 0.007934281712647411, 0.31581724200022654, -0.0308048797685945, 0.21865003083660264, 0.007862337800705452, 0.00793285709311595, 0.03649397597160289, 0.11446789304651885, 0.007926205879899211, 0.007940892127437886, 0.007942831409166446, 0.08721388028713667, 0.3078614142140108, 0.20807384581517477, 0.0008723309080166694, 0.007934655983673846, 0.007816348743963057, 0.007934189872221161, 0.007944645700782698, 0.22369424885968686, 0.0074002134627914025, 0.007909321607927169, 0.007920033588736811, -0.04246365590769117, 0.2187329695827314, 0.007850529634341357, 0.00793547849576576, 0.007945660808971466, 0.007924683125937129, 0.48922951601342196, 0.007942647073672334, 0.00535481974797271, 0.2187358634024717, 0.0077598291213720446, 0.007943677923534507, 0.00791004123717739, 0.007929475102732673, 0.21839847869521192, 0.21872011960138749, 0.21873000948822013, 0.21873558427896816, 0.21874457841162998, 0.087217422976906, 0.007933433628174365, 0.18512436192098078, 0.00786503333517176, 0.21872230002648582, 0.34334155254733484, 0.44164577767352586, 0.00790462871894478, 0.007587713039780075, 0.007866868910470165, 0.007945952012255796, 0.007860793234876845, 0.007484378412101405, 0.44768055039103427, 0.3167584249141641, 0.15505763727226868, 0.007941340992042363, 0.004837107259089033, 0.41814277741768474, 0.00794595538975228, 0.2187368991276836, -0.0013378769298456707, 0.08719996554848891, 0.4700732690970945, 0.2187325525229564, 0.08720862760473712, 0.007910250052393342, 0.007886628431268037, 0.37788996123174845, 0.4166226057047491, 0.08720913042026843, 0.2187330114312328, 0.007829451328462946, 0.39216653040712773, 0.00790601235138922, 0.20665955590912072, 0.0871889479777452, 0.5096646317177628, 0.007929021075037491, 0.5063775472589226, 0.00794128873459277, 0.08720923050792054, 0.0079459570757125, 0.08721482240076622, 0.2839241541235513, 0.4457963572676697, 0.2187408685336322, 0.3162114790119103, 0.007872893227151912, 0.21873947341635083, 0.007938207759721736, 0.3798587557653885, 0.37788186666202767, 0.3744652150888019, 0.006847739457595984, 0.08679217697500466, 0.08716701223388376, 0.4457983648363419, 0.007945618934347457, 0.4457941445017967, 0.4700843043566392, 0.07688192015560147, 0.4389601615442018, 0.007944541983249832, 0.08710321752598543, 0.3744650228950001, 0.007890729146841812, 0.47007560115380753, 0.4093763140162328, 0.007513445687323549, -0.037149353903158294, 0.007933479629396402, 0.21789216416774418, 0.007932805887706213, 0.4389417848551283, 0.28156329672689107, 0.4316041128208052, 0.27654374440580815, 0.44477487358909396, 0.0871918753755098, 0.007936094954868496, 0.007936377528143695, 0.08720005553658076, 0.08721487088593781, 0.44578902939379494, 0.4805456991957484, -0.08650952404582762, 0.1412022904789283, 0.08705117828698358, 0.21873437881518165, 0.006886476489498144, -0.05719439661951146, 0.007939861520963869, 0.007929872936485158, 0.007921337777754944, 0.007920850477493505, 0.4457878841411116, 0.3699767814328103, 0.08580515410545805, 0.22381858428019993, 0.37445993629145846, 0.5096390015174119, 0.007890662372461419, 0.08710284058726285, 0.22381576146848448, 0.3778623813198985, 0.22381734085940042, 0.3165020487844415, 0.4284401686060204, 0.445797618376367, 0.3766500322834502, 0.08712588524147052, 0.43868197208137466, 0.0056360016410206566, 0.15972255704412539, 0.08721404844647031, 0.22381751283719253, 0.2236361889425946, 0.007919123653887798, 0.08721179003696897, 0.2187334743384001, 0.08584818723250144, 0.12264633696384385, 0.3206807733632742, 0.5582701375253079, 0.4457060149879402, 0.0023820737542407057, 0.5096112775014524, 0.18475188854982807, 0.00793659420071261, -0.0005120061261371949, 0.0870712678647543, 0.377127714088638, 0.4456635520578878, 0.007942326861575233, 0.28050965257139904, 0.37443032429640816, 0.37982163457053314, 0.08719339564009201, 0.4457917769557747, -0.037151589838669306, 0.47008119402891874, 0.5892871402601454, 0.3798601207855316, 0.4457403424244003, 0.33087590658089466, 0.40842266750151934, 0.4210570387404836, 0.4454448913745941, 0.17772370595637008, 0.29896920593371473, 0.08721357934531047, 0.007943424037584683, 0.4388001300100159, 0.4019960484886196, 0.09807065226338454, 0.26693681648610595, 0.21757620762852203, 0.08721316527851959, 0.17771510074575758, 0.3717738132749648, 0.37984967514454576, 0.21873438021586925, 0.4441350815643874, 0.36987229713237957, 0.36987385992549165, 0.301364348532525, 0.00791811786309332, 0.3744271150182723, 0.3744553180777797, 0.15504455745582071, 0.2187144163609764, -0.08275865038780661, 0.2186891995634628, -0.0019787257281935504, 0.2216773734711046, 0.36916658326549073, 0.0074899932554958375, 0.21872998601448213, -0.010575173281128458, 0.11445495569761581, 0.007943494028520699, 0.007896191802701926, 0.31678628381688173, 0.44023319345989936, 0.3778828223707161, 0.4452131274530784, 0.3744644484743599], \"y\": [-1.2508249529113058, -2.0321140431770996, -1.1733720440747948, -2.168429761965959, -2.0321688032820413, -1.9848183417686245, -1.8254747488765155, -1.1733945575716622, -0.8816485382004844, -1.1734020734496444, -1.8269706343968153, -1.2807982705627894, -1.250759857450594, -1.1733722915439524, -1.173415540134717, -0.506574399866712, -1.2088905698704848, -1.1733827619028687, -1.1733935402767297, -1.1733931050533473, -0.881652290561573, -1.821061596358957, -1.2435489098750963, -1.1683815249520118, -1.1733839461383369, -1.1733231961638593, -1.1733880135568238, -1.1733950680539273, -1.543233500314893, -1.1731704896824025, -1.1733662827413827, -1.1733837396150941, -1.1352454061828086, -1.2508227369012397, -1.1733608323723697, -1.1733847765947147, -1.1733923298746172, -1.1733777372471055, -2.2272209888009455, -1.1733914556956704, -1.1759301470280015, -1.2508271889645857, -1.1732524259058268, -1.1733978261486238, -1.1734456819898178, -1.1733891111708628, -1.2506852387606926, -1.2508142816198313, -1.2508273169564224, -1.2508524219571882, -1.2508315714288776, -0.8816499116820646, -1.1733829354899108, -1.2844839633521539, -1.1733831459235384, -1.2508167610268477, -2.178104007584168, -2.2534566999413763, -1.1733743385208966, -1.1735717761666569, -1.1733428941049058, -1.1733933337570277, -1.1733307692120751, -1.1731170284141075, -2.1502523081533895, -1.8275487064100622, -1.443501502909795, -1.1733865631462785, -1.1729588793121104, -2.10729761800361, -1.1733924653340926, -1.2508287823997915, -1.1991252427232586, -0.8816374074559737, -2.219809210930097, -1.2508363444315977, -0.8816455143205096, -1.1734287093873537, -1.1734096620216197, -2.0321868806670227, -2.1964250780366097, -0.881644113107531, -1.2508228012840263, -1.1733042983480029, -2.1803144819785056, -1.1733672809267481, -1.2416454675109394, -0.8816426399884422, -2.1799651502932127, -1.1734393683473205, -2.21409262252717, -1.1733937154898895, -0.8816481816955903, -1.17339246660998, -0.8816567846713823, -1.2567170137590398, -2.2554970417406266, -1.2508299898766257, -1.827229192398553, -1.1733667829712047, -1.2508282359865697, -1.1733933250555695, -2.176781155986579, -2.032178472110183, -1.9848195818153969, -1.1760521825295172, -0.8812131603243166, -0.8816715261348762, -2.2555049148490327, -1.1733928588563134, -2.2555001618034143, -2.2198019225621364, -0.9092446416175249, -2.1684858740055812, -1.1733914828535144, -0.8819091658997626, -1.9848175463055842, -1.1733507274296138, -2.219793317438918, -2.165829239487833, -1.1744666162688233, -0.5879838551353185, -1.1733884520873128, -1.25060743697925, -1.1734032825826204, -2.1684228054698, -2.0252264677761014, -2.219621729173158, -2.1710044969632905, -2.2547910796122843, -0.8816541030100757, -1.1733854104400265, -1.1734100823234017, -0.8816492897179644, -0.881654206031608, -2.2555049060783716, -2.216238726390272, -1.1150662398875597, -1.0901649968663243, -0.8818726005603423, -1.2508249049672222, -1.176329256511058, -1.073175527418105, -1.173391519760351, -1.173403989791105, -1.1733978179798168, -1.1733970682815542, -2.2555183192767116, -1.9870391945093064, -0.8802600954310847, -1.5432903855243083, -1.9848114605285614, -2.1799806568217974, -1.1733506246990375, -0.8816258644513932, -1.5432938719167173, -2.0322588839163056, -1.5432905603448843, -1.827441349774065, -2.265761943778634, -2.255500069312756, -2.034621492126126, -0.881748309270731, -2.168412150842157, -1.172013175631104, -1.1480770524408364, -0.8816533321913393, -1.5432861274009633, -1.543215509522809, -1.1733787531865125, -0.8816512495493292, -1.2508231507006926, -1.0960026852120388, -0.15153374858011487, -2.497961965575594, -2.2601913520343597, -2.2554998483138635, -1.169181876713113, -2.179913513210408, -1.2843528386642884, -1.173395192200835, -1.168386081261284, -0.8816425341042907, -2.0338340459094715, -2.255723331170611, -1.1733957475763668, -1.988753578050985, -1.9847872161300868, -2.1768452248339187, -0.8816564418959877, -2.2554936486869352, -0.5879685617823409, -2.2198042184947036, -2.1501481299137866, -2.1767785150104038, -2.2556674888112447, -2.0636434054586545, -2.2780262251966046, -2.0673241899627, -2.2553869276276584, -1.188983002694453, -2.176093835776168, -0.8816531324393573, -1.17339791629297, -2.168920376294764, -2.247549348857435, -0.8461359738690272, -2.0454459750813636, -1.2499473639102352, -0.881654235233658, -1.189003657469251, -1.9839754661077187, -2.1767944139561135, -1.2508249071221418, -2.256451310673033, -2.1434475196836487, -2.1434151748241357, -2.134405614891629, -1.1734015633525174, -1.9848661383003732, -1.9848086555089328, -1.4435248755874925, -1.250812896388886, -0.25887446967188643, -1.2508193364745674, -1.2007925470906198, -1.5417242716823862, -2.1453607688925422, -1.1731256666986971, -1.2508272808427117, -1.1666457513651616, -1.2088798001898309, -1.1733905839317171, -1.1733947979872548, -1.8275927844552577, -2.2392291606644616, -2.032179195363516, -2.255204444418094, -1.9848184023998272], \"z\": [-0.1453948188652665, -0.1499080090352, -0.17689526123408614, -0.14915523851252704, -0.14835480716766977, -0.1685353503183, 0.1691119755756967, -0.17803818562085852, -0.20950996601610147, -0.17765588163635285, -0.08354977733592572, 2.535452864819071, -0.14248816174258333, -0.17491929584879998, -0.17746053239151982, -0.23160211263676916, -0.19367662345047426, -0.17750905645713339, -0.17802050085347712, -0.1781066993514105, -0.20959905611894472, 0.19280487063786966, 0.23135795801849776, 0.0699042550372335, -0.17785371529284852, -0.17347182608905384, -0.17779320120506037, -0.1781635400295958, -0.1696566933521331, -0.15744657124510344, -0.17696211608332643, -0.17723879862453407, 1.56569691036153, -0.1453562955016505, -0.17453612865995854, -0.177880081359963, -0.178233870262674, -0.17749526348495323, -0.136552367116767, -0.17811548480594272, -0.04342784152107971, -0.14543369066219014, -0.17179768737179013, -0.17809500692347494, -0.17619512345911278, -0.1775832392703467, -0.1326232906632853, -0.14489900281994558, -0.14518539992888066, -0.14516851380492174, -0.14575740933215345, -0.20977242920719322, -0.1778122874255046, -0.1897593005533788, -0.1749240298960076, -0.1449661065188428, 3.8460482649593635, 0.45483050330515, -0.1766832008623034, -0.16132822839063957, -0.1754057058359374, -0.1782360761920521, -0.1752711060097909, -0.16153478208889202, -0.13402005605659126, -0.11745768858311753, -0.1774032920712826, -0.17810950764131242, -0.051421604569431525, -0.10760709672925296, -0.17824493973715377, -0.14546139111565815, 0.4719038326402183, -0.20916138674190551, -0.1429872931024625, -0.14520204572939566, -0.20944546923110993, -0.17637437969899727, -0.17556894835678732, -0.15097254214826403, 0.35232047904998537, -0.20948075699898316, -0.1453574147391196, -0.17421446749810288, -0.15550228225535828, -0.17681245814287, 0.2719187057899625, -0.2086439542527031, -0.15391252989105697, -0.17705938001690064, -0.16600295114932043, -0.17803547610017798, -0.20944412188674053, -0.17824499806316593, -0.20959367696734005, -0.33459869247406754, 0.3001870516486698, -0.14561675390680318, -0.09758803560176645, -0.17542000030153118, -0.14557550028532568, -0.17790939552900337, -0.15544227135593722, -0.1507154344109361, -0.16855690742828336, -0.10519592907894172, -0.1962152345108891, -0.20742829187296427, 0.30018140720290226, -0.17822679113215498, 0.3003117519596289, -0.1435261174474955, 0.5034499188626385, -0.1479237718713454, -0.1781951676175565, -0.20235001135272115, -0.16856923918819808, -0.17633382117325486, -0.14324530248421782, -0.15209359970405975, -0.14920820093731268, -0.18390589712399785, -0.17775882868306142, -0.11204070918889181, -0.1775814667631444, -0.14778172722794602, -0.13578961466544096, -0.046873326444838104, -0.1440302140147412, 0.33619892555281067, -0.20865235953726008, -0.1778997274823223, -0.17766388624194723, -0.20904585760745367, -0.20962161847181862, 0.3005752272919919, -0.16274158995994126, 3.2215615676427922, -0.11811593687040979, -0.20052142327824282, -0.1453939853999582, -0.10404795285888264, 1.5639299790212469, -0.1779973052955578, -0.17745060909204902, -0.17715244849491674, -0.17713941565758343, 0.30075825154349656, 0.04312234229885923, -0.16413893090412202, -0.17433175254244315, -0.16841572608166214, -0.1526753434369995, -0.17633203529357627, -0.2051791268701257, -0.17417763258069432, -0.14908572633000103, -0.1742775308980615, -0.10771803659605123, 1.1356139204014293, 0.30016424330511154, -0.07420456042474623, -0.20492185676528274, -0.13692594816887352, -0.09462799635416304, 1.0918381623892326, -0.2095956911465459, -0.17432930478701764, -0.16738753066411663, -0.1772504796084263, -0.2095213124382809, -0.14537343809137648, -0.2009363987388758, -0.27397913748677427, 8.014352550290115, -0.15258515586307303, 0.3040272207721151, 0.01423822544297827, -0.15217981261985064, -0.17535962357364585, -0.17782256097049237, 0.12836198916438443, -0.20367951568781736, -0.10226813474370207, 0.3080632397928966, -0.1780588727939789, -0.1449217696871062, -0.16740972201543194, -0.1532325422190819, -0.20869301898807865, 0.3003462431715118, -0.18396513366537107, -0.14337182082199823, -0.15228027344089792, -0.1555263899421223, 0.30426228699575825, 0.5845886723251957, 2.1034131555870728, -0.15139886057773594, 0.31391131610920653, -0.1862191092380895, -0.1365981962163795, -0.20957790344989832, -0.17808338896475692, -0.13680781902273553, -0.14649586967334569, -0.09731249110946841, 3.0997474019351974, -0.10533765482575659, -0.20954935726057985, -0.18564859007297962, -0.06347037699049884, -0.15492597381767031, -0.14539402286131942, 0.3798675620299028, -0.13200281588591856, -0.1323935771284212, -0.14720279313549187, -0.17697897203156066, -0.16648174049316944, -0.1682490300357069, -0.17661667310117016, -0.14467226611207662, -0.1065056873127106, -0.14354357180651287, 0.5156880924102676, -0.09971106122048419, -0.08301170909929514, -0.1616849509815274, -0.1451847721241525, 0.5354993798326126, -0.1932388863759284, -0.1781599765740997, -0.17612174422444923, -0.11819054408426112, -0.12450375976559347, -0.15074849727015005, 0.3218580086640441, -0.16853640433786518]}, {\"customdata\": [[\"VeChainThor Authority\"], [\"Proof-of-BibleHash\"], [\"SHA-256 + Hive\"], [\"Proof-of-Authority\"], [\"ECC 256K1\"], [\"Leased POS\"]], \"hovertemplate\": \"<b>%{hovertext}</b><br><br>Class=%{marker.color}<br>PC3=%{x}<br>PC2=%{y}<br>PC1=%{z}<br>Algorithm=%{customdata[0]}<extra></extra>\", \"hovertext\": [\"Vechain\", \"BiblePay\", \"LitecoinCash\", \"Poa Network\", \"Acute Angle Cloud\", \"Waves\"], \"legendgroup\": \"2\", \"marker\": {\"color\": [2, 2, 2, 2, 2, 2], \"coloraxis\": \"coloraxis\", \"symbol\": \"square\"}, \"mode\": \"markers\", \"name\": \"2\", \"scene\": \"scene\", \"showlegend\": true, \"type\": \"scatter3d\", \"x\": [9.916606744296278, 15.421325528082654, 18.912605449289842, 9.509731764943322, 8.927058877210476, 11.202891176762527], \"y\": [0.5248816043007841, 3.46532757950319, 1.9643102113952278, 4.726690350323089, 5.109006216606668, 4.439561834841499], \"z\": [4.5755095168999755, -0.262873533137743, -0.3174352508126391, -0.49154567056223253, -0.4046113379906128, -0.45400482989144864]}, {\"customdata\": [[\"TRC10\"]], \"hovertemplate\": \"<b>%{hovertext}</b><br><br>Class=%{marker.color}<br>PC3=%{x}<br>PC2=%{y}<br>PC1=%{z}<br>Algorithm=%{customdata[0]}<extra></extra>\", \"hovertext\": [\"BitTorrent\"], \"legendgroup\": \"1\", \"marker\": {\"color\": [1], \"coloraxis\": \"coloraxis\", \"symbol\": \"x\"}, \"mode\": \"markers\", \"name\": \"1\", \"scene\": \"scene\", \"showlegend\": true, \"type\": \"scatter3d\", \"x\": [-1.3943834317447206], \"y\": [2.3150201551138037], \"z\": [34.00091602404568]}],                        {\"coloraxis\": {\"colorbar\": {\"title\": {\"text\": \"Class\"}}, \"colorscale\": [[0.0, \"#0d0887\"], [0.1111111111111111, \"#46039f\"], [0.2222222222222222, \"#7201a8\"], [0.3333333333333333, \"#9c179e\"], [0.4444444444444444, \"#bd3786\"], [0.5555555555555556, \"#d8576b\"], [0.6666666666666666, \"#ed7953\"], [0.7777777777777778, \"#fb9f3a\"], [0.8888888888888888, \"#fdca26\"], [1.0, \"#f0f921\"]]}, \"legend\": {\"title\": {\"text\": \"Class\"}, \"tracegroupgap\": 0, \"x\": 0, \"y\": 1}, \"margin\": {\"t\": 60}, \"scene\": {\"domain\": {\"x\": [0.0, 1.0], \"y\": [0.0, 1.0]}, \"xaxis\": {\"title\": {\"text\": \"PC3\"}}, \"yaxis\": {\"title\": {\"text\": \"PC2\"}}, \"zaxis\": {\"title\": {\"text\": \"PC1\"}}}, \"template\": {\"data\": {\"bar\": [{\"error_x\": {\"color\": \"#2a3f5f\"}, \"error_y\": {\"color\": \"#2a3f5f\"}, \"marker\": {\"line\": {\"color\": \"#E5ECF6\", \"width\": 0.5}}, \"type\": \"bar\"}], \"barpolar\": [{\"marker\": {\"line\": {\"color\": \"#E5ECF6\", \"width\": 0.5}}, \"type\": \"barpolar\"}], \"carpet\": [{\"aaxis\": {\"endlinecolor\": \"#2a3f5f\", \"gridcolor\": \"white\", \"linecolor\": \"white\", \"minorgridcolor\": \"white\", \"startlinecolor\": \"#2a3f5f\"}, \"baxis\": {\"endlinecolor\": \"#2a3f5f\", \"gridcolor\": \"white\", \"linecolor\": \"white\", \"minorgridcolor\": \"white\", \"startlinecolor\": \"#2a3f5f\"}, \"type\": \"carpet\"}], \"choropleth\": [{\"colorbar\": {\"outlinewidth\": 0, \"ticks\": \"\"}, \"type\": \"choropleth\"}], \"contour\": [{\"colorbar\": {\"outlinewidth\": 0, \"ticks\": \"\"}, \"colorscale\": [[0.0, \"#0d0887\"], [0.1111111111111111, \"#46039f\"], [0.2222222222222222, \"#7201a8\"], [0.3333333333333333, \"#9c179e\"], [0.4444444444444444, \"#bd3786\"], [0.5555555555555556, \"#d8576b\"], [0.6666666666666666, \"#ed7953\"], [0.7777777777777778, \"#fb9f3a\"], [0.8888888888888888, \"#fdca26\"], [1.0, \"#f0f921\"]], \"type\": \"contour\"}], \"contourcarpet\": [{\"colorbar\": {\"outlinewidth\": 0, \"ticks\": \"\"}, \"type\": \"contourcarpet\"}], \"heatmap\": [{\"colorbar\": {\"outlinewidth\": 0, \"ticks\": \"\"}, \"colorscale\": [[0.0, \"#0d0887\"], [0.1111111111111111, \"#46039f\"], [0.2222222222222222, \"#7201a8\"], [0.3333333333333333, \"#9c179e\"], [0.4444444444444444, \"#bd3786\"], [0.5555555555555556, \"#d8576b\"], [0.6666666666666666, \"#ed7953\"], [0.7777777777777778, \"#fb9f3a\"], [0.8888888888888888, \"#fdca26\"], [1.0, \"#f0f921\"]], \"type\": \"heatmap\"}], \"heatmapgl\": [{\"colorbar\": {\"outlinewidth\": 0, \"ticks\": \"\"}, \"colorscale\": [[0.0, \"#0d0887\"], [0.1111111111111111, \"#46039f\"], [0.2222222222222222, \"#7201a8\"], [0.3333333333333333, \"#9c179e\"], [0.4444444444444444, \"#bd3786\"], [0.5555555555555556, \"#d8576b\"], [0.6666666666666666, \"#ed7953\"], [0.7777777777777778, \"#fb9f3a\"], [0.8888888888888888, \"#fdca26\"], [1.0, \"#f0f921\"]], \"type\": \"heatmapgl\"}], \"histogram\": [{\"marker\": {\"colorbar\": {\"outlinewidth\": 0, \"ticks\": \"\"}}, \"type\": \"histogram\"}], \"histogram2d\": [{\"colorbar\": {\"outlinewidth\": 0, \"ticks\": \"\"}, \"colorscale\": [[0.0, \"#0d0887\"], [0.1111111111111111, \"#46039f\"], [0.2222222222222222, \"#7201a8\"], [0.3333333333333333, \"#9c179e\"], [0.4444444444444444, \"#bd3786\"], [0.5555555555555556, \"#d8576b\"], [0.6666666666666666, \"#ed7953\"], [0.7777777777777778, \"#fb9f3a\"], [0.8888888888888888, \"#fdca26\"], [1.0, \"#f0f921\"]], \"type\": \"histogram2d\"}], \"histogram2dcontour\": [{\"colorbar\": {\"outlinewidth\": 0, \"ticks\": \"\"}, \"colorscale\": [[0.0, \"#0d0887\"], [0.1111111111111111, \"#46039f\"], [0.2222222222222222, \"#7201a8\"], [0.3333333333333333, \"#9c179e\"], [0.4444444444444444, \"#bd3786\"], [0.5555555555555556, \"#d8576b\"], [0.6666666666666666, \"#ed7953\"], [0.7777777777777778, \"#fb9f3a\"], [0.8888888888888888, \"#fdca26\"], [1.0, \"#f0f921\"]], \"type\": \"histogram2dcontour\"}], \"mesh3d\": [{\"colorbar\": {\"outlinewidth\": 0, \"ticks\": \"\"}, \"type\": \"mesh3d\"}], \"parcoords\": [{\"line\": {\"colorbar\": {\"outlinewidth\": 0, \"ticks\": \"\"}}, \"type\": \"parcoords\"}], \"pie\": [{\"automargin\": true, \"type\": \"pie\"}], \"scatter\": [{\"marker\": {\"colorbar\": {\"outlinewidth\": 0, \"ticks\": \"\"}}, \"type\": \"scatter\"}], \"scatter3d\": [{\"line\": {\"colorbar\": {\"outlinewidth\": 0, \"ticks\": \"\"}}, \"marker\": {\"colorbar\": {\"outlinewidth\": 0, \"ticks\": \"\"}}, \"type\": \"scatter3d\"}], \"scattercarpet\": [{\"marker\": {\"colorbar\": {\"outlinewidth\": 0, \"ticks\": \"\"}}, \"type\": \"scattercarpet\"}], \"scattergeo\": [{\"marker\": {\"colorbar\": {\"outlinewidth\": 0, \"ticks\": \"\"}}, \"type\": \"scattergeo\"}], \"scattergl\": [{\"marker\": {\"colorbar\": {\"outlinewidth\": 0, \"ticks\": \"\"}}, \"type\": \"scattergl\"}], \"scattermapbox\": [{\"marker\": {\"colorbar\": {\"outlinewidth\": 0, \"ticks\": \"\"}}, \"type\": \"scattermapbox\"}], \"scatterpolar\": [{\"marker\": {\"colorbar\": {\"outlinewidth\": 0, \"ticks\": \"\"}}, \"type\": \"scatterpolar\"}], \"scatterpolargl\": [{\"marker\": {\"colorbar\": {\"outlinewidth\": 0, \"ticks\": \"\"}}, \"type\": \"scatterpolargl\"}], \"scatterternary\": [{\"marker\": {\"colorbar\": {\"outlinewidth\": 0, \"ticks\": \"\"}}, \"type\": \"scatterternary\"}], \"surface\": [{\"colorbar\": {\"outlinewidth\": 0, \"ticks\": \"\"}, \"colorscale\": [[0.0, \"#0d0887\"], [0.1111111111111111, \"#46039f\"], [0.2222222222222222, \"#7201a8\"], [0.3333333333333333, \"#9c179e\"], [0.4444444444444444, \"#bd3786\"], [0.5555555555555556, \"#d8576b\"], [0.6666666666666666, \"#ed7953\"], [0.7777777777777778, \"#fb9f3a\"], [0.8888888888888888, \"#fdca26\"], [1.0, \"#f0f921\"]], \"type\": \"surface\"}], \"table\": [{\"cells\": {\"fill\": {\"color\": \"#EBF0F8\"}, \"line\": {\"color\": \"white\"}}, \"header\": {\"fill\": {\"color\": \"#C8D4E3\"}, \"line\": {\"color\": \"white\"}}, \"type\": \"table\"}]}, \"layout\": {\"annotationdefaults\": {\"arrowcolor\": \"#2a3f5f\", \"arrowhead\": 0, \"arrowwidth\": 1}, \"autotypenumbers\": \"strict\", \"coloraxis\": {\"colorbar\": {\"outlinewidth\": 0, \"ticks\": \"\"}}, \"colorscale\": {\"diverging\": [[0, \"#8e0152\"], [0.1, \"#c51b7d\"], [0.2, \"#de77ae\"], [0.3, \"#f1b6da\"], [0.4, \"#fde0ef\"], [0.5, \"#f7f7f7\"], [0.6, \"#e6f5d0\"], [0.7, \"#b8e186\"], [0.8, \"#7fbc41\"], [0.9, \"#4d9221\"], [1, \"#276419\"]], \"sequential\": [[0.0, \"#0d0887\"], [0.1111111111111111, \"#46039f\"], [0.2222222222222222, \"#7201a8\"], [0.3333333333333333, \"#9c179e\"], [0.4444444444444444, \"#bd3786\"], [0.5555555555555556, \"#d8576b\"], [0.6666666666666666, \"#ed7953\"], [0.7777777777777778, \"#fb9f3a\"], [0.8888888888888888, \"#fdca26\"], [1.0, \"#f0f921\"]], \"sequentialminus\": [[0.0, \"#0d0887\"], [0.1111111111111111, \"#46039f\"], [0.2222222222222222, \"#7201a8\"], [0.3333333333333333, \"#9c179e\"], [0.4444444444444444, \"#bd3786\"], [0.5555555555555556, \"#d8576b\"], [0.6666666666666666, \"#ed7953\"], [0.7777777777777778, \"#fb9f3a\"], [0.8888888888888888, \"#fdca26\"], [1.0, \"#f0f921\"]]}, \"colorway\": [\"#636efa\", \"#EF553B\", \"#00cc96\", \"#ab63fa\", \"#FFA15A\", \"#19d3f3\", \"#FF6692\", \"#B6E880\", \"#FF97FF\", \"#FECB52\"], \"font\": {\"color\": \"#2a3f5f\"}, \"geo\": {\"bgcolor\": \"white\", \"lakecolor\": \"white\", \"landcolor\": \"#E5ECF6\", \"showlakes\": true, \"showland\": true, \"subunitcolor\": \"white\"}, \"hoverlabel\": {\"align\": \"left\"}, \"hovermode\": \"closest\", \"mapbox\": {\"style\": \"light\"}, \"paper_bgcolor\": \"white\", \"plot_bgcolor\": \"#E5ECF6\", \"polar\": {\"angularaxis\": {\"gridcolor\": \"white\", \"linecolor\": \"white\", \"ticks\": \"\"}, \"bgcolor\": \"#E5ECF6\", \"radialaxis\": {\"gridcolor\": \"white\", \"linecolor\": \"white\", \"ticks\": \"\"}}, \"scene\": {\"xaxis\": {\"backgroundcolor\": \"#E5ECF6\", \"gridcolor\": \"white\", \"gridwidth\": 2, \"linecolor\": \"white\", \"showbackground\": true, \"ticks\": \"\", \"zerolinecolor\": \"white\"}, \"yaxis\": {\"backgroundcolor\": \"#E5ECF6\", \"gridcolor\": \"white\", \"gridwidth\": 2, \"linecolor\": \"white\", \"showbackground\": true, \"ticks\": \"\", \"zerolinecolor\": \"white\"}, \"zaxis\": {\"backgroundcolor\": \"#E5ECF6\", \"gridcolor\": \"white\", \"gridwidth\": 2, \"linecolor\": \"white\", \"showbackground\": true, \"ticks\": \"\", \"zerolinecolor\": \"white\"}}, \"shapedefaults\": {\"line\": {\"color\": \"#2a3f5f\"}}, \"ternary\": {\"aaxis\": {\"gridcolor\": \"white\", \"linecolor\": \"white\", \"ticks\": \"\"}, \"baxis\": {\"gridcolor\": \"white\", \"linecolor\": \"white\", \"ticks\": \"\"}, \"bgcolor\": \"#E5ECF6\", \"caxis\": {\"gridcolor\": \"white\", \"linecolor\": \"white\", \"ticks\": \"\"}}, \"title\": {\"x\": 0.05}, \"xaxis\": {\"automargin\": true, \"gridcolor\": \"white\", \"linecolor\": \"white\", \"ticks\": \"\", \"title\": {\"standoff\": 15}, \"zerolinecolor\": \"white\", \"zerolinewidth\": 2}, \"yaxis\": {\"automargin\": true, \"gridcolor\": \"white\", \"linecolor\": \"white\", \"ticks\": \"\", \"title\": {\"standoff\": 15}, \"zerolinecolor\": \"white\", \"zerolinewidth\": 2}}}, \"width\": 800},                        {\"responsive\": true}                    ).then(function(){\n",
       "                            \n",
       "var gd = document.getElementById('edf3a089-adf7-43ae-af61-d7965a65a97b');\n",
       "var x = new MutationObserver(function (mutations, observer) {{\n",
       "        var display = window.getComputedStyle(gd).display;\n",
       "        if (!display || display === 'none') {{\n",
       "            console.log([gd, 'removed!']);\n",
       "            Plotly.purge(gd);\n",
       "            observer.disconnect();\n",
       "        }}\n",
       "}});\n",
       "\n",
       "// Listen for the removal of the full notebook cells\n",
       "var notebookContainer = gd.closest('#notebook-container');\n",
       "if (notebookContainer) {{\n",
       "    x.observe(notebookContainer, {childList: true});\n",
       "}}\n",
       "\n",
       "// Listen for the clearing of the current output cell\n",
       "var outputEl = gd.closest('.output');\n",
       "if (outputEl) {{\n",
       "    x.observe(outputEl, {childList: true});\n",
       "}}\n",
       "\n",
       "                        })                };                });            </script>        </div>"
      ]
     },
     "metadata": {},
     "output_type": "display_data"
    }
   ],
   "source": [
    "# Create a 3D-Scatter with the PCA data and the clusters\n",
    "fig = px.scatter_3d(\n",
    "    clustered_df,\n",
    "    x=\"PC3\",\n",
    "    y=\"PC2\",\n",
    "    z=\"PC1\",\n",
    "    color=\"Class\",\n",
    "    symbol=\"Class\",\n",
    "    width=800,\n",
    "    hover_name=\"CoinName\",\n",
    "    hover_data=[\"Algorithm\"]\n",
    ")\n",
    "fig.update_layout(legend=dict(x=0, y=1))\n",
    "fig.show()\n"
   ]
  },
  {
   "cell_type": "markdown",
   "metadata": {},
   "source": [
    "#### Table of Tradable Cryptocurrencies"
   ]
  },
  {
   "cell_type": "code",
   "execution_count": 102,
   "metadata": {},
   "outputs": [
    {
     "name": "stdout",
     "output_type": "stream",
     "text": [
      ":Table   [CoinName,Algorithm,ProofType,TotalCoinSupply,TotalCoinsMined,Class]\n"
     ]
    }
   ],
   "source": [
    "# Table with tradable cryptos\n",
    "columns = ['CoinName', 'Algorithm', 'ProofType', 'TotalCoinSupply', 'TotalCoinsMined', 'Class']\n",
    "table = clustered_df.hvplot.table(columns)\n",
    "print(table)"
   ]
  },
  {
   "cell_type": "code",
   "execution_count": 103,
   "metadata": {},
   "outputs": [
    {
     "name": "stdout",
     "output_type": "stream",
     "text": [
      "The total number of tradable cryptocurrencies is 532\n"
     ]
    }
   ],
   "source": [
    "# Print the total number of tradable cryptocurrencies\n",
    "print(f\"The total number of tradable cryptocurrencies is {coin_name.count()}\")\n"
   ]
  },
  {
   "cell_type": "markdown",
   "metadata": {},
   "source": [
    "#### Scatter Plot with Tradable Cryptocurrencies"
   ]
  },
  {
   "cell_type": "code",
   "execution_count": 104,
   "metadata": {},
   "outputs": [],
   "source": [
    "# Scale data to create the scatter plot\n",
    "clustered_df[\"TotalCoinSupply\"]= clustered_df[\"TotalCoinSupply\"].astype(float)/100000000\n",
    "clustered_df[\"TotalCoinsMined\"]= clustered_df[\"TotalCoinsMined\"].astype(float)/100000000"
   ]
  },
  {
   "cell_type": "code",
   "execution_count": 105,
   "metadata": {},
   "outputs": [
    {
     "data": {},
     "metadata": {},
     "output_type": "display_data"
    },
    {
     "data": {
      "application/vnd.holoviews_exec.v0+json": "",
      "text/html": [
       "<div id='2420'>\n",
       "\n",
       "\n",
       "\n",
       "\n",
       "\n",
       "  <div class=\"bk-root\" id=\"5cc364d1-1090-4bb0-bdac-90e5ec5b6185\" data-root-id=\"2420\"></div>\n",
       "</div>\n",
       "<script type=\"application/javascript\">(function(root) {\n",
       "  function embed_document(root) {\n",
       "    var docs_json = {\"d38f0732-19ef-4e4c-8d49-b629ddef1be2\":{\"roots\":{\"references\":[{\"attributes\":{\"label\":{\"value\":\"1\"},\"renderers\":[{\"id\":\"2486\"}]},\"id\":\"2498\",\"type\":\"LegendItem\"},{\"attributes\":{\"margin\":[5,5,5,5],\"name\":\"HSpacer05017\",\"sizing_mode\":\"stretch_width\"},\"id\":\"2669\",\"type\":\"Spacer\"},{\"attributes\":{},\"id\":\"2461\",\"type\":\"BasicTickFormatter\"},{\"attributes\":{\"fill_color\":{\"value\":\"#30a2da\"},\"line_color\":{\"value\":\"#30a2da\"},\"size\":{\"units\":\"screen\",\"value\":5.477225575051661},\"x\":{\"field\":\"TotalCoinsMined\"},\"y\":{\"field\":\"TotalCoinSupply\"}},\"id\":\"2465\",\"type\":\"Scatter\"},{\"attributes\":{},\"id\":\"2438\",\"type\":\"BasicTicker\"},{\"attributes\":{\"source\":{\"id\":\"2462\"}},\"id\":\"2469\",\"type\":\"CDSView\"},{\"attributes\":{},\"id\":\"2446\",\"type\":\"PanTool\"},{\"attributes\":{},\"id\":\"2496\",\"type\":\"UnionRenderers\"},{\"attributes\":{\"end\":11000.0,\"reset_end\":11000.0,\"reset_start\":-1000.0,\"start\":-1000.0,\"tags\":[[[\"TotalCoinSupply\",\"TotalCoinSupply\",null]]]},\"id\":\"2423\",\"type\":\"Range1d\"},{\"attributes\":{\"text\":\"\",\"text_color\":{\"value\":\"black\"},\"text_font_size\":{\"value\":\"12pt\"}},\"id\":\"2429\",\"type\":\"Title\"},{\"attributes\":{\"callback\":null,\"renderers\":[{\"id\":\"2468\"},{\"id\":\"2486\"},{\"id\":\"2505\"},{\"id\":\"2526\"}],\"tags\":[\"hv_created\"],\"tooltips\":[[\"Class\",\"@{Class}\"],[\"TotalCoinsMined\",\"@{TotalCoinsMined}\"],[\"TotalCoinSupply\",\"@{TotalCoinSupply}\"],[\"CoinName\",\"@{CoinName}\"]]},\"id\":\"2424\",\"type\":\"HoverTool\"},{\"attributes\":{},\"id\":\"2463\",\"type\":\"Selection\"},{\"attributes\":{\"fill_alpha\":{\"value\":0.2},\"fill_color\":{\"value\":\"#30a2da\"},\"line_alpha\":{\"value\":0.2},\"line_color\":{\"value\":\"#30a2da\"},\"size\":{\"units\":\"screen\",\"value\":5.477225575051661},\"x\":{\"field\":\"TotalCoinsMined\"},\"y\":{\"field\":\"TotalCoinSupply\"}},\"id\":\"2467\",\"type\":\"Scatter\"},{\"attributes\":{},\"id\":\"2459\",\"type\":\"BasicTickFormatter\"},{\"attributes\":{\"data\":{\"Class\":[1],\"CoinName\":[\"BitTorrent\"],\"TotalCoinSupply\":{\"__ndarray__\":\"AAAAAABWw0A=\",\"dtype\":\"float64\",\"order\":\"little\",\"shape\":[1]},\"TotalCoinsMined\":{\"__ndarray__\":\"C7KejfFVw0A=\",\"dtype\":\"float64\",\"order\":\"little\",\"shape\":[1]}},\"selected\":{\"id\":\"2481\"},\"selection_policy\":{\"id\":\"2496\"}},\"id\":\"2480\",\"type\":\"ColumnDataSource\"},{\"attributes\":{\"bottom_units\":\"screen\",\"fill_alpha\":0.5,\"fill_color\":\"lightgrey\",\"left_units\":\"screen\",\"level\":\"overlay\",\"line_alpha\":1.0,\"line_color\":\"black\",\"line_dash\":[4,4],\"line_width\":2,\"right_units\":\"screen\",\"top_units\":\"screen\"},\"id\":\"2450\",\"type\":\"BoxAnnotation\"},{\"attributes\":{\"below\":[{\"id\":\"2437\"}],\"center\":[{\"id\":\"2440\"},{\"id\":\"2444\"}],\"left\":[{\"id\":\"2441\"}],\"margin\":[5,5,5,5],\"min_border_bottom\":10,\"min_border_left\":10,\"min_border_right\":10,\"min_border_top\":10,\"plot_height\":300,\"plot_width\":700,\"renderers\":[{\"id\":\"2468\"},{\"id\":\"2486\"},{\"id\":\"2505\"},{\"id\":\"2526\"}],\"right\":[{\"id\":\"2478\"}],\"sizing_mode\":\"fixed\",\"title\":{\"id\":\"2429\"},\"toolbar\":{\"id\":\"2451\"},\"x_range\":{\"id\":\"2422\"},\"x_scale\":{\"id\":\"2433\"},\"y_range\":{\"id\":\"2423\"},\"y_scale\":{\"id\":\"2435\"}},\"id\":\"2428\",\"subtype\":\"Figure\",\"type\":\"Plot\"},{\"attributes\":{\"data\":{\"Class\":[0,0,0,0,0,0,0,0,0,0,0,0,0,0,0,0,0,0,0,0,0,0,0,0,0,0,0,0,0,0,0,0,0,0,0,0,0,0,0,0,0,0,0,0,0,0,0,0,0,0,0,0,0,0,0,0,0,0,0,0,0,0,0,0,0,0,0,0,0,0,0,0,0,0,0,0,0,0,0,0,0,0,0,0,0,0,0,0,0,0,0,0,0,0,0,0,0,0,0,0,0,0,0,0,0,0,0,0,0,0,0,0,0,0,0,0,0,0,0,0,0,0,0,0,0,0,0,0,0,0,0,0,0,0,0,0,0,0,0,0,0,0,0,0,0,0,0,0,0,0,0,0,0,0,0,0,0,0,0,0,0,0,0,0,0,0,0,0,0,0,0,0,0,0,0,0,0,0,0,0,0,0,0,0,0,0,0,0,0,0,0,0,0,0,0,0,0,0,0,0,0,0,0,0,0,0,0,0,0,0,0,0,0,0,0,0,0,0,0,0,0,0,0,0,0,0,0,0,0,0,0,0,0,0,0,0,0,0,0,0,0,0,0,0,0,0,0,0,0,0,0,0,0,0,0,0,0,0,0,0,0,0,0,0,0,0,0,0,0,0,0,0,0,0,0,0,0,0,0,0,0,0,0,0,0,0],\"CoinName\":[\"42 Coin\",\"404Coin\",\"EliteCoin\",\"Dash\",\"Bitshares\",\"BitcoinDark\",\"PayCoin\",\"KoboCoin\",\"Aurora Coin\",\"BlueCoin\",\"EnergyCoin\",\"BitBar\",\"CryptoBullion\",\"CasinoCoin\",\"Diamond\",\"Exclusive Coin\",\"FlutterCoin\",\"HoboNickels\",\"HyperStake\",\"IOCoin\",\"MaxCoin\",\"MintCoin\",\"MazaCoin\",\"Nautilus Coin\",\"NavCoin\",\"OpalCoin\",\"Orbitcoin\",\"PotCoin\",\"PhoenixCoin\",\"Reddcoin\",\"SuperCoin\",\"SyncCoin\",\"TeslaCoin\",\"TittieCoin\",\"TorCoin\",\"UnitaryStatus Dollar\",\"UltraCoin\",\"VeriCoin\",\"X11 Coin\",\"Crypti\",\"StealthCoin\",\"ZCC Coin\",\"BurstCoin\",\"StorjCoin\",\"Neutron\",\"FairCoin\",\"RubyCoin\",\"Kore\",\"Dnotes\",\"8BIT Coin\",\"Sativa Coin\",\"Ucoin\",\"Vtorrent\",\"IslaCoin\",\"Nexus\",\"Droidz\",\"Squall Coin\",\"Diggits\",\"Paycon\",\"Emercoin\",\"EverGreenCoin\",\"Decred\",\"EDRCoin\",\"Hitcoin\",\"DubaiCoin\",\"PWR Coin\",\"BillaryCoin\",\"GPU Coin\",\"EuropeCoin\",\"ZeitCoin\",\"SwingCoin\",\"SafeExchangeCoin\",\"Nebuchadnezzar\",\"Ratecoin\",\"Revenu\",\"Clockcoin\",\"VIP Tokens\",\"BitSend\",\"Let it Ride\",\"PutinCoin\",\"iBankCoin\",\"Frankywillcoin\",\"MudraCoin\",\"Lutetium Coin\",\"GoldBlocks\",\"CarterCoin\",\"BitTokens\",\"MustangCoin\",\"ZoneCoin\",\"RootCoin\",\"BitCurrency\",\"Swiscoin\",\"BuzzCoin\",\"Opair\",\"PesoBit\",\"Halloween Coin\",\"CoffeeCoin\",\"RoyalCoin\",\"GanjaCoin V2\",\"TeamUP\",\"LanaCoin\",\"ARK\",\"InsaneCoin\",\"EmberCoin\",\"XenixCoin\",\"FreeCoin\",\"PLNCoin\",\"AquariusCoin\",\"Creatio\",\"Eternity\",\"Eurocoin\",\"BitcoinFast\",\"Stakenet\",\"BitConnect Coin\",\"MoneyCoin\",\"Enigma\",\"Russiacoin\",\"PandaCoin\",\"GameUnits\",\"GAKHcoin\",\"Allsafe\",\"LiteCreed\",\"Klingon Empire Darsek\",\"Internet of People\",\"KushCoin\",\"Printerium\",\"Impeach\",\"Zilbercoin\",\"FirstCoin\",\"FindCoin\",\"OpenChat\",\"RenosCoin\",\"VirtacoinPlus\",\"TajCoin\",\"Impact\",\"Atmos\",\"HappyCoin\",\"MacronCoin\",\"Condensate\",\"Independent Money System\",\"ArgusCoin\",\"LomoCoin\",\"ProCurrency\",\"GoldReserve\",\"GrowthCoin\",\"Phreak\",\"Degas Coin\",\"HTML5 Coin\",\"Ultimate Secure Cash\",\"QTUM\",\"Espers\",\"Denarius\",\"Virta Unique Coin\",\"Bitcoin Planet\",\"BritCoin\",\"Linda\",\"DeepOnion\",\"Signatum\",\"Cream\",\"Monoeci\",\"Draftcoin\",\"Stakecoin\",\"CoinonatX\",\"Ethereum Dark\",\"Obsidian\",\"Cardano\",\"Regalcoin\",\"TrezarCoin\",\"TerraNovaCoin\",\"Rupee\",\"WomenCoin\",\"Theresa May Coin\",\"NamoCoin\",\"LUXCoin\",\"Xios\",\"Bitcloud 2.0\",\"KekCoin\",\"BlackholeCoin\",\"Infinity Economics\",\"Magnet\",\"Lamden Tau\",\"Electra\",\"Bitcoin Diamond\",\"Cash & Back Coin\",\"Bulwark\",\"Kalkulus\",\"GermanCoin\",\"LiteCoin Ultra\",\"PhantomX\",\"Digiwage\",\"Trollcoin\",\"Litecoin Plus\",\"Monkey Project\",\"TokenPay\",\"My Big Coin\",\"Unified Society USDEX\",\"Tokyo Coin\",\"Stipend\",\"Pushi\",\"Ellerium\",\"Velox\",\"Ontology\",\"Bitspace\",\"Briacoin\",\"Ignition\",\"MedicCoin\",\"Bitcoin Green\",\"Deviant Coin\",\"Abjcoin\",\"Semux\",\"Carebit\",\"Zealium\",\"Proton\",\"iDealCash\",\"Bitcoin Incognito\",\"HollyWoodCoin\",\"Swisscoin\",\"Xt3ch\",\"TheVig\",\"EmaratCoin\",\"Dekado\",\"Lynx\",\"Poseidon Quark\",\"BitcoinWSpectrum\",\"Muse\",\"Trivechain\",\"Dystem\",\"Giant\",\"Peony Coin\",\"Absolute Coin\",\"Vitae\",\"TPCash\",\"ARENON\",\"EUNO\",\"MMOCoin\",\"Ketan\",\"XDNA\",\"PAXEX\",\"ThunderStake\",\"Kcash\",\"Bettex coin\",\"BitMoney\",\"Junson Ming Chan Coin\",\"HerbCoin\",\"PirateCash\",\"Oduwa\",\"Galilel\",\"Crypto Sports\",\"Credit\",\"Dash Platinum\",\"Nasdacoin\",\"Beetle Coin\",\"Titan Coin\",\"Award\",\"Insane Coin\",\"ALAX\",\"LiteDoge\",\"TruckCoin\",\"OrangeCoin\",\"BitstarCoin\",\"NeosCoin\",\"HyperCoin\",\"PinkCoin\",\"AudioCoin\",\"IncaKoin\",\"Piggy Coin\",\"Genstake\",\"XiaoMiCoin\",\"CapriCoin\",\" ClubCoin\",\"Radium\",\"Creditbit \",\"OKCash\",\"Lisk\",\"HiCoin\",\"WhiteCoin\",\"FriendshipCoin\",\"Triangles Coin\",\"EOS\",\"Oxycoin\",\"TigerCash\",\"Particl\",\"Nxt\",\"ZEPHYR\",\"Gapcoin\",\"BitcoinPlus\"],\"TotalCoinSupply\":{\"__ndarray__\":\"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\",\"dtype\":\"float64\",\"order\":\"little\",\"shape\":[286]},\"TotalCoinsMined\":{\"__ndarray__\":\"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\",\"dtype\":\"float64\",\"order\":\"little\",\"shape\":[286]}},\"selected\":{\"id\":\"2463\"},\"selection_policy\":{\"id\":\"2476\"}},\"id\":\"2462\",\"type\":\"ColumnDataSource\"},{\"attributes\":{\"source\":{\"id\":\"2520\"}},\"id\":\"2527\",\"type\":\"CDSView\"},{\"attributes\":{\"fill_color\":{\"value\":\"#e5ae38\"},\"line_color\":{\"value\":\"#e5ae38\"},\"size\":{\"units\":\"screen\",\"value\":5.477225575051661},\"x\":{\"field\":\"TotalCoinsMined\"},\"y\":{\"field\":\"TotalCoinSupply\"}},\"id\":\"2502\",\"type\":\"Scatter\"},{\"attributes\":{\"fill_color\":{\"value\":\"#6d904f\"},\"line_color\":{\"value\":\"#6d904f\"},\"size\":{\"units\":\"screen\",\"value\":5.477225575051661},\"x\":{\"field\":\"TotalCoinsMined\"},\"y\":{\"field\":\"TotalCoinSupply\"}},\"id\":\"2523\",\"type\":\"Scatter\"},{\"attributes\":{},\"id\":\"2433\",\"type\":\"LinearScale\"},{\"attributes\":{\"fill_alpha\":{\"value\":0.1},\"fill_color\":{\"value\":\"#30a2da\"},\"line_alpha\":{\"value\":0.1},\"line_color\":{\"value\":\"#30a2da\"},\"size\":{\"units\":\"screen\",\"value\":5.477225575051661},\"x\":{\"field\":\"TotalCoinsMined\"},\"y\":{\"field\":\"TotalCoinSupply\"}},\"id\":\"2466\",\"type\":\"Scatter\"},{\"attributes\":{\"fill_alpha\":{\"value\":0.2},\"fill_color\":{\"value\":\"#6d904f\"},\"line_alpha\":{\"value\":0.2},\"line_color\":{\"value\":\"#6d904f\"},\"size\":{\"units\":\"screen\",\"value\":5.477225575051661},\"x\":{\"field\":\"TotalCoinsMined\"},\"y\":{\"field\":\"TotalCoinSupply\"}},\"id\":\"2525\",\"type\":\"Scatter\"},{\"attributes\":{\"data_source\":{\"id\":\"2462\"},\"glyph\":{\"id\":\"2465\"},\"hover_glyph\":null,\"muted_glyph\":{\"id\":\"2467\"},\"nonselection_glyph\":{\"id\":\"2466\"},\"selection_glyph\":null,\"view\":{\"id\":\"2469\"}},\"id\":\"2468\",\"type\":\"GlyphRenderer\"},{\"attributes\":{\"axis\":{\"id\":\"2437\"},\"grid_line_color\":null,\"ticker\":null},\"id\":\"2440\",\"type\":\"Grid\"},{\"attributes\":{\"label\":{\"value\":\"0\"},\"renderers\":[{\"id\":\"2468\"}]},\"id\":\"2479\",\"type\":\"LegendItem\"},{\"attributes\":{},\"id\":\"2521\",\"type\":\"Selection\"},{\"attributes\":{},\"id\":\"2447\",\"type\":\"WheelZoomTool\"},{\"attributes\":{},\"id\":\"2500\",\"type\":\"Selection\"},{\"attributes\":{},\"id\":\"2435\",\"type\":\"LinearScale\"},{\"attributes\":{\"fill_alpha\":{\"value\":0.2},\"fill_color\":{\"value\":\"#e5ae38\"},\"line_alpha\":{\"value\":0.2},\"line_color\":{\"value\":\"#e5ae38\"},\"size\":{\"units\":\"screen\",\"value\":5.477225575051661},\"x\":{\"field\":\"TotalCoinsMined\"},\"y\":{\"field\":\"TotalCoinSupply\"}},\"id\":\"2504\",\"type\":\"Scatter\"},{\"attributes\":{\"data_source\":{\"id\":\"2520\"},\"glyph\":{\"id\":\"2523\"},\"hover_glyph\":null,\"muted_glyph\":{\"id\":\"2525\"},\"nonselection_glyph\":{\"id\":\"2524\"},\"selection_glyph\":null,\"view\":{\"id\":\"2527\"}},\"id\":\"2526\",\"type\":\"GlyphRenderer\"},{\"attributes\":{\"fill_color\":{\"value\":\"#fc4f30\"},\"line_color\":{\"value\":\"#fc4f30\"},\"size\":{\"units\":\"screen\",\"value\":5.477225575051661},\"x\":{\"field\":\"TotalCoinsMined\"},\"y\":{\"field\":\"TotalCoinSupply\"}},\"id\":\"2483\",\"type\":\"Scatter\"},{\"attributes\":{\"axis_label\":\"TotalCoinSupply\",\"bounds\":\"auto\",\"formatter\":{\"id\":\"2461\"},\"major_label_orientation\":\"horizontal\",\"ticker\":{\"id\":\"2442\"}},\"id\":\"2441\",\"type\":\"LinearAxis\"},{\"attributes\":{\"fill_alpha\":{\"value\":0.1},\"fill_color\":{\"value\":\"#6d904f\"},\"line_alpha\":{\"value\":0.1},\"line_color\":{\"value\":\"#6d904f\"},\"size\":{\"units\":\"screen\",\"value\":5.477225575051661},\"x\":{\"field\":\"TotalCoinsMined\"},\"y\":{\"field\":\"TotalCoinSupply\"}},\"id\":\"2524\",\"type\":\"Scatter\"},{\"attributes\":{\"axis\":{\"id\":\"2441\"},\"dimension\":1,\"grid_line_color\":null,\"ticker\":null},\"id\":\"2444\",\"type\":\"Grid\"},{\"attributes\":{\"source\":{\"id\":\"2480\"}},\"id\":\"2487\",\"type\":\"CDSView\"},{\"attributes\":{},\"id\":\"2442\",\"type\":\"BasicTicker\"},{\"attributes\":{\"axis_label\":\"TotalCoinsMined\",\"bounds\":\"auto\",\"formatter\":{\"id\":\"2459\"},\"major_label_orientation\":\"horizontal\",\"ticker\":{\"id\":\"2438\"}},\"id\":\"2437\",\"type\":\"LinearAxis\"},{\"attributes\":{\"children\":[{\"id\":\"2421\"},{\"id\":\"2428\"},{\"id\":\"2669\"}],\"margin\":[0,0,0,0],\"name\":\"Row05012\",\"tags\":[\"embedded\"]},\"id\":\"2420\",\"type\":\"Row\"},{\"attributes\":{},\"id\":\"2445\",\"type\":\"SaveTool\"},{\"attributes\":{\"data\":{\"Class\":[3,3,3,3,3,3,3,3,3,3,3,3,3,3,3,3,3,3,3,3,3,3,3,3,3,3,3,3,3,3,3,3,3,3,3,3,3,3,3,3,3,3,3,3,3,3,3,3,3,3,3,3,3,3,3,3,3,3,3,3,3,3,3,3,3,3,3,3,3,3,3,3,3,3,3,3,3,3,3,3,3,3,3,3,3,3,3,3,3,3,3,3,3,3,3,3,3,3,3,3,3,3,3,3,3,3,3,3,3,3,3,3,3,3,3,3,3,3,3,3,3,3,3,3,3,3,3,3,3,3,3,3,3,3,3,3,3,3,3,3,3,3,3,3,3,3,3,3,3,3,3,3,3,3,3,3,3,3,3,3,3,3,3,3,3,3,3,3,3,3,3,3,3,3,3,3,3,3,3,3,3,3,3,3,3,3,3,3,3,3,3,3,3,3,3,3,3,3,3,3,3,3,3,3,3,3,3,3,3,3,3,3,3,3,3,3,3,3,3,3,3,3,3,3,3,3,3,3,3,3,3,3,3,3,3,3,3,3,3],\"CoinName\":[\"Bitcoin\",\"Ethereum\",\"Litecoin\",\"Monero\",\"Ethereum Classic\",\"ZCash\",\"DigiByte\",\"ProsperCoin\",\"Spreadcoin\",\"Argentum\",\"MyriadCoin\",\"MoonCoin\",\"ZetaCoin\",\"SexCoin\",\"Quatloo\",\"QuarkCoin\",\"Riecoin\",\"Digitalcoin \",\"Catcoin\",\"CannaCoin\",\"CryptCoin\",\"Verge\",\"DevCoin\",\"EarthCoin\",\"E-Gulden\",\"Einsteinium\",\"Emerald\",\"Franko\",\"FeatherCoin\",\"GrandCoin\",\"GlobalCoin\",\"GoldCoin\",\"Infinite Coin\",\"IXcoin\",\"KrugerCoin\",\"LuckyCoin\",\"Litebar \",\"MegaCoin\",\"MediterraneanCoin\",\"MinCoin\",\"NobleCoin\",\"Namecoin\",\"NyanCoin\",\"RonPaulCoin\",\"StableCoin\",\"SmartCoin\",\"SysCoin\",\"TigerCoin\",\"TerraCoin\",\"UnbreakableCoin\",\"Unobtanium\",\"UroCoin\",\"ViaCoin\",\"Vertcoin\",\"WorldCoin\",\"JouleCoin\",\"ByteCoin\",\"DigitalNote \",\"MonaCoin\",\"Gulden\",\"PesetaCoin\",\"Wild Beast Coin\",\"Flo\",\"ArtByte\",\"Folding Coin\",\"Unitus\",\"CypherPunkCoin\",\"OmniCron\",\"GreenCoin\",\"Cryptonite\",\"MasterCoin\",\"SoonCoin\",\"1Credit\",\"MarsCoin \",\"Crypto\",\"Anarchists Prime\",\"BowsCoin\",\"Song Coin\",\"BitZeny\",\"Expanse\",\"Siacoin\",\"MindCoin\",\"I0coin\",\"Revolution VR\",\"HOdlcoin\",\"Gamecredits\",\"CarpeDiemCoin\",\"Adzcoin\",\"SoilCoin\",\"YoCoin\",\"SibCoin\",\"Francs\",\"BolivarCoin\",\"Omni\",\"PizzaCoin\",\"Komodo\",\"Karbo\",\"ZayedCoin\",\"Circuits of Value\",\"DopeCoin\",\"DollarCoin\",\"Shilling\",\"ZCoin\",\"Elementrem\",\"ZClassic\",\"KiloCoin\",\"ArtexCoin\",\"Kurrent\",\"Cannabis Industry Coin\",\"OsmiumCoin\",\"Bikercoins\",\"HexxCoin\",\"PacCoin\",\"Citadel\",\"BeaverCoin\",\"VaultCoin\",\"Zero\",\"Canada eCoin\",\"Zoin\",\"DubaiCoin\",\"EB3coin\",\"Coinonat\",\"BenjiRolls\",\"ILCoin\",\"EquiTrader\",\"Quantum Resistant Ledger\",\"Dynamic\",\"Nano\",\"ChanCoin\",\"Dinastycoin\",\"DigitalPrice\",\"Unify\",\"SocialCoin\",\"ArcticCoin\",\"DAS\",\"LeviarCoin\",\"Bitcore\",\"gCn Coin\",\"SmartCash\",\"Onix\",\"Bitcoin Cash\",\"Sojourn Coin\",\"NewYorkCoin\",\"FrazCoin\",\"Kronecoin\",\"AdCoin\",\"Linx\",\"Sumokoin\",\"BitcoinZ\",\"Elements\",\"VIVO Coin\",\"Bitcoin Gold\",\"Pirl\",\"eBoost\",\"Pura\",\"Innova\",\"Ellaism\",\"GoByte\",\"SHIELD\",\"UltraNote\",\"BitCoal\",\"DaxxCoin\",\"AC3\",\"Lethean\",\"PopularCoin\",\"Photon\",\"Sucre\",\"SparksPay\",\"GunCoin\",\"IrishCoin\",\"Pioneer Coin\",\"UnitedBitcoin\",\"Interzone\",\"1717 Masonic Commemorative Token\",\"TurtleCoin\",\"MUNcoin\",\"Niobio Cash\",\"ShareChain\",\"Travelflex\",\"KREDS\",\"BitFlip\",\"LottoCoin\",\"Crypto Improvement Fund\",\"Callisto Network\",\"BitTube\",\"Poseidon\",\"Aidos Kuneen\",\"Bitrolium\",\"Alpenschillling\",\"FuturoCoin\",\"Monero Classic\",\"Jumpcoin\",\"Infinex\",\"KEYCO\",\"GINcoin\",\"PlatinCoin\",\"Loki\",\"Newton Coin\",\"MassGrid\",\"PluraCoin\",\"Motion\",\"PlusOneCoin\",\"Axe\",\"HexCoin\",\"Webchain\",\"Ryo\",\"Urals Coin\",\"Qwertycoin\",\"Project Pai\",\"Azart\",\"Xchange\",\"CrypticCoin\",\"Actinium\",\"Bitcoin SV\",\"FREDEnergy\",\"Universal Molecule\",\"Lithium\",\"Exosis\",\"Block-Logic\",\"Beam\",\"Bithereum\",\"SLICE\",\"BLAST\",\"Bitcoin Rhodium\",\"GlobalToken\",\"SolarCoin\",\"UFO Coin\",\"BlakeCoin\",\"Crypto Escudo\",\"Crown Coin\",\"SmileyCoin\",\"Groestlcoin\",\"Bata\",\"Pakcoin\",\"JoinCoin\",\"Vollar\",\"Reality Clash\",\"Beldex\",\"Horizen\"],\"TotalCoinSupply\":{\"__ndarray__\":\"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\",\"dtype\":\"float64\",\"order\":\"little\",\"shape\":[239]},\"TotalCoinsMined\":{\"__ndarray__\":\"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\",\"dtype\":\"float64\",\"order\":\"little\",\"shape\":[239]}},\"selected\":{\"id\":\"2521\"},\"selection_policy\":{\"id\":\"2540\"}},\"id\":\"2520\",\"type\":\"ColumnDataSource\"},{\"attributes\":{\"data_source\":{\"id\":\"2499\"},\"glyph\":{\"id\":\"2502\"},\"hover_glyph\":null,\"muted_glyph\":{\"id\":\"2504\"},\"nonselection_glyph\":{\"id\":\"2503\"},\"selection_glyph\":null,\"view\":{\"id\":\"2506\"}},\"id\":\"2505\",\"type\":\"GlyphRenderer\"},{\"attributes\":{\"label\":{\"value\":\"3\"},\"renderers\":[{\"id\":\"2526\"}]},\"id\":\"2542\",\"type\":\"LegendItem\"},{\"attributes\":{\"data\":{\"Class\":[2,2,2,2,2,2],\"CoinName\":[\"Vechain\",\"BiblePay\",\"LitecoinCash\",\"Poa Network\",\"Acute Angle Cloud\",\"Waves\"],\"TotalCoinSupply\":{\"__ndarray__\":\"yzX9wAIZi0AAAAAAAABKQM3MzMzMzCBAf8LZrWUyBEAAAAAAAAAkQAAAAAAAAPA/\",\"dtype\":\"float64\",\"order\":\"little\",\"shape\":[6]},\"TotalCoinsMined\":{\"__ndarray__\":\"QPz892BUgUB64ArrjbgxQOUwH/sIiRlA+sxhELtbAEAAAAAAAAAkQAAAAAAAAPA/\",\"dtype\":\"float64\",\"order\":\"little\",\"shape\":[6]}},\"selected\":{\"id\":\"2500\"},\"selection_policy\":{\"id\":\"2517\"}},\"id\":\"2499\",\"type\":\"ColumnDataSource\"},{\"attributes\":{\"overlay\":{\"id\":\"2450\"}},\"id\":\"2448\",\"type\":\"BoxZoomTool\"},{\"attributes\":{},\"id\":\"2540\",\"type\":\"UnionRenderers\"},{\"attributes\":{\"fill_alpha\":{\"value\":0.1},\"fill_color\":{\"value\":\"#e5ae38\"},\"line_alpha\":{\"value\":0.1},\"line_color\":{\"value\":\"#e5ae38\"},\"size\":{\"units\":\"screen\",\"value\":5.477225575051661},\"x\":{\"field\":\"TotalCoinsMined\"},\"y\":{\"field\":\"TotalCoinSupply\"}},\"id\":\"2503\",\"type\":\"Scatter\"},{\"attributes\":{},\"id\":\"2449\",\"type\":\"ResetTool\"},{\"attributes\":{\"margin\":[5,5,5,5],\"name\":\"HSpacer05016\",\"sizing_mode\":\"stretch_width\"},\"id\":\"2421\",\"type\":\"Spacer\"},{\"attributes\":{\"active_drag\":\"auto\",\"active_inspect\":\"auto\",\"active_multi\":null,\"active_scroll\":\"auto\",\"active_tap\":\"auto\",\"tools\":[{\"id\":\"2424\"},{\"id\":\"2445\"},{\"id\":\"2446\"},{\"id\":\"2447\"},{\"id\":\"2448\"},{\"id\":\"2449\"}]},\"id\":\"2451\",\"type\":\"Toolbar\"},{\"attributes\":{\"fill_alpha\":{\"value\":0.2},\"fill_color\":{\"value\":\"#fc4f30\"},\"line_alpha\":{\"value\":0.2},\"line_color\":{\"value\":\"#fc4f30\"},\"size\":{\"units\":\"screen\",\"value\":5.477225575051661},\"x\":{\"field\":\"TotalCoinsMined\"},\"y\":{\"field\":\"TotalCoinSupply\"}},\"id\":\"2485\",\"type\":\"Scatter\"},{\"attributes\":{},\"id\":\"2481\",\"type\":\"Selection\"},{\"attributes\":{\"label\":{\"value\":\"2\"},\"renderers\":[{\"id\":\"2505\"}]},\"id\":\"2519\",\"type\":\"LegendItem\"},{\"attributes\":{\"click_policy\":\"mute\",\"items\":[{\"id\":\"2479\"},{\"id\":\"2498\"},{\"id\":\"2519\"},{\"id\":\"2542\"}],\"location\":[0,0],\"title\":\"Class\"},\"id\":\"2478\",\"type\":\"Legend\"},{\"attributes\":{},\"id\":\"2517\",\"type\":\"UnionRenderers\"},{\"attributes\":{\"data_source\":{\"id\":\"2480\"},\"glyph\":{\"id\":\"2483\"},\"hover_glyph\":null,\"muted_glyph\":{\"id\":\"2485\"},\"nonselection_glyph\":{\"id\":\"2484\"},\"selection_glyph\":null,\"view\":{\"id\":\"2487\"}},\"id\":\"2486\",\"type\":\"GlyphRenderer\"},{\"attributes\":{\"end\":10324.168011566911,\"reset_end\":10324.168011566911,\"reset_start\":-424.28087675042156,\"start\":-424.28087675042156,\"tags\":[[[\"TotalCoinsMined\",\"TotalCoinsMined\",null]]]},\"id\":\"2422\",\"type\":\"Range1d\"},{\"attributes\":{\"fill_alpha\":{\"value\":0.1},\"fill_color\":{\"value\":\"#fc4f30\"},\"line_alpha\":{\"value\":0.1},\"line_color\":{\"value\":\"#fc4f30\"},\"size\":{\"units\":\"screen\",\"value\":5.477225575051661},\"x\":{\"field\":\"TotalCoinsMined\"},\"y\":{\"field\":\"TotalCoinSupply\"}},\"id\":\"2484\",\"type\":\"Scatter\"},{\"attributes\":{\"source\":{\"id\":\"2499\"}},\"id\":\"2506\",\"type\":\"CDSView\"},{\"attributes\":{},\"id\":\"2476\",\"type\":\"UnionRenderers\"}],\"root_ids\":[\"2420\"]},\"title\":\"Bokeh Application\",\"version\":\"2.2.3\"}};\n",
       "    var render_items = [{\"docid\":\"d38f0732-19ef-4e4c-8d49-b629ddef1be2\",\"root_ids\":[\"2420\"],\"roots\":{\"2420\":\"5cc364d1-1090-4bb0-bdac-90e5ec5b6185\"}}];\n",
       "    root.Bokeh.embed.embed_items_notebook(docs_json, render_items);\n",
       "  }\n",
       "  if (root.Bokeh !== undefined && root.Bokeh.Panel !== undefined) {\n",
       "    embed_document(root);\n",
       "  } else {\n",
       "    var attempts = 0;\n",
       "    var timer = setInterval(function(root) {\n",
       "      if (root.Bokeh !== undefined && root.Bokeh.Panel !== undefined) {\n",
       "        clearInterval(timer);\n",
       "        embed_document(root);\n",
       "      } else if (document.readyState == \"complete\") {\n",
       "        attempts++;\n",
       "        if (attempts > 100) {\n",
       "          clearInterval(timer);\n",
       "          console.log(\"Bokeh: ERROR: Unable to run BokehJS code because BokehJS library is missing\");\n",
       "        }\n",
       "      }\n",
       "    }, 10, root)\n",
       "  }\n",
       "})(window);</script>"
      ],
      "text/plain": [
       ":NdOverlay   [Class]\n",
       "   :Scatter   [TotalCoinsMined]   (TotalCoinSupply,CoinName)"
      ]
     },
     "execution_count": 105,
     "metadata": {
      "application/vnd.holoviews_exec.v0+json": {
       "id": "2420"
      }
     },
     "output_type": "execute_result"
    }
   ],
   "source": [
    "# Plot the scatter with x=\"TotalCoinsMined\" and y=\"TotalCoinSupply\"\n",
    "clustered_df.hvplot(\n",
    "    kind=\"scatter\",\n",
    "    x= \"TotalCoinsMined\",\n",
    "    y= \"TotalCoinSupply\",\n",
    "    hover_cols=[\"CoinName\"],\n",
    "    by= \"Class\")"
   ]
  },
  {
   "cell_type": "code",
   "execution_count": null,
   "metadata": {},
   "outputs": [],
   "source": []
  }
 ],
 "metadata": {
  "file_extension": ".py",
  "kernelspec": {
   "display_name": "Python 3",
   "language": "python",
   "name": "python3"
  },
  "language_info": {
   "codemirror_mode": {
    "name": "ipython",
    "version": 3
   },
   "file_extension": ".py",
   "mimetype": "text/x-python",
   "name": "python",
   "nbconvert_exporter": "python",
   "pygments_lexer": "ipython3",
   "version": "3.8.2"
  },
  "mimetype": "text/x-python",
  "name": "python",
  "npconvert_exporter": "python",
  "pygments_lexer": "ipython3",
  "version": 3
 },
 "nbformat": 4,
 "nbformat_minor": 4
}
